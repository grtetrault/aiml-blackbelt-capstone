{
 "cells": [
  {
   "cell_type": "markdown",
   "id": "fa2cb9bc",
   "metadata": {},
   "source": [
    "# 3a- Training with built-in LinearLearner <a class=\"anchor\" id=\"top\"></a>\n",
    "* [Introduction](#intro)\n",
    "* [Setup](#setup)\n",
    "* [Estimator creation](#estim)\n",
    "* [Evaluate training result](#eval)\n",
    "    * [Create endpoint to test model](#endpoint)\n",
    "    * [ Analysis of training results](#analysis)\n",
    "* [Cleanup resources](#clean)"
   ]
  },
  {
   "cell_type": "markdown",
   "id": "93bb0377",
   "metadata": {},
   "source": [
    "## Introduction <a class=\"anchor\" id=\"intro\"></a>\n",
    "In this notebook, we will train a Linear Learner model, evaluate the training performance, and output model artifacts.\n",
    "Linear Learner is based on logistic regression models.\n",
    "We will be using Amazon's built-in Linear Learner implementation which has an internal model jyperparameter tuning mechanism."
   ]
  },
  {
   "cell_type": "markdown",
   "id": "404b7a48",
   "metadata": {},
   "source": [
    "## Setup <a class=\"anchor\" id=\"setup\"></a>\n",
    "First, we import Sageamker SDK dependencies as well as modules used in application below.\n",
    "We also get relevant sessions and read in local environment data."
   ]
  },
  {
   "cell_type": "code",
   "execution_count": null,
   "id": "26d62c2b",
   "metadata": {},
   "outputs": [],
   "source": [
    "import json\n",
    "import uuid\n",
    "import boto3\n",
    "import random\n",
    "import tarfile\n",
    "import pickle as pkl\n",
    "import datetime as dt\n",
    "import sagemaker as sm\n",
    "\n",
    "import numpy as np\n",
    "import pandas as pd\n",
    "import seaborn as sns\n",
    "import matplotlib.pyplot as plt\n",
    "import sklearn.metrics as metrics\n",
    "sns.set_style(\"darkgrid\")"
   ]
  },
  {
   "cell_type": "code",
   "execution_count": null,
   "id": "5a6057f4",
   "metadata": {},
   "outputs": [],
   "source": [
    "sm_session = sm.Session()\n",
    "role = sm.get_execution_role()\n",
    "boto3_session = boto3.session.Session()\n",
    "now = dt.datetime.now().strftime(r\"%Y%m%dT%H%M%S\")"
   ]
  },
  {
   "cell_type": "code",
   "execution_count": null,
   "id": "65a00c6d",
   "metadata": {},
   "outputs": [],
   "source": [
    "# Get boto3 session attributes.\n",
    "account = boto3_session.client(\"sts\").get_caller_identity()[\"Account\"]\n",
    "region = boto3_session.region_name\n",
    "\n",
    "# Create clients to access S3.\n",
    "s3_client = boto3_session.client(\"s3\")\n",
    "s3_resource = boto3_session.resource(\"s3\")"
   ]
  },
  {
   "cell_type": "code",
   "execution_count": null,
   "id": "d5d10db7",
   "metadata": {},
   "outputs": [],
   "source": [
    "# Retrieve data and model bucket names.\n",
    "with open(\"/home/ec2-user/.aiml-bb/stack-data.json\", \"r\") as f:\n",
    "    data = json.load(f)\n",
    "    data_bucket = data[\"data_bucket\"]\n",
    "    model_bucket = data[\"model_bucket\"]"
   ]
  },
  {
   "cell_type": "markdown",
   "id": "7a410656",
   "metadata": {},
   "source": [
    "## Estimator creation <a class=\"anchor\" id=\"estim\"></a>\n",
    "We can now create the Linear Learner estimator, using Amazon's built-in implementation.\n",
    "Because the model is managed for us, there is little to do in way of setup."
   ]
  },
  {
   "cell_type": "code",
   "execution_count": 5,
   "id": "43c325ba",
   "metadata": {},
   "outputs": [],
   "source": [
    "# Get Linear Learner container image for current region.\n",
    "ll_container_image = sm.image_uris.retrieve(\"linear-learner\", region)\n",
    "\n",
    "# Create a unique training job name.\n",
    "training_job_name = f\"'ll-{str(uuid.uuid4())[:8]}\""
   ]
  },
  {
   "cell_type": "code",
   "execution_count": 6,
   "id": "4146badc",
   "metadata": {},
   "outputs": [],
   "source": [
    "train_input = sm.inputs.TrainingInput(\n",
    "    s3_data=f\"s3://{data_bucket}/preprocessing_output/train/\", \n",
    "    content_type=\"text/csv\"\n",
    ")\n",
    "validation_input = sm.inputs.TrainingInput(\n",
    "    s3_data=f\"s3://{data_bucket}/preprocessing_output/validation/\",\n",
    "    content_type=\"text/csv\"\n",
    ")"
   ]
  },
  {
   "cell_type": "code",
   "execution_count": 7,
   "id": "c179f838",
   "metadata": {},
   "outputs": [],
   "source": [
    "# Create estimator running the Linear Learner container.\n",
    "ll_estimator = sm.estimator.Estimator(\n",
    "    ll_container_image,\n",
    "    role, \n",
    "    instance_count=1, \n",
    "    instance_type=\"ml.m5.4xlarge\",\n",
    "    volume_size=20,\n",
    "    output_path=f\"s3://{model_bucket}/sagemaker-linear-learner/\"\n",
    ")"
   ]
  },
  {
   "cell_type": "code",
   "execution_count": null,
   "id": "30c944a7",
   "metadata": {
    "scrolled": false
   },
   "outputs": [],
   "source": [
    "# Define starting hyperparameters for the model.\n",
    "ll_estimator.set_hyperparameters(\n",
    "    predictor_type=\"binary_classifier\",\n",
    "    binary_classifier_model_selection_criteria=\"precision_at_target_recall\",\n",
    ")\n",
    "ll_estimator.fit(\n",
    "    {\"train\": train_input, \"validation\": validation_input}\n",
    ")"
   ]
  },
  {
   "cell_type": "code",
   "execution_count": null,
   "id": "d837de1f",
   "metadata": {},
   "outputs": [],
   "source": [
    "# Copy model to location we can reference in other notebooks.\n",
    "copy_source = {\n",
    "    \"Bucket\": model_bucket,\n",
    "    \"Key\": ll_estimator.model_data.replace(f\"s3://{model_bucket}/\", \"\")\n",
    "}\n",
    "s3_resource.Bucket(model_bucket).copy(\n",
    "    copy_source, \n",
    "     \"sagemaker-linear-learner-latest/model.tar.gz\"\n",
    ")"
   ]
  },
  {
   "cell_type": "markdown",
   "id": "e1674a16",
   "metadata": {},
   "source": [
    "## Evaluate training results <a class=\"anchor\" id=\"eval\"></a>\n",
    "Lastly, we evaluate the results of training against the testing data set.\n",
    "To test this model, we will create and endpoint that we can send the testing data to synchronously.\n",
    "Note that this data set is not included in training and has never been seen by the model."
   ]
  },
  {
   "cell_type": "markdown",
   "id": "e3d9ea0a",
   "metadata": {},
   "source": [
    "### Create endpoint to test model <a class=\"anchor\" id=\"endpoint\"></a>"
   ]
  },
  {
   "cell_type": "code",
   "execution_count": 13,
   "id": "4cbe015c",
   "metadata": {},
   "outputs": [
    {
     "name": "stdout",
     "output_type": "stream",
     "text": [
      "-----!"
     ]
    }
   ],
   "source": [
    "# Create model and endpoint from best fitted estimator above.\n",
    "ll_model = sm.model.Model(\n",
    "    image_uri=ll_container_image,\n",
    "    model_data=f\"s3://{model_bucket}/sagemaker-linear-learner-latest/model.tar.gz\",\n",
    "    role=role\n",
    ")\n",
    "endpoint_name = f\"ll-test-endpt-{now}\"\n",
    "ll_model.deploy(\n",
    "    initial_instance_count=1,\n",
    "    instance_type=\"ml.m5.xlarge\",\n",
    "    endpoint_name=endpoint_name\n",
    ")"
   ]
  },
  {
   "cell_type": "code",
   "execution_count": 14,
   "id": "ec67ac7c",
   "metadata": {},
   "outputs": [],
   "source": [
    "# Connect a predictor to the endpoint for inference.\n",
    "ll_predictor = sm.predictor.Predictor(\n",
    "    endpoint_name=endpoint_name,\n",
    "    sagemaker_session=sm_session,\n",
    "    serializer=sm.serializers.CSVSerializer(\n",
    "        content_type=\"text/csv\"\n",
    "    )\n",
    ")"
   ]
  },
  {
   "cell_type": "code",
   "execution_count": null,
   "id": "00a98643",
   "metadata": {},
   "outputs": [],
   "source": [
    "# Iterate over testing data and compute statistics.\n",
    "list_objs_response = s3_client.list_objects_v2(\n",
    "    Bucket=data_bucket, \n",
    "    Prefix=\"preprocessing_output/train\"\n",
    ")\n",
    "\n",
    "# Arrays to keep track of results.\n",
    "test_actuals = []\n",
    "test_predictions = []\n",
    "for obj in list_objs_response[\"Contents\"]:\n",
    "    \n",
    "    # Iterate over lines in object contents via stream.\n",
    "    obj_resource = s3_resource.Object(data_bucket, obj[\"Key\"])\n",
    "    for line in obj_resource.get()[\"Body\"].iter_lines():\n",
    "        target, features = line.decode(\"utf-8\").split(\",\", maxsplit=1)\n",
    "        features = features.strip()\n",
    "        predict_response = json.loads(ll_predictor.predict(features))\n",
    "        prediction = predict_response[\"predictions\"][0][\"predicted_label\"]\n",
    "        \n",
    "        test_actuals.append(float(target))\n",
    "        test_predictions.append(float(prediction))"
   ]
  },
  {
   "cell_type": "markdown",
   "id": "28e9b0d4",
   "metadata": {},
   "source": [
    "### Analysis of training results <a class=\"anchor\" id=\"analysis\"></a>\n",
    "Lastly, we analyze the performance of the model against the testing data set."
   ]
  },
  {
   "cell_type": "code",
   "execution_count": 21,
   "id": "481a20d2",
   "metadata": {},
   "outputs": [],
   "source": [
    "# Wrap lists in numpy arrays for analysis.\n",
    "test_actuals_np = np.array(test_actuals)\n",
    "test_predictions_np = np.array(test_predictions)"
   ]
  },
  {
   "cell_type": "code",
   "execution_count": 22,
   "id": "f8dfa21d",
   "metadata": {},
   "outputs": [
    {
     "data": {
      "text/plain": [
       "1510649"
      ]
     },
     "execution_count": 22,
     "metadata": {},
     "output_type": "execute_result"
    }
   ],
   "source": [
    "len(test_actuals_np)"
   ]
  },
  {
   "cell_type": "code",
   "execution_count": 23,
   "id": "98efd40b",
   "metadata": {},
   "outputs": [
    {
     "name": "stdout",
     "output_type": "stream",
     "text": [
      "{\n",
      "    \"accuracy\": 0.5514808535933894,\n",
      "    \"precision\": 0.478880500931949,\n",
      "    \"recall\": 0.809270207917927,\n",
      "    \"f1\": 0.60170556114984,\n",
      "    \"auc\": 0.5875591699275642\n",
      "}\n"
     ]
    }
   ],
   "source": [
    "# Compute summary statistics on perfomance.\n",
    "performance_statistics = {\n",
    "    \"accuracy\": metrics.accuracy_score(test_actuals_np, test_predictions_np),\n",
    "    \"precision\": metrics.precision_score(test_actuals_np, test_predictions_np),\n",
    "    \"recall\": metrics.recall_score(test_actuals_np, test_predictions_np),\n",
    "    \"f1\": metrics.f1_score(test_actuals_np, test_predictions_np),\n",
    "    \"auc\": metrics.roc_auc_score(test_actuals_np, test_predictions_np),\n",
    "}\n",
    "print(json.dumps(performance_statistics, indent=4))"
   ]
  },
  {
   "cell_type": "code",
   "execution_count": 24,
   "id": "d1b58574",
   "metadata": {},
   "outputs": [
    {
     "data": {
      "image/png": "[encoded data removed]",
      "text/plain": [
       "<Figure size 576x432 with 2 Axes>"
      ]
     },
     "metadata": {},
     "output_type": "display_data"
    }
   ],
   "source": [
    "# Compute confusion matrix.\n",
    "confusion_df = pd.crosstab(\n",
    "    test_actuals_np, \n",
    "    test_predictions_np, \n",
    "    rownames=[\"Actuals\"], \n",
    "    colnames=[\"Predictions\"]\n",
    ")\n",
    "norm_confusion_df = confusion_df / confusion_df.sum(axis=1)\n",
    "\n",
    "# Show confusion matrix.\n",
    "fig, ax = plt.subplots(figsize=(8, 6))\n",
    "sns.heatmap(\n",
    "    norm_confusion_df, \n",
    "    vmin=-1.0, vmax=1.0, annot=True, fmt=\".2f\", \n",
    "    ax=ax\n",
    ")\n",
    "ax.set_title(\"Confusion matrix of testing results\")\n",
    "plt.show()"
   ]
  },
  {
   "cell_type": "code",
   "execution_count": 25,
   "id": "de47d3fc",
   "metadata": {},
   "outputs": [
    {
     "data": {
      "image/png": "[encoded data removed]",
      "text/plain": [
       "<Figure size 576x432 with 1 Axes>"
      ]
     },
     "metadata": {},
     "output_type": "display_data"
    }
   ],
   "source": [
    "# Compute ROC curve.\n",
    "fpr, tpr, thresholds = metrics.roc_curve(test_actuals_np, test_predictions_np)\n",
    "\n",
    "# Plot ROC matrix.\n",
    "fig, ax = plt.subplots(figsize=(8, 6))\n",
    "ax.plot(fpr, tpr, label=\"ROC\")\n",
    "ax.plot([0, 1], [0, 1], linestyle=\"--\")\n",
    "ax.set_xlabel(\"False positive rate\")\n",
    "ax.set_ylabel(\"True positive rate\")\n",
    "ax.set_title(\"Receiver operating characteristic curve\")\n",
    "ax.legend()\n",
    "plt.show()"
   ]
  },
  {
   "cell_type": "markdown",
   "id": "a58e4f74",
   "metadata": {},
   "source": [
    "## Cleanup resources <a class=\"anchor\" id=\"clean\"></a>\n",
    "Because this is a temporary project, delete the endpoint."
   ]
  },
  {
   "cell_type": "code",
   "execution_count": 26,
   "id": "9467a1ac",
   "metadata": {},
   "outputs": [],
   "source": [
    "ll_predictor.delete_endpoint()"
   ]
  },
  {
   "cell_type": "code",
   "execution_count": null,
   "id": "490cd9ba",
   "metadata": {},
   "outputs": [],
   "source": []
  }
 ],
 "metadata": {
  "kernelspec": {
   "display_name": "conda_python3",
   "language": "python",
   "name": "conda_python3"
  },
  "language_info": {
   "codemirror_mode": {
    "name": "ipython",
    "version": 3
   },
   "file_extension": ".py",
   "mimetype": "text/x-python",
   "name": "python",
   "nbconvert_exporter": "python",
   "pygments_lexer": "ipython3",
   "version": "3.6.13"
  }
 },
 "nbformat": 4,
 "nbformat_minor": 5
}
