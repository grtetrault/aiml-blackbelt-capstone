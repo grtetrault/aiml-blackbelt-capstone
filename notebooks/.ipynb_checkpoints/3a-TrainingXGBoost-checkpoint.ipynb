{
 "cells": [
  {
   "cell_type": "markdown",
   "id": "b6b37a9e",
   "metadata": {},
   "source": [
    "# 3a - Training Amazon's XGBoost"
   ]
  },
  {
   "cell_type": "markdown",
   "id": "76011309",
   "metadata": {},
   "source": [
    "## Introduction\n",
    "In this notebook, we will train Amazon's XGBoost implementation, evaluate the training performance, and output model artifacts."
   ]
  },
  {
   "cell_type": "markdown",
   "id": "fc249a72",
   "metadata": {},
   "source": [
    "## Setup"
   ]
  },
  {
   "cell_type": "code",
   "execution_count": 1,
   "id": "79789be1",
   "metadata": {},
   "outputs": [],
   "source": [
    "import json\n",
    "import uuid\n",
    "import boto3\n",
    "import random\n",
    "import sagemaker as sm"
   ]
  },
  {
   "cell_type": "code",
   "execution_count": 2,
   "id": "711ffdcb",
   "metadata": {},
   "outputs": [],
   "source": [
    "sm_session = sm.Session()\n",
    "role = sm.get_execution_role()\n",
    "boto3_session = boto3.session.Session()"
   ]
  },
  {
   "cell_type": "code",
   "execution_count": 3,
   "id": "0a14028f",
   "metadata": {},
   "outputs": [],
   "source": [
    "# Get boto3 session attributes.\n",
    "account = boto3_session.client(\"sts\").get_caller_identity()[\"Account\"]\n",
    "region = boto3_session.region_name\n",
    "\n",
    "# Create S3 resource and retrieve data bucket name.\n",
    "s3_resource = boto3_session.resource(\"s3\")\n",
    "with open(\"/home/ec2-user/.aiml-bb/stack-data.json\", \"r\") as f:\n",
    "    data = json.load(f)\n",
    "    data_bucket = data[\"data_bucket\"]\n",
    "    model_bucket = data[\"model_bucket\"]"
   ]
  },
  {
   "cell_type": "markdown",
   "id": "f39a5e08",
   "metadata": {},
   "source": [
    "## Define resources for estimator"
   ]
  },
  {
   "cell_type": "code",
   "execution_count": 4,
   "id": "33722fb0",
   "metadata": {},
   "outputs": [],
   "source": [
    "# Get XGBoost container image for current region.\n",
    "xgb_container_image = sm.image_uris.retrieve(\"xgboost\", region, \"latest\")\n",
    "\n",
    "# Create a unique training job name.\n",
    "training_job_name = f\"xgboost-{str(uuid.uuid4())[:8]}\""
   ]
  },
  {
   "cell_type": "code",
   "execution_count": 12,
   "id": "feb3eb70",
   "metadata": {},
   "outputs": [],
   "source": [
    "train_input = sm.inputs.TrainingInput(\n",
    "    s3_data=f\"s3://{model_bucket}/preprocessing_output/train_data/\", \n",
    "    content_type=\"csv\"\n",
    ")\n",
    "validation_input = sm.inputs.TrainingInput(\n",
    "    s3_data=f\"s3://{model_bucket}/preprocessing_output/validate_data/\", \n",
    "    content_type=\"csv\"\n",
    ")"
   ]
  },
  {
   "cell_type": "markdown",
   "id": "ea16330f",
   "metadata": {},
   "source": [
    "## Create and fit estimator"
   ]
  },
  {
   "cell_type": "code",
   "execution_count": 15,
   "id": "e806fd96",
   "metadata": {},
   "outputs": [],
   "source": [
    "# Create estimator running the XGBoost container.\n",
    "xgb_estimator = sm.estimator.Estimator(\n",
    "    xgb_container_image,\n",
    "    role, \n",
    "    instance_count=4, \n",
    "    instance_type=\"ml.m5.4xlarge\",\n",
    "    output_path=f\"s3://{model_bucket}/sagemaker-xgboost/\"\n",
    ")\n",
    "# Define all hyperparameters for the model.\n",
    "xgb_estimator.set_hyperparameters(\n",
    "    max_depth=5,\n",
    "    eta=0.2,\n",
    "    gamma=4,\n",
    "    min_child_weight=6,\n",
    "    subsample=0.8,\n",
    "    silent=0,\n",
    "    objective=\"binary:logistic\",\n",
    "    num_round=100\n",
    ")"
   ]
  },
  {
   "cell_type": "code",
   "execution_count": null,
   "id": "3b398417",
   "metadata": {},
   "outputs": [
    {
     "name": "stdout",
     "output_type": "stream",
     "text": [
      "2022-01-25 02:15:05 Starting - Starting the training job...\n",
      "2022-01-25 02:15:31 Starting - Launching requested ML instancesProfilerReport-1643076905: InProgress\n",
      "......\n",
      "2022-01-25 02:16:31 Starting - Preparing the instances for training......."
     ]
    }
   ],
   "source": [
    "# Fit the model.\n",
    "xgb_estimator.fit({\"train\": train_input, \"validation\": validation_input})"
   ]
  },
  {
   "cell_type": "code",
   "execution_count": null,
   "id": "01cc085e",
   "metadata": {},
   "outputs": [],
   "source": [
    "# Monitor the status until completed.\n",
    "job_run_status = (\n",
    "    sm.describe_training_job(TrainingJobName=training_job_name)\n",
    "    [\"TrainingJobStatus\"]\n",
    ")\n",
    "while job_run_status not in (\"Failed\", \"Completed\", \"Stopped\"):\n",
    "    print(job_run_status)\n",
    "    time.sleep(30)\n",
    "    \n",
    "    # Get status again after heartbeat.\n",
    "    job_run_status = (\n",
    "        sm.describe_training_job(TrainingJobName=training_job_name)\n",
    "        [\"TrainingJobStatus\"]\n",
    "    )"
   ]
  }
 ],
 "metadata": {
  "kernelspec": {
   "display_name": "conda_python3",
   "language": "python",
   "name": "conda_python3"
  },
  "language_info": {
   "codemirror_mode": {
    "name": "ipython",
    "version": 3
   },
   "file_extension": ".py",
   "mimetype": "text/x-python",
   "name": "python",
   "nbconvert_exporter": "python",
   "pygments_lexer": "ipython3",
   "version": "3.6.13"
  }
 },
 "nbformat": 4,
 "nbformat_minor": 5
}
