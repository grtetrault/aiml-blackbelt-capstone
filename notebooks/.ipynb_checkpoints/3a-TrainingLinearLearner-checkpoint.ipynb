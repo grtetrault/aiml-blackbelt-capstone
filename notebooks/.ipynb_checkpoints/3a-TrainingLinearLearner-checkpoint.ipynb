{
 "cells": [
  {
   "cell_type": "markdown",
   "id": "691b9545",
   "metadata": {},
   "source": [
    "# 3a - Training Amazon's XGBoost <a class=\"anchor\" id=\"top\"></a>\n",
    "* [Introduction](#intro)\n",
    "* [Setup](#setup)\n",
    "* [Estimator creation](#estim)\n",
    "    * [Define estimator](#define)\n",
    "    * [Train estimator and tune parameters](#tune)\n",
    "* [Evaluate training result](#eval)\n",
    "* [Cleanup resources](#clean)"
   ]
  },
  {
   "cell_type": "markdown",
   "id": "189fe05f",
   "metadata": {},
   "source": [
    "## Introduction <a class=\"anchor\" id=\"intro\"></a>\n",
    "In this notebook, we will train an XGBoost model, evaluate the training performance, and output model artifacts.\n",
    "XGBoost is a regularizing gradient boosting framework with proven performance in ML competitions.\n",
    "Additionally, the algorithm has a variety of hyperparameters, which allows for signigicant gains to be had by way of tuning.\n",
    "We will be using Amazon's built-in XGBoost implementation, which integrates nicely with their hyperparameter tuner."
   ]
  },
  {
   "cell_type": "markdown",
   "id": "cb571ee9",
   "metadata": {},
   "source": [
    "## Setup <a class=\"anchor\" id=\"setup\"></a>\n",
    "First, we import Sageamker SDK dependencies as well as modules used in application below.\n",
    "We also get relevant sessions and read in local environment data."
   ]
  },
  {
   "cell_type": "code",
   "execution_count": 28,
   "id": "ca27d268",
   "metadata": {},
   "outputs": [],
   "source": [
    "import json\n",
    "import uuid\n",
    "import boto3\n",
    "import random\n",
    "import tarfile\n",
    "import pickle as pkl\n",
    "import datetime as dt\n",
    "import sagemaker as sm\n",
    "import sagemaker.xgboost as xgb\n",
    "\n",
    "import numpy as np\n",
    "import pandas as pd\n",
    "import seaborn as sns\n",
    "import matplotlib.pyplot as plt\n",
    "import sklearn.metrics as metrics\n",
    "sns.set_style(\"darkgrid\")"
   ]
  },
  {
   "cell_type": "code",
   "execution_count": 2,
   "id": "873df557",
   "metadata": {},
   "outputs": [],
   "source": [
    "sm_session = sm.Session()\n",
    "role = sm.get_execution_role()\n",
    "boto3_session = boto3.session.Session()\n",
    "now = dt.datetime.now().strftime(r\"%Y%m%dT%H%M%S\")"
   ]
  },
  {
   "cell_type": "code",
   "execution_count": 3,
   "id": "fa1c66e8",
   "metadata": {},
   "outputs": [],
   "source": [
    "# Get boto3 session attributes.\n",
    "account = boto3_session.client(\"sts\").get_caller_identity()[\"Account\"]\n",
    "region = boto3_session.region_name\n",
    "\n",
    "# Create clients to access S3.\n",
    "s3_client = boto3_session.client(\"s3\")\n",
    "s3_resource = boto3_session.resource(\"s3\")"
   ]
  },
  {
   "cell_type": "code",
   "execution_count": 4,
   "id": "a0f11d8d",
   "metadata": {},
   "outputs": [],
   "source": [
    "# Retrieve data and model bucket names.\n",
    "with open(\"/home/ec2-user/.aiml-bb/stack-data.json\", \"r\") as f:\n",
    "    data = json.load(f)\n",
    "    data_bucket = data[\"data_bucket\"]\n",
    "    model_bucket = data[\"model_bucket\"]"
   ]
  },
  {
   "cell_type": "markdown",
   "id": "f6477938",
   "metadata": {},
   "source": [
    "## Estimator creation <a class=\"anchor\" id=\"estim\"></a>\n",
    "We can now create the XGBoost estimator, using Amazon's built-in implementation.\n",
    "Because the model is managed for us, there is little to do in way of setup."
   ]
  },
  {
   "cell_type": "markdown",
   "id": "4ddbd598",
   "metadata": {},
   "source": [
    "### Define estimator <a class=\"anchor\" id=\"define\"></a>\n",
    "Here we create the `Estimator` object, and all resources that are required to do so."
   ]
  },
  {
   "cell_type": "code",
   "execution_count": 5,
   "id": "210c9960",
   "metadata": {},
   "outputs": [],
   "source": [
    "# Get XGBoost container image for current region.\n",
    "xgb_container_image = sm.image_uris.retrieve(\"xgboost\", region, \"latest\")\n",
    "\n",
    "# Create a unique training job name.\n",
    "training_job_name = f\"xgboost-{str(uuid.uuid4())[:8]}\""
   ]
  },
  {
   "cell_type": "code",
   "execution_count": 6,
   "id": "15b0ed32",
   "metadata": {},
   "outputs": [],
   "source": [
    "train_input = sm.inputs.TrainingInput(\n",
    "    s3_data=f\"s3://{data_bucket}/preprocessing_output/train/\", \n",
    "    content_type=\"csv\"\n",
    ")\n",
    "validation_input = sm.inputs.TrainingInput(\n",
    "    s3_data=f\"s3://{data_bucket}/preprocessing_output/validation/\",\n",
    "    content_type=\"csv\"\n",
    ")"
   ]
  },
  {
   "cell_type": "code",
   "execution_count": 7,
   "id": "ebe3251b",
   "metadata": {},
   "outputs": [],
   "source": [
    "# Create estimator running the XGBoost container.\n",
    "xgb_estimator = sm.estimator.Estimator(\n",
    "    xgb_container_image,\n",
    "    role, \n",
    "    instance_count=1, \n",
    "    instance_type=\"ml.m5.12xlarge\",\n",
    "    volume_size=50,\n",
    "    output_path=f\"s3://{model_bucket}/sagemaker-xgboost/\"\n",
    ")"
   ]
  },
  {
   "cell_type": "markdown",
   "id": "f3319461",
   "metadata": {},
   "source": [
    "### Train estimator and tune parameters <a class=\"anchor\" id=\"tune\"></a>\n",
    "Hyperparameters are now defined as well as valid ranges.\n",
    "We then attach a `HyperparameterTuner` and fit the tuner."
   ]
  },
  {
   "cell_type": "code",
   "execution_count": 8,
   "id": "36099341",
   "metadata": {},
   "outputs": [],
   "source": [
    "# Define starting hyperparameters for the model.\n",
    "xgb_estimator.set_hyperparameters(\n",
    "    eval_metric=\"auc\",\n",
    "    objective=\"binary:logistic\",\n",
    "    max_depth=6,\n",
    "    eta=0.2,\n",
    "    alpha=2.0,\n",
    "    gamma=4,\n",
    "    min_child_weight=8,\n",
    "    subsample=0.8,\n",
    "    silent=0,\n",
    "    num_round=100,\n",
    "    early_stopping_rounds=25\n",
    ")\n",
    "# Set ranges of XGBoost hyperparameters for tuning.\n",
    "xgb_hyperparameter_ranges = {\n",
    "    \"eta\": sm.tuner.ContinuousParameter(0, 1),\n",
    "    \"alpha\": sm.tuner.ContinuousParameter(0, 3),\n",
    "    \"min_child_weight\": sm.tuner.ContinuousParameter(1, 10),\n",
    "    \"max_depth\": sm.tuner.IntegerParameter(1, 10)\n",
    "}"
   ]
  },
  {
   "cell_type": "code",
   "execution_count": 9,
   "id": "04ae7ebf",
   "metadata": {},
   "outputs": [
    {
     "name": "stdout",
     "output_type": "stream",
     "text": [
      "............................................................................................................................................................................................................................................................................................................................................................................................................................................................................................................................................................................................................"
     ]
    },
    {
     "ename": "KeyboardInterrupt",
     "evalue": "",
     "output_type": "error",
     "traceback": [
      "\u001b[0;31m---------------------------------------------------------------------------\u001b[0m",
      "\u001b[0;31mKeyboardInterrupt\u001b[0m                         Traceback (most recent call last)",
      "\u001b[0;32m<ipython-input-9-fcae9f052adc>\u001b[0m in \u001b[0;36m<module>\u001b[0;34m\u001b[0m\n\u001b[1;32m     10\u001b[0m )\n\u001b[1;32m     11\u001b[0m xgb_tuner.fit(\n\u001b[0;32m---> 12\u001b[0;31m     \u001b[0;34m{\u001b[0m\u001b[0;34m\"train\"\u001b[0m\u001b[0;34m:\u001b[0m \u001b[0mtrain_input\u001b[0m\u001b[0;34m,\u001b[0m \u001b[0;34m\"validation\"\u001b[0m\u001b[0;34m:\u001b[0m \u001b[0mvalidation_input\u001b[0m\u001b[0;34m}\u001b[0m\u001b[0;34m\u001b[0m\u001b[0;34m\u001b[0m\u001b[0m\n\u001b[0m\u001b[1;32m     13\u001b[0m )\n",
      "\u001b[0;32m~/anaconda3/envs/python3/lib/python3.6/site-packages/sagemaker/tuner.py\u001b[0m in \u001b[0;36mfit\u001b[0;34m(self, inputs, job_name, include_cls_metadata, estimator_kwargs, wait, **kwargs)\u001b[0m\n\u001b[1;32m    449\u001b[0m \u001b[0;34m\u001b[0m\u001b[0m\n\u001b[1;32m    450\u001b[0m         \u001b[0;32mif\u001b[0m \u001b[0mwait\u001b[0m\u001b[0;34m:\u001b[0m\u001b[0;34m\u001b[0m\u001b[0;34m\u001b[0m\u001b[0m\n\u001b[0;32m--> 451\u001b[0;31m             \u001b[0mself\u001b[0m\u001b[0;34m.\u001b[0m\u001b[0mlatest_tuning_job\u001b[0m\u001b[0;34m.\u001b[0m\u001b[0mwait\u001b[0m\u001b[0;34m(\u001b[0m\u001b[0;34m)\u001b[0m\u001b[0;34m\u001b[0m\u001b[0;34m\u001b[0m\u001b[0m\n\u001b[0m\u001b[1;32m    452\u001b[0m \u001b[0;34m\u001b[0m\u001b[0m\n\u001b[1;32m    453\u001b[0m     \u001b[0;32mdef\u001b[0m \u001b[0m_fit_with_estimator\u001b[0m\u001b[0;34m(\u001b[0m\u001b[0mself\u001b[0m\u001b[0;34m,\u001b[0m \u001b[0minputs\u001b[0m\u001b[0;34m,\u001b[0m \u001b[0mjob_name\u001b[0m\u001b[0;34m,\u001b[0m \u001b[0minclude_cls_metadata\u001b[0m\u001b[0;34m,\u001b[0m \u001b[0;34m**\u001b[0m\u001b[0mkwargs\u001b[0m\u001b[0;34m)\u001b[0m\u001b[0;34m:\u001b[0m\u001b[0;34m\u001b[0m\u001b[0;34m\u001b[0m\u001b[0m\n",
      "\u001b[0;32m~/anaconda3/envs/python3/lib/python3.6/site-packages/sagemaker/tuner.py\u001b[0m in \u001b[0;36mwait\u001b[0;34m(self)\u001b[0m\n\u001b[1;32m   1595\u001b[0m     \u001b[0;32mdef\u001b[0m \u001b[0mwait\u001b[0m\u001b[0;34m(\u001b[0m\u001b[0mself\u001b[0m\u001b[0;34m)\u001b[0m\u001b[0;34m:\u001b[0m\u001b[0;34m\u001b[0m\u001b[0;34m\u001b[0m\u001b[0m\n\u001b[1;32m   1596\u001b[0m         \u001b[0;34m\"\"\"Placeholder docstring.\"\"\"\u001b[0m\u001b[0;34m\u001b[0m\u001b[0;34m\u001b[0m\u001b[0m\n\u001b[0;32m-> 1597\u001b[0;31m         \u001b[0mself\u001b[0m\u001b[0;34m.\u001b[0m\u001b[0msagemaker_session\u001b[0m\u001b[0;34m.\u001b[0m\u001b[0mwait_for_tuning_job\u001b[0m\u001b[0;34m(\u001b[0m\u001b[0mself\u001b[0m\u001b[0;34m.\u001b[0m\u001b[0mname\u001b[0m\u001b[0;34m)\u001b[0m\u001b[0;34m\u001b[0m\u001b[0;34m\u001b[0m\u001b[0m\n\u001b[0m\u001b[1;32m   1598\u001b[0m \u001b[0;34m\u001b[0m\u001b[0m\n\u001b[1;32m   1599\u001b[0m \u001b[0;34m\u001b[0m\u001b[0m\n",
      "\u001b[0;32m~/anaconda3/envs/python3/lib/python3.6/site-packages/sagemaker/session.py\u001b[0m in \u001b[0;36mwait_for_tuning_job\u001b[0;34m(self, job, poll)\u001b[0m\n\u001b[1;32m   3252\u001b[0m             \u001b[0mexceptions\u001b[0m\u001b[0;34m.\u001b[0m\u001b[0mUnexpectedStatusException\u001b[0m\u001b[0;34m:\u001b[0m \u001b[0mIf\u001b[0m \u001b[0mthe\u001b[0m \u001b[0mhyperparameter\u001b[0m \u001b[0mtuning\u001b[0m \u001b[0mjob\u001b[0m \u001b[0mfails\u001b[0m\u001b[0;34m.\u001b[0m\u001b[0;34m\u001b[0m\u001b[0;34m\u001b[0m\u001b[0m\n\u001b[1;32m   3253\u001b[0m         \"\"\"\n\u001b[0;32m-> 3254\u001b[0;31m         \u001b[0mdesc\u001b[0m \u001b[0;34m=\u001b[0m \u001b[0m_wait_until\u001b[0m\u001b[0;34m(\u001b[0m\u001b[0;32mlambda\u001b[0m\u001b[0;34m:\u001b[0m \u001b[0m_tuning_job_status\u001b[0m\u001b[0;34m(\u001b[0m\u001b[0mself\u001b[0m\u001b[0;34m.\u001b[0m\u001b[0msagemaker_client\u001b[0m\u001b[0;34m,\u001b[0m \u001b[0mjob\u001b[0m\u001b[0;34m)\u001b[0m\u001b[0;34m,\u001b[0m \u001b[0mpoll\u001b[0m\u001b[0;34m)\u001b[0m\u001b[0;34m\u001b[0m\u001b[0;34m\u001b[0m\u001b[0m\n\u001b[0m\u001b[1;32m   3255\u001b[0m         \u001b[0mself\u001b[0m\u001b[0;34m.\u001b[0m\u001b[0m_check_job_status\u001b[0m\u001b[0;34m(\u001b[0m\u001b[0mjob\u001b[0m\u001b[0;34m,\u001b[0m \u001b[0mdesc\u001b[0m\u001b[0;34m,\u001b[0m \u001b[0;34m\"HyperParameterTuningJobStatus\"\u001b[0m\u001b[0;34m)\u001b[0m\u001b[0;34m\u001b[0m\u001b[0;34m\u001b[0m\u001b[0m\n\u001b[1;32m   3256\u001b[0m         \u001b[0;32mreturn\u001b[0m \u001b[0mdesc\u001b[0m\u001b[0;34m\u001b[0m\u001b[0;34m\u001b[0m\u001b[0m\n",
      "\u001b[0;32m~/anaconda3/envs/python3/lib/python3.6/site-packages/sagemaker/session.py\u001b[0m in \u001b[0;36m_wait_until\u001b[0;34m(callable_fn, poll)\u001b[0m\n\u001b[1;32m   4694\u001b[0m     \u001b[0mresult\u001b[0m \u001b[0;34m=\u001b[0m \u001b[0mcallable_fn\u001b[0m\u001b[0;34m(\u001b[0m\u001b[0;34m)\u001b[0m\u001b[0;34m\u001b[0m\u001b[0;34m\u001b[0m\u001b[0m\n\u001b[1;32m   4695\u001b[0m     \u001b[0;32mwhile\u001b[0m \u001b[0mresult\u001b[0m \u001b[0;32mis\u001b[0m \u001b[0;32mNone\u001b[0m\u001b[0;34m:\u001b[0m\u001b[0;34m\u001b[0m\u001b[0;34m\u001b[0m\u001b[0m\n\u001b[0;32m-> 4696\u001b[0;31m         \u001b[0mtime\u001b[0m\u001b[0;34m.\u001b[0m\u001b[0msleep\u001b[0m\u001b[0;34m(\u001b[0m\u001b[0mpoll\u001b[0m\u001b[0;34m)\u001b[0m\u001b[0;34m\u001b[0m\u001b[0;34m\u001b[0m\u001b[0m\n\u001b[0m\u001b[1;32m   4697\u001b[0m         \u001b[0mresult\u001b[0m \u001b[0;34m=\u001b[0m \u001b[0mcallable_fn\u001b[0m\u001b[0;34m(\u001b[0m\u001b[0;34m)\u001b[0m\u001b[0;34m\u001b[0m\u001b[0;34m\u001b[0m\u001b[0m\n\u001b[1;32m   4698\u001b[0m     \u001b[0;32mreturn\u001b[0m \u001b[0mresult\u001b[0m\u001b[0;34m\u001b[0m\u001b[0;34m\u001b[0m\u001b[0m\n",
      "\u001b[0;31mKeyboardInterrupt\u001b[0m: "
     ]
    }
   ],
   "source": [
    "# Create tuner and fit.\n",
    "xgb_objective_metric_name = \"validation:auc\"\n",
    "xgb_tuner = sm.tuner.HyperparameterTuner(\n",
    "    xgb_estimator,\n",
    "    xgb_objective_metric_name,\n",
    "    xgb_hyperparameter_ranges,\n",
    "    max_jobs=10,\n",
    "    max_parallel_jobs=5,\n",
    "    strategy=\"Bayesian\"\n",
    ")\n",
    "xgb_tuner.fit(\n",
    "    {\"train\": train_input, \"validation\": validation_input}\n",
    ")"
   ]
  },
  {
   "cell_type": "markdown",
   "id": "32f6b518",
   "metadata": {},
   "source": [
    "## Select best model <a class=\"anchor\" id=\"select-best\"></a>\n",
    "View the analytics from the tuning job and select the best model.\n",
    "We then store the best model in location that we can reference more easily in other notebooks."
   ]
  },
  {
   "cell_type": "code",
   "execution_count": null,
   "id": "a1806ee9",
   "metadata": {},
   "outputs": [],
   "source": [
    "# View analytics on tuning job results.\n",
    "xgb_tuner_analytics = sm.HyperparameterTuningJobAnalytics(\n",
    "    xgb_tuner.describe()[\"HyperParameterTuningJobName\"]\n",
    ")\n",
    "xgb_tuner_analytics.dataframe().sort_values(\"FinalObjectiveValue\")"
   ]
  },
  {
   "cell_type": "code",
   "execution_count": null,
   "id": "33f536da",
   "metadata": {},
   "outputs": [],
   "source": [
    "# Take best model and copy to location we can reference in other notebooks.\n",
    "xgb_best_training_job_name = xgb_tuner.best_training_job()\n",
    "xgb_best_training_job_key = f\"sagemaker-xgboost/{xgb_best_training_job_name}/output/model.tar.gz\"\n",
    "copy_source = {\n",
    "    \"Bucket\": model_bucket,\n",
    "    \"Key\": xgb_best_training_job_key\n",
    "}\n",
    "s3_resource.Bucket(model_bucket).copy(\n",
    "    copy_source, \n",
    "    \"sagemaker-xgboost-tuned/model.tar.gz\"\n",
    ")"
   ]
  },
  {
   "cell_type": "markdown",
   "id": "b9246930",
   "metadata": {},
   "source": [
    "## Create endpoint to test model <a class=\"anchor\" id=\"endpoint\"></a>\n",
    "To test the model, we must now create an endpoint that we can send the test data set aside during preprocessing."
   ]
  },
  {
   "cell_type": "code",
   "execution_count": null,
   "id": "258f1a73",
   "metadata": {},
   "outputs": [],
   "source": [
    "# Create model and endpoint from best fitted estimator above.\n",
    "xgb_model = sm.model.Model(\n",
    "    image_uri=xgb_container_image,\n",
    "    model_data=f\"s3://{model_bucket}/sagemaker-xgboost-tuned/model.tar.gz\",\n",
    "    role=role\n",
    ")\n",
    "endpoint_name = f\"xgb-test-endpt-{now}\"\n",
    "xgb_model.deploy(\n",
    "    initial_instance_count=1,\n",
    "    instance_type=\"ml.m5.xlarge\",\n",
    "    endpoint_name=endpoint_name\n",
    ")"
   ]
  },
  {
   "cell_type": "code",
   "execution_count": null,
   "id": "90f3ad5a",
   "metadata": {},
   "outputs": [],
   "source": [
    "# Connect a predictor to the endpoint for inference.\n",
    "xgb_predictor = sm.predictor.Predictor(\n",
    "    endpoint_name=endpoint_name,\n",
    "    sagemaker_session=sm_session,\n",
    "    serializer=sm.serializers.CSVSerializer(\n",
    "        content_type=\"text/csv\"\n",
    "    )\n",
    ")"
   ]
  },
  {
   "cell_type": "code",
   "execution_count": null,
   "id": "4d2ded6d",
   "metadata": {},
   "outputs": [],
   "source": [
    "# Iterate over testing data and compute statistics.\n",
    "list_objs_response = s3_client.list_objects_v2(\n",
    "    Bucket=data_bucket, \n",
    "    Prefix=\"preprocessing_output/train\"\n",
    ")\n",
    "\n",
    "# Arrays to keep track of results.\n",
    "test_actuals = []\n",
    "test_predictions = []\n",
    "for obj in list_objs_response[\"Contents\"]:\n",
    "    \n",
    "    # Iterate over lines in object contents via stream.\n",
    "    obj_resource = s3_resource.Object(data_bucket, obj[\"Key\"])\n",
    "    for line in obj_resource.get()[\"Body\"].iter_lines():\n",
    "        target, features = line.decode(\"utf-8\").split(\",\", maxsplit=1)\n",
    "        features = features.strip()\n",
    "        prediction = xgb_predictor.predict(features)\n",
    "        \n",
    "        test_actuals.append(float(target))\n",
    "        test_predictions.append(float(prediction))\n",
    "    \n",
    "        if len(test_actuals) > 100_000:\n",
    "            break"
   ]
  },
  {
   "cell_type": "markdown",
   "id": "d2686929",
   "metadata": {},
   "source": [
    "## Evaluate training results <a class=\"anchor\" id=\"eval\"></a>\n",
    "Lastly, we evaluate the results of training against the testing data set.\n",
    "Note that this data set is not included in training and has never been seen by the model."
   ]
  },
  {
   "cell_type": "code",
   "execution_count": 11,
   "id": "44c4fb36",
   "metadata": {},
   "outputs": [],
   "source": [
    "test_actuals = [0,0,0,1,0,0,1,1,1]\n",
    "test_predictions = [0,0,1,1,0,0,1,0,1]"
   ]
  },
  {
   "cell_type": "code",
   "execution_count": 17,
   "id": "0d6dd710",
   "metadata": {},
   "outputs": [],
   "source": [
    "# Wrap lists in numpy arrays for analysis.\n",
    "test_actuals_np = np.array(test_actuals)\n",
    "test_predictions_np = np.array(test_predictions)"
   ]
  },
  {
   "cell_type": "code",
   "execution_count": 30,
   "id": "c09e939f",
   "metadata": {},
   "outputs": [
    {
     "name": "stdout",
     "output_type": "stream",
     "text": [
      "{\n",
      "    \"accuracy\": 0.7777777777777778,\n",
      "    \"precision\": 0.75,\n",
      "    \"recall\": 0.75,\n",
      "    \"f1\": 0.75,\n",
      "    \"auc\": 0.7750000000000001\n",
      "}\n"
     ]
    }
   ],
   "source": [
    "# Compute summary statistics on perfomance.\n",
    "performance_statistics = {\n",
    "    \"accuracy\": metrics.accuracy_score(test_actuals_np, test_predictions_np),\n",
    "    \"precision\": metrics.precision_score(test_actuals_np, test_predictions_np),\n",
    "    \"recall\": metrics.recall_score(test_actuals_np, test_predictions_np),\n",
    "    \"f1\": metrics.f1_score(test_actuals_np, test_predictions_np),\n",
    "    \"auc\": metrics.roc_auc_score(test_actuals_np, test_predictions_np),\n",
    "}\n",
    "print(json.dumps(performance_statistics, indent=4))"
   ]
  },
  {
   "cell_type": "code",
   "execution_count": 40,
   "id": "4a35bef7",
   "metadata": {},
   "outputs": [
    {
     "data": {
      "image/png": "[encoded data removed]",
      "text/plain": [
       "<Figure size 576x432 with 2 Axes>"
      ]
     },
     "metadata": {},
     "output_type": "display_data"
    }
   ],
   "source": [
    "# Compute confusion matrix.\n",
    "confusion_df = pd.crosstab(\n",
    "    test_actuals_np, \n",
    "    test_predictions_np, \n",
    "    rownames=[\"Actuals\"], \n",
    "    colnames=[\"Predictions\"]\n",
    ")\n",
    "norm_confusion_df = confusion_df / confusion_df.sum(axis=1)\n",
    "\n",
    "# Show confusion matrix.\n",
    "fig, ax = plt.subplots(figsize=(8, 6))\n",
    "sns.heatmap(\n",
    "    norm_confusion_df, \n",
    "    vmin=-1.0, vmax=1.0, annot=True, fmt=\".2f\", \n",
    "    ax=ax\n",
    ")\n",
    "ax.set_title(\"Confusion matrix of testing results\")\n",
    "plt.show()"
   ]
  },
  {
   "cell_type": "code",
   "execution_count": 38,
   "id": "a395e69d",
   "metadata": {},
   "outputs": [
    {
     "data": {
      "image/png": "[encoded data removed]",
      "text/plain": [
       "<Figure size 576x432 with 1 Axes>"
      ]
     },
     "metadata": {},
     "output_type": "display_data"
    }
   ],
   "source": [
    "# Compute ROC curve.\n",
    "fpr, tpr, thresholds = metrics.roc_curve(test_actuals_np, test_predictions_np)\n",
    "\n",
    "# Plot ROC matrix.\n",
    "fig, ax = plt.subplots(figsize=(8, 6))\n",
    "ax.plot(fpr, tpr, label='ROC')\n",
    "ax.plot([0, 1], [0, 1], linestyle='--')\n",
    "ax.set_xlabel('False positive rate')\n",
    "ax.set_ylabel('True positive rate')\n",
    "ax.set_title('Receiver operating characteristic curve')\n",
    "ax.legend()\n",
    "plt.show()"
   ]
  },
  {
   "cell_type": "markdown",
   "id": "d77892d5",
   "metadata": {},
   "source": [
    "## Cleanup resources <a class=\"anchor\" id=\"clean\"></a>\n",
    "Because this is a temporary project, delete the endpoint."
   ]
  },
  {
   "cell_type": "code",
   "execution_count": null,
   "id": "4d5b7b7a",
   "metadata": {},
   "outputs": [],
   "source": [
    "sm_session.delete_endpoint(endpoint_name)"
   ]
  }
 ],
 "metadata": {
  "kernelspec": {
   "display_name": "conda_python3",
   "language": "python",
   "name": "conda_python3"
  },
  "language_info": {
   "codemirror_mode": {
    "name": "ipython",
    "version": 3
   },
   "file_extension": ".py",
   "mimetype": "text/x-python",
   "name": "python",
   "nbconvert_exporter": "python",
   "pygments_lexer": "ipython3",
   "version": "3.6.13"
  }
 },
 "nbformat": 4,
 "nbformat_minor": 5
}
