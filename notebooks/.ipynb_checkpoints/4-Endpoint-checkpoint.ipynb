{
 "cells": [
  {
   "cell_type": "markdown",
   "id": "4d7532c8",
   "metadata": {},
   "source": [
    "# 4 - Endpoint <a class=\"anchor\" id=\"top\"></a>\n",
    "* [Introduction](#intro)\n",
    "* [Setup](#setup)"
   ]
  },
  {
   "cell_type": "markdown",
   "id": "de7e6a6f",
   "metadata": {},
   "source": [
    "## Introduction <a class=\"anchor\" id=\"intro\"></a>\n",
    "In this last section, we create a Sagemaker endpoint to allow for real-time predictions using our trained models.\n",
    "After creating the endpoint, we will test a simple application that takes in basic flight information and returns \n",
    "the models prediction."
   ]
  },
  {
   "cell_type": "markdown",
   "id": "fa40d0e2",
   "metadata": {},
   "source": [
    "## Setup <a class=\"anchor\" id=\"setup\"></a>\n",
    "First, we import Sageamker SDK dependencies as well as modules used in application below.\n",
    "We also get relevant sessions and read in local environment data."
   ]
  },
  {
   "cell_type": "code",
   "execution_count": 12,
   "id": "5fb04875",
   "metadata": {},
   "outputs": [],
   "source": [
    "import xml\n",
    "import json\n",
    "import uuid\n",
    "import boto3\n",
    "import random\n",
    "import requests\n",
    "import numpy as np\n",
    "import pandas as pd\n",
    "import datetime as dt\n",
    "import dateutil.parser\n",
    "import sagemaker as sm\n",
    "import sagemaker.sparkml as sparkml"
   ]
  },
  {
   "cell_type": "code",
   "execution_count": 13,
   "id": "590a169f",
   "metadata": {},
   "outputs": [],
   "source": [
    "# Get relevant sessions.\n",
    "sm_session = sm.Session()\n",
    "role = sm.get_execution_role()\n",
    "boto3_session = boto3.session.Session()\n",
    "now = dt.datetime.now().strftime(r\"%Y%m%dT%H%M%S\")"
   ]
  },
  {
   "cell_type": "code",
   "execution_count": 14,
   "id": "191b3c37",
   "metadata": {},
   "outputs": [],
   "source": [
    "# Get boto3 session attributes.\n",
    "account = boto3_session.client(\"sts\").get_caller_identity()[\"Account\"]\n",
    "region = boto3_session.region_name\n",
    "s3_resource = boto3_session.resource(\"s3\")"
   ]
  },
  {
   "cell_type": "code",
   "execution_count": 15,
   "id": "0a5e5d14",
   "metadata": {},
   "outputs": [],
   "source": [
    "# Retrieve data bucket name.\n",
    "with open(\"/home/ec2-user/.aiml-bb/stack-data.json\", \"r\") as f:\n",
    "    data = json.load(f)\n",
    "    data_bucket = data[\"data_bucket\"]\n",
    "    model_bucket = data[\"model_bucket\"]"
   ]
  },
  {
   "cell_type": "markdown",
   "id": "55de6b49",
   "metadata": {},
   "source": [
    "## Define model\n",
    "To allow for a complete inference pipeline, we chain together the preprocessing, model inference/evaluation, and postprocessing.\n",
    "We will define each of these stages as a Sagemaker `Model` object, then chain them together into an inference pipeline."
   ]
  },
  {
   "cell_type": "code",
   "execution_count": 16,
   "id": "2c41cb32",
   "metadata": {},
   "outputs": [],
   "source": [
    "# Required schema for input into preprocessing step.\n",
    "preprocess_schema_json = json.dumps({\n",
    "    \"input\": [\n",
    "        {\"name\": \"day_of_week\", \"type\": \"int\"},\n",
    "        {\"name\": \"month\", \"type\": \"int\"},\n",
    "        {\"name\": \"op_carrier\", \"type\": \"string\"},\n",
    "        {\"name\": \"origin\", \"type\": \"string\"}, \n",
    "        {\"name\": \"origin_latitude\", \"type\": \"double\"}, \n",
    "        {\"name\": \"origin_longitude\", \"type\": \"double\"},\n",
    "        {\"name\": \"dest\", \"type\": \"string\"}, \n",
    "        {\"name\": \"dest_latitude\", \"type\": \"double\"}, \n",
    "        {\"name\": \"dest_longitude\", \"type\": \"double\"},\n",
    "        {\"name\": \"origin_tmax\", \"type\": \"double\"}, \n",
    "        {\"name\": \"origin_tmin\", \"type\": \"double\"}, \n",
    "        {\"name\": \"origin_prcp\", \"type\": \"double\"}, \n",
    "        {\"name\": \"origin_snow\", \"type\": \"double\"}, \n",
    "        {\"name\": \"origin_snwd\", \"type\": \"double\"},\n",
    "        {\"name\": \"dest_tmax\", \"type\": \"double\"}, \n",
    "        {\"name\": \"dest_tmin\", \"type\": \"double\"}, \n",
    "        {\"name\": \"dest_prcp\", \"type\": \"double\"}, \n",
    "        {\"name\": \"dest_snow\", \"type\": \"double\"}, \n",
    "        {\"name\": \"dest_snwd\", \"type\": \"double\"}\n",
    "    ],\n",
    "     \"output\": {\"name\": \"features\", \"type\": \"double\", \"struct\": \"vector\"}\n",
    "})"
   ]
  },
  {
   "cell_type": "code",
   "execution_count": 17,
   "id": "85d49c89",
   "metadata": {},
   "outputs": [],
   "source": [
    "# Define the preprocessing model.\n",
    "preprocess_model = sparkml.model.SparkMLModel(\n",
    "    name=f\"spark-preprocessor-{now}\",\n",
    "    model_data=f\"s3://{model_bucket}/spark-preprocessor/model.tar.gz\",\n",
    "    spark_version=\"2.4\",\n",
    "    sagemaker_session=sm_session,\n",
    "    env={\"SAGEMAKER_SPARKML_SCHEMA\": preprocess_schema_json}\n",
    ")"
   ]
  },
  {
   "cell_type": "code",
   "execution_count": 18,
   "id": "5ee6ca8a",
   "metadata": {},
   "outputs": [],
   "source": [
    "# Define inference model.\n",
    "xgb_container_image = sm.image_uris.retrieve(\"xgboost\", region, \"latest\")\n",
    "inference_model = sm.model.Model(\n",
    "    image_uri=xgb_container_image,\n",
    "    model_data=f\"s3://{model_bucket}/sagemaker-xgboost-tuned/model.tar.gz\"\n",
    ")"
   ]
  },
  {
   "cell_type": "code",
   "execution_count": 19,
   "id": "d68675f2",
   "metadata": {},
   "outputs": [
    {
     "name": "stdout",
     "output_type": "stream",
     "text": [
      "-----------!"
     ]
    }
   ],
   "source": [
    "# Define complete inference pipeline model and deploy.\n",
    "pipeline_model = sm.pipeline.PipelineModel(\n",
    "    name=f\"sm-pipeline-{now}\",\n",
    "    role=role,\n",
    "    models=[\n",
    "        preprocess_model,\n",
    "        inference_model\n",
    "    ]\n",
    ")\n",
    "endpoint_name = f\"pipeline-endpoint-{now}\"\n",
    "pipeline_model.deploy(\n",
    "    initial_instance_count=1,\n",
    "    instance_type=\"ml.m5.xlarge\",\n",
    "    endpoint_name=endpoint_name\n",
    ")"
   ]
  },
  {
   "cell_type": "code",
   "execution_count": 20,
   "id": "894f9cee",
   "metadata": {},
   "outputs": [],
   "source": [
    "# Connect a predictor to the endpoint for inference.\n",
    "pipeline_predictor = sm.predictor.Predictor(\n",
    "    endpoint_name=endpoint_name,\n",
    "    sagemaker_session=sm_session,\n",
    "    serializer=sm.serializers.JSONSerializer()\n",
    ")"
   ]
  },
  {
   "cell_type": "markdown",
   "id": "7eac1a72",
   "metadata": {},
   "source": [
    "## Demo testing endpoint\n",
    "Test the endpoint in a simple application where the flight information is inputted, and a prediction is returned."
   ]
  },
  {
   "cell_type": "code",
   "execution_count": 35,
   "id": "f0869304",
   "metadata": {},
   "outputs": [],
   "source": [
    "# User inputted features.\n",
    "origin = \"JFK\"\n",
    "dest = \"LAX\"\n",
    "carrier = \"B6\"\n",
    "fl_date = \"2022-01-28\""
   ]
  },
  {
   "cell_type": "markdown",
   "id": "f3d66961",
   "metadata": {},
   "source": [
    "All code below would be abstracted away from the user."
   ]
  },
  {
   "cell_type": "code",
   "execution_count": 36,
   "id": "95e2d634",
   "metadata": {},
   "outputs": [],
   "source": [
    "# Get date attributes.\n",
    "today = dt.datetime.today().replace(hour=0, minute=0, second=0, microsecond=0)\n",
    "fl_datetime = dt.datetime.strptime(fl_date, r\"%Y-%m-%d\")\n",
    "day_of_week = fl_datetime.weekday() + 1\n",
    "month = fl_datetime.month"
   ]
  },
  {
   "cell_type": "code",
   "execution_count": 37,
   "id": "6d5dadca",
   "metadata": {},
   "outputs": [],
   "source": [
    "# Get latitude and longitudes of airports.\n",
    "airport_df = pd.read_parquet(f\"s3://{data_bucket}/dl_output/airport_data\")\n",
    "get_iata_geolocation = (\n",
    "    lambda iata: \n",
    "    airport_df.loc[airport_df[\"iata\"]==iata, [\"latitude\", \"longitude\"]].iloc[0]\n",
    ")\n",
    "origin_lat, origin_lon = get_iata_geolocation(origin)\n",
    "dest_lat, dest_lon = get_iata_geolocation(dest)"
   ]
  },
  {
   "cell_type": "code",
   "execution_count": 38,
   "id": "95340aa6",
   "metadata": {},
   "outputs": [],
   "source": [
    "# Grab weather data.\n",
    "forecast_fqdn = \"https://graphical.weather.gov\"\n",
    "get_geolocation_forecast = (\n",
    "    lambda lat, lon:\n",
    "    xml.etree.ElementTree.fromstring(\n",
    "        requests.get(\n",
    "            f\"{forecast_fqdn}/xml/SOAP_server/ndfdXMLclient.php\",\n",
    "            params={\n",
    "                \"lat\": lat, \"lon\": lon,\n",
    "                \"begin\": today.isoformat(), \n",
    "                \"end\": (today + dt.timedelta(days=7)).isoformat(),\n",
    "                \"Unit\": \"m\",\n",
    "                \"maxt\": \"maxt\", \"mint\": \"mint\",\n",
    "                \"qpf\": \"qpf\", \"snow\": \"snow\",\n",
    "                \"product\": \"time-series\",\n",
    "                \"Submit\": \"Submit\"\n",
    "            }\n",
    "        ).content\n",
    "    )\n",
    ")\n",
    "origin_forecast = get_geolocation_forecast(origin_lat, origin_lon) \n",
    "dest_forecast = get_geolocation_forecast(dest_lat, dest_lon)"
   ]
  },
  {
   "cell_type": "code",
   "execution_count": 39,
   "id": "6bcea98d",
   "metadata": {},
   "outputs": [],
   "source": [
    "# Define function to get averages of date values in XML.\n",
    "def get_avg_xml_value(xml_tree, field, datetime=fl_datetime):\n",
    "    # Get date index key.\n",
    "    layout_key = xml_tree.find(f\".//*{field}\").attrib[\"time-layout\"]\n",
    "    \n",
    "    # Find indices of dates matching date in question.\n",
    "    idxs = []\n",
    "    for idx, date in enumerate(xml_tree.findall(f\".//*time-layout/start-valid-time\")):\n",
    "        datetime = dateutil.parser.parse(date.text)\n",
    "        if fl_datetime.strftime(\"%Y-%m-%d\") == datetime.strftime(\"%Y-%m-%d\"):\n",
    "            idxs.append(idx)\n",
    "            \n",
    "    if not idxs:\n",
    "        raise ValueError(\"Date invalid, no data found for field. Possibly too far into the future.\")\n",
    "            \n",
    "    # Data is for different times of day so we take mean.\n",
    "    # Zero is added so we default in case of no data (e.g. with snow).\n",
    "    val_sum = 0.0\n",
    "    for idx, val in enumerate(xml_tree.findall(f\".//*{field}/value\")):\n",
    "        if idx in idxs:\n",
    "            val_sum += float(val.text)\n",
    "            \n",
    "    return val_sum / len(idxs)"
   ]
  },
  {
   "cell_type": "code",
   "execution_count": 40,
   "id": "805428ec",
   "metadata": {},
   "outputs": [],
   "source": [
    "# Get forecast values and convert to dataset formats.\n",
    "# In NOAA weather data, all values are scaled by 1/10.\n",
    "origin_tmax = 0.10 * get_avg_xml_value(origin_forecast, \"temperature[@type='maximum']\")\n",
    "origin_tmin = 0.10 * get_avg_xml_value(origin_forecast, \"temperature[@type='minimum']\")\n",
    "origin_snwd = 0.10 * get_avg_xml_value(origin_forecast, \"precipitation[@type='snow']\")\n",
    "origin_liquid = 0.10 * get_avg_xml_value(origin_forecast, \"precipitation[@type='liquid']\")\n",
    "\n",
    "dest_tmax = 0.10 * get_avg_xml_value(dest_forecast, \"temperature[@type='maximum']\")\n",
    "dest_tmin = 0.10 * get_avg_xml_value(dest_forecast, \"temperature[@type='minimum']\")\n",
    "dest_snwd = 0.10 * get_avg_xml_value(dest_forecast, \"precipitation[@type='snow']\")\n",
    "dest_liquid = 0.10 * get_avg_xml_value(dest_forecast, \"precipitation[@type='liquid']\")\n",
    "\n",
    "# This snow to liquid ratio is often assumed, however can be inaccurate.\n",
    "# It is suitable for demonstration purposes, but may need more acccurate \n",
    "# inspection in production use cases.\n",
    "snow_to_liquid_ration = 10.0\n",
    "\n",
    "origin_avg = (origin_tmax + origin_tmin) / 2\n",
    "origin_prcp = origin_liquid if origin_avg > 0 else 0\n",
    "origin_snow = 0 if origin_avg > 0 else snow_to_liquid_ration * origin_liquid\n",
    "\n",
    "dest_avg = (dest_tmax + dest_tmin) / 2\n",
    "dest_prcp = dest_liquid if dest_avg > 0 else 0\n",
    "dest_snow = 0 if dest_avg > 0 else snow_to_liquid_ration * dest_liquid"
   ]
  },
  {
   "cell_type": "markdown",
   "id": "6cacd17e",
   "metadata": {},
   "source": [
    "### Make call to endpoint\n",
    "Send data to the endpoint and make the prediction."
   ]
  },
  {
   "cell_type": "code",
   "execution_count": 41,
   "id": "c27114d8",
   "metadata": {
    "scrolled": true
   },
   "outputs": [
    {
     "name": "stdout",
     "output_type": "stream",
     "text": [
      "b'0.28944116830825806'\n"
     ]
    }
   ],
   "source": [
    "payload =  {\"data\": [\n",
    "    day_of_week, month, \n",
    "    carrier, \n",
    "    origin, origin_lat, origin_lon, \n",
    "    dest, dest_lat, dest_lon,\n",
    "    origin_tmax, origin_tmin, origin_prcp, origin_snow, origin_snwd,\n",
    "    dest_tmax, dest_tmin, dest_prcp, dest_snow, dest_snwd\n",
    "]}\n",
    "print(pipeline_predictor.predict(payload))"
   ]
  },
  {
   "cell_type": "markdown",
   "id": "c20b02b8",
   "metadata": {},
   "source": [
    "## Cleanup resources\n",
    "Because this is a temporary project, delete the endpoint."
   ]
  },
  {
   "cell_type": "code",
   "execution_count": 42,
   "id": "6dad3f28",
   "metadata": {},
   "outputs": [],
   "source": [
    "sm_session.delete_endpoint(endpoint_name)"
   ]
  },
  {
   "cell_type": "code",
   "execution_count": null,
   "id": "dce2c99b",
   "metadata": {},
   "outputs": [],
   "source": []
  }
 ],
 "metadata": {
  "kernelspec": {
   "display_name": "conda_python3",
   "language": "python",
   "name": "conda_python3"
  },
  "language_info": {
   "codemirror_mode": {
    "name": "ipython",
    "version": 3
   },
   "file_extension": ".py",
   "mimetype": "text/x-python",
   "name": "python",
   "nbconvert_exporter": "python",
   "pygments_lexer": "ipython3",
   "version": "3.6.13"
  }
 },
 "nbformat": 4,
 "nbformat_minor": 5
}
