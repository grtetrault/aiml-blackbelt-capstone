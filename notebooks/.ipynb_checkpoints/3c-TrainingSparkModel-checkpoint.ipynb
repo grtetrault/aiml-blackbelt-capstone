{
 "cells": [
  {
   "cell_type": "markdown",
   "id": "32bd7fec",
   "metadata": {},
   "source": [
    "# 3c - Training Custom Spark Model <a class=\"anchor\" id=\"top\"></a>\n",
    "* [Introduction](#intro)\n",
    "* [Setup](#setup)\n",
    "* [Loading the data](#load-data)\n",
    "* [Model definition](#model)\n",
    "* [Fit model and evaluate](#fit)\n",
    "* [Serialize and store pipeline](#store)"
   ]
  },
  {
   "cell_type": "markdown",
   "id": "9419cdf3",
   "metadata": {},
   "source": [
    "## Introduction <a class=\"anchor\" id=\"intro\"></a>\n",
    "In this section, we define and tain a custom Spark model.\n",
    "The model will be based around Spark's perceptron implementation.\n",
    "We then serialize the model to allow for deployment on an endpoint in the next section."
   ]
  },
  {
   "cell_type": "markdown",
   "id": "2e203d43",
   "metadata": {},
   "source": [
    "## Setup <a class=\"anchor\" id=\"setup\"></a>\n",
    "First, we must import relevant Spark modules as well as libraries for statistical analysis and visualizations.\n",
    "Note that will also start the Spark application that creates the `SparkSession` and sets it to the `spark` variable."
   ]
  },
  {
   "cell_type": "code",
   "execution_count": 85,
   "id": "c732bcdd",
   "metadata": {},
   "outputs": [],
   "source": [
    "%%cleanup -f"
   ]
  },
  {
   "cell_type": "code",
   "execution_count": 55,
   "id": "c424cc09",
   "metadata": {},
   "outputs": [
    {
     "data": {
      "application/vnd.jupyter.widget-view+json": {
       "model_id": "",
       "version_major": 2,
       "version_minor": 0
      },
      "text/plain": [
       "FloatProgress(value=0.0, bar_style='info', description='Progress:', layout=Layout(height='25px', width='50%'),…"
      ]
     },
     "metadata": {},
     "output_type": "display_data"
    }
   ],
   "source": [
    "import pyspark\n",
    "import pyspark.ml as ml\n",
    "import pyspark.sql as sql\n",
    "import pyspark.sql.types as types\n",
    "import pyspark.sql.functions as F\n",
    "from pyspark.mllib.evaluation import MulticlassMetrics\n",
    "import mleap.pyspark.spark_support as support\n",
    "\n",
    "import os\n",
    "import json\n",
    "import boto3\n",
    "import shutil\n",
    "import zipfile\n",
    "import tarfile\n",
    "import seaborn as sns\n",
    "import matplotlib.pyplot as plt\n",
    "sns.set_style(\"darkgrid\")"
   ]
  },
  {
   "cell_type": "code",
   "execution_count": 2,
   "id": "0bc524e1",
   "metadata": {},
   "outputs": [
    {
     "data": {
      "application/vnd.jupyter.widget-view+json": {
       "model_id": "",
       "version_major": 2,
       "version_minor": 0
      },
      "text/plain": [
       "FloatProgress(value=0.0, bar_style='info', description='Progress:', layout=Layout(height='25px', width='50%'),…"
      ]
     },
     "metadata": {},
     "output_type": "display_data"
    }
   ],
   "source": [
    "s3 = boto3.resource(\"s3\")"
   ]
  },
  {
   "cell_type": "markdown",
   "id": "e1654d88",
   "metadata": {},
   "source": [
    "## Loading the data <a class=\"anchor\" id=\"load-data\"></a>\n",
    "\n",
    "Now, we load the training, validation, and test data from S3.\n",
    "To do this, we must first get the bucket name where the data is stored.\n",
    "This variable is stored on the local Sagemaker notebook instance during the `DevEnvironment` stack creation \n",
    "and must be explicitly passed to the Spark cluster."
   ]
  },
  {
   "cell_type": "code",
   "execution_count": 3,
   "id": "e91f8417",
   "metadata": {},
   "outputs": [],
   "source": [
    "%%local\n",
    "import json\n",
    "with open(\"/home/ec2-user/.aiml-bb/stack-data.json\", \"r\") as f:\n",
    "    data = json.load(f)\n",
    "    data_bucket = data[\"data_bucket\"]\n",
    "    model_bucket = data[\"model_bucket\"]"
   ]
  },
  {
   "cell_type": "code",
   "execution_count": 4,
   "id": "2779cb9d",
   "metadata": {},
   "outputs": [
    {
     "data": {
      "application/vnd.jupyter.widget-view+json": {
       "model_id": "",
       "version_major": 2,
       "version_minor": 0
      },
      "text/plain": [
       "FloatProgress(value=0.0, bar_style='info', description='Progress:', layout=Layout(height='25px', width='50%'),…"
      ]
     },
     "metadata": {},
     "output_type": "display_data"
    },
    {
     "name": "stdout",
     "output_type": "stream",
     "text": [
      "Successfully passed 'data_bucket' as 'data_bucket' to Spark kernel"
     ]
    }
   ],
   "source": [
    "%%send_to_spark -i data_bucket -t str"
   ]
  },
  {
   "cell_type": "code",
   "execution_count": 5,
   "id": "eb40c6ce",
   "metadata": {},
   "outputs": [
    {
     "data": {
      "application/vnd.jupyter.widget-view+json": {
       "model_id": "",
       "version_major": 2,
       "version_minor": 0
      },
      "text/plain": [
       "FloatProgress(value=0.0, bar_style='info', description='Progress:', layout=Layout(height='25px', width='50%'),…"
      ]
     },
     "metadata": {},
     "output_type": "display_data"
    },
    {
     "name": "stdout",
     "output_type": "stream",
     "text": [
      "Successfully passed 'model_bucket' as 'model_bucket' to Spark kernel"
     ]
    }
   ],
   "source": [
    "%%send_to_spark -i model_bucket -t str"
   ]
  },
  {
   "cell_type": "code",
   "execution_count": 6,
   "id": "dd52c2bd",
   "metadata": {},
   "outputs": [
    {
     "data": {
      "application/vnd.jupyter.widget-view+json": {
       "model_id": "",
       "version_major": 2,
       "version_minor": 0
      },
      "text/plain": [
       "FloatProgress(value=0.0, bar_style='info', description='Progress:', layout=Layout(height='25px', width='50%'),…"
      ]
     },
     "metadata": {},
     "output_type": "display_data"
    }
   ],
   "source": [
    "train_df = spark.read.csv(f\"s3a://{data_bucket}/preprocessing_output/train/\", inferSchema=True)\n",
    "validation_df = spark.read.csv(f\"s3a://{data_bucket}/preprocessing_output/validation/\", inferSchema=True)\n",
    "test_df = spark.read.csv(f\"s3a://{data_bucket}/preprocessing_output/test/\", inferSchema=True)"
   ]
  },
  {
   "cell_type": "code",
   "execution_count": 57,
   "id": "99213752",
   "metadata": {},
   "outputs": [
    {
     "data": {
      "application/vnd.jupyter.widget-view+json": {
       "model_id": "",
       "version_major": 2,
       "version_minor": 0
      },
      "text/plain": [
       "FloatProgress(value=0.0, bar_style='info', description='Progress:', layout=Layout(height='25px', width='50%'),…"
      ]
     },
     "metadata": {},
     "output_type": "display_data"
    },
    {
     "data": {
      "text/html": [
       "<table><tr><th>_c0</th><th>_c1</th><th>_c2</th><th>_c3</th><th>_c4</th><th>_c5</th><th>_c6</th><th>_c7</th><th>_c8</th><th>_c9</th><th>_c10</th><th>_c11</th><th>_c12</th><th>_c13</th><th>_c14</th><th>_c15</th><th>_c16</th><th>_c17</th><th>_c18</th><th>_c19</th><th>_c20</th><th>_c21</th><th>_c22</th><th>_c23</th><th>_c24</th><th>_c25</th><th>_c26</th><th>_c27</th><th>_c28</th><th>_c29</th><th>_c30</th><th>_c31</th><th>_c32</th><th>_c33</th><th>_c34</th><th>_c35</th><th>_c36</th><th>_c37</th><th>_c38</th><th>_c39</th><th>_c40</th><th>_c41</th><th>_c42</th><th>_c43</th><th>_c44</th><th>_c45</th><th>_c46</th><th>_c47</th><th>_c48</th><th>_c49</th><th>_c50</th><th>_c51</th><th>_c52</th><th>_c53</th><th>_c54</th><th>_c55</th><th>_c56</th><th>_c57</th><th>_c58</th><th>_c59</th><th>_c60</th><th>_c61</th><th>_c62</th><th>_c63</th><th>_c64</th><th>_c65</th><th>_c66</th><th>_c67</th><th>_c68</th><th>_c69</th><th>_c70</th><th>_c71</th><th>_c72</th><th>_c73</th><th>_c74</th><th>_c75</th><th>_c76</th><th>_c77</th><th>_c78</th><th>_c79</th></tr><tr><td>0.0</td><td>0.0</td><td>0.0</td><td>0.0</td><td>0.0</td><td>1.0</td><td>0.0</td><td>0.0</td><td>0.0</td><td>0.0</td><td>0.0</td><td>0.0</td><td>0.0</td><td>0.0</td><td>0.0</td><td>1.0</td><td>0.0</td><td>0.0</td><td>1.0</td><td>0.0</td><td>0.0</td><td>0.0</td><td>0.0</td><td>0.0</td><td>0.0</td><td>0.0</td><td>0.0</td><td>0.0</td><td>0.0</td><td>0.0</td><td>0.0</td><td>0.0</td><td>0.0</td><td>0.0</td><td>0.0</td><td>0.0</td><td>0.0</td><td>0.0</td><td>0.0</td><td>0.0</td><td>0.0</td><td>1.0</td><td>0.0</td><td>0.0</td><td>0.0</td><td>0.0</td><td>0.0</td><td>0.0</td><td>0.0</td><td>0.0</td><td>0.0</td><td>0.0</td><td>0.0</td><td>0.0</td><td>0.0</td><td>0.0</td><td>0.0</td><td>0.0</td><td>0.0</td><td>0.0</td><td>0.0</td><td>0.0</td><td>0.0</td><td>0.0</td><td>1.0</td><td>0.0</td><td>0.0</td><td>0.0</td><td>0.0</td><td>0.0</td><td>0.3632772872402005</td><td>-0.26679504200489773</td><td>0.0</td><td>0.0</td><td>0.0</td><td>1.8263820885807576</td><td>0.43889919287823387</td><td>0.0</td><td>0.0</td><td>0.0</td></tr><tr><td>0.0</td><td>0.0</td><td>0.0</td><td>0.0</td><td>0.0</td><td>0.0</td><td>0.0</td><td>0.0</td><td>0.0</td><td>0.0</td><td>0.0</td><td>0.0</td><td>0.0</td><td>0.0</td><td>0.0</td><td>0.0</td><td>0.0</td><td>0.0</td><td>0.0</td><td>0.0</td><td>1.0</td><td>0.0</td><td>0.0</td><td>0.0</td><td>0.0</td><td>0.0</td><td>0.0</td><td>0.0</td><td>0.0</td><td>0.0</td><td>0.0</td><td>0.0</td><td>0.0</td><td>0.0</td><td>0.0</td><td>0.0</td><td>0.0</td><td>0.0</td><td>0.0</td><td>0.0</td><td>0.0</td><td>1.0</td><td>0.0</td><td>0.0</td><td>0.0</td><td>0.0</td><td>0.0</td><td>0.0</td><td>0.0</td><td>0.0</td><td>0.0</td><td>0.0</td><td>0.0</td><td>0.0</td><td>0.0</td><td>0.0</td><td>0.0</td><td>0.0</td><td>1.0</td><td>0.0</td><td>0.0</td><td>0.0</td><td>0.0</td><td>0.0</td><td>0.0</td><td>0.0</td><td>0.0</td><td>0.0</td><td>0.0</td><td>0.0</td><td>1.0339430482990322</td><td>0.27667633985693096</td><td>0.0</td><td>0.0</td><td>0.0</td><td>2.5607006602781754</td><td>1.6658219366060238</td><td>0.0</td><td>0.0</td><td>0.0</td></tr><tr><td>0.0</td><td>0.0</td><td>0.0</td><td>0.0</td><td>0.0</td><td>0.0</td><td>0.0</td><td>0.0</td><td>0.0</td><td>0.0</td><td>0.0</td><td>0.0</td><td>0.0</td><td>0.0</td><td>0.0</td><td>0.0</td><td>0.0</td><td>0.0</td><td>0.0</td><td>1.0</td><td>0.0</td><td>0.0</td><td>0.0</td><td>0.0</td><td>0.0</td><td>0.0</td><td>0.0</td><td>0.0</td><td>0.0</td><td>0.0</td><td>0.0</td><td>0.0</td><td>0.0</td><td>0.0</td><td>0.0</td><td>0.0</td><td>0.0</td><td>0.0</td><td>0.0</td><td>0.0</td><td>0.0</td><td>1.0</td><td>0.0</td><td>0.0</td><td>0.0</td><td>0.0</td><td>0.0</td><td>0.0</td><td>0.0</td><td>0.0</td><td>0.0</td><td>0.0</td><td>0.0</td><td>0.0</td><td>0.0</td><td>0.0</td><td>0.0</td><td>0.0</td><td>0.0</td><td>1.0</td><td>0.0</td><td>0.0</td><td>0.0</td><td>0.0</td><td>0.0</td><td>0.0</td><td>0.0</td><td>0.0</td><td>0.0</td><td>0.0</td><td>1.0339430482990322</td><td>0.27667633985693096</td><td>0.0</td><td>0.0</td><td>0.0</td><td>1.9864258798481436</td><td>1.386522450228966</td><td>0.0</td><td>0.0</td><td>0.0</td></tr><tr><td>0.0</td><td>0.0</td><td>0.0</td><td>0.0</td><td>0.0</td><td>1.0</td><td>0.0</td><td>0.0</td><td>0.0</td><td>0.0</td><td>1.0</td><td>0.0</td><td>0.0</td><td>0.0</td><td>0.0</td><td>0.0</td><td>0.0</td><td>0.0</td><td>0.0</td><td>0.0</td><td>0.0</td><td>0.0</td><td>0.0</td><td>0.0</td><td>0.0</td><td>0.0</td><td>0.0</td><td>0.0</td><td>0.0</td><td>0.0</td><td>0.0</td><td>0.0</td><td>0.0</td><td>0.0</td><td>0.0</td><td>0.0</td><td>0.0</td><td>1.0</td><td>0.0</td><td>0.0</td><td>0.0</td><td>1.0</td><td>0.0</td><td>0.0</td><td>0.0</td><td>0.0</td><td>0.0</td><td>0.0</td><td>0.0</td><td>0.0</td><td>0.0</td><td>0.0</td><td>0.0</td><td>0.0</td><td>0.0</td><td>0.0</td><td>0.0</td><td>0.0</td><td>0.0</td><td>1.0</td><td>0.0</td><td>0.0</td><td>0.0</td><td>0.0</td><td>0.0</td><td>0.0</td><td>0.0</td><td>0.0</td><td>0.0</td><td>0.0</td><td>0.726554574480401</td><td>-0.20750725489269822</td><td>0.0</td><td>0.0</td><td>0.8303506324339892</td><td>1.8263820885807576</td><td>0.7780485691932327</td><td>0.0</td><td>0.0</td><td>0.0</td></tr><tr><td>0.0</td><td>0.0</td><td>0.0</td><td>0.0</td><td>0.0</td><td>0.0</td><td>0.0</td><td>0.0</td><td>0.0</td><td>0.0</td><td>0.0</td><td>0.0</td><td>0.0</td><td>0.0</td><td>0.0</td><td>0.0</td><td>0.0</td><td>0.0</td><td>0.0</td><td>0.0</td><td>1.0</td><td>0.0</td><td>0.0</td><td>0.0</td><td>0.0</td><td>0.0</td><td>0.0</td><td>0.0</td><td>0.0</td><td>0.0</td><td>0.0</td><td>0.0</td><td>0.0</td><td>0.0</td><td>0.0</td><td>0.0</td><td>0.0</td><td>0.0</td><td>0.0</td><td>0.0</td><td>0.0</td><td>1.0</td><td>0.0</td><td>0.0</td><td>0.0</td><td>0.0</td><td>0.0</td><td>0.0</td><td>0.0</td><td>0.0</td><td>0.0</td><td>0.0</td><td>0.0</td><td>0.0</td><td>0.0</td><td>0.0</td><td>0.0</td><td>0.0</td><td>0.0</td><td>0.0</td><td>0.0</td><td>0.0</td><td>0.0</td><td>0.0</td><td>0.0</td><td>0.0</td><td>1.0</td><td>0.0</td><td>0.0</td><td>0.0</td><td>1.0339430482990322</td><td>0.27667633985693096</td><td>0.0</td><td>0.0</td><td>0.0</td><td>2.7207444515455617</td><td>1.6658219366060238</td><td>0.0</td><td>0.0</td><td>0.0</td></tr></table><br /><pre>only showing top 5 rows</pre>"
      ],
      "text/plain": [
       "<IPython.core.display.HTML object>"
      ]
     },
     "metadata": {},
     "output_type": "display_data"
    }
   ],
   "source": [
    "%%pretty\n",
    "train_df.show(5)"
   ]
  },
  {
   "cell_type": "markdown",
   "id": "f0b71324",
   "metadata": {},
   "source": [
    "## Model definition <a class=\"anchor\" id=\"model\"></a>\n",
    "For this task, we will be testing Spark's `MultilayerPerceptronClassifier`, which is a feedforward artificial neural network.\n",
    "This was chosen becuse perceptron's can yield desirable results when the training set is large, as  is the case here.\n",
    "Also, there is no direct analog implemented as a Sagemaker built-in algorithm at the time of writing, so this makes for a good example of an advantage of this method."
   ]
  },
  {
   "cell_type": "code",
   "execution_count": 59,
   "id": "76333eff",
   "metadata": {},
   "outputs": [
    {
     "data": {
      "application/vnd.jupyter.widget-view+json": {
       "model_id": "",
       "version_major": 2,
       "version_minor": 0
      },
      "text/plain": [
       "FloatProgress(value=0.0, bar_style='info', description='Progress:', layout=Layout(height='25px', width='50%'),…"
      ]
     },
     "metadata": {},
     "output_type": "display_data"
    }
   ],
   "source": [
    "# Need to wrap features into vector for training.\n",
    "feature_assembler = ml.feature.VectorAssembler(\n",
    "    inputCols=train_df.columns[1:], \n",
    "    outputCol=\"features\",\n",
    "    handleInvalid=\"keep\"\n",
    ")"
   ]
  },
  {
   "cell_type": "code",
   "execution_count": 69,
   "id": "fc4dbc66",
   "metadata": {},
   "outputs": [
    {
     "data": {
      "application/vnd.jupyter.widget-view+json": {
       "model_id": "",
       "version_major": 2,
       "version_minor": 0
      },
      "text/plain": [
       "FloatProgress(value=0.0, bar_style='info', description='Progress:', layout=Layout(height='25px', width='50%'),…"
      ]
     },
     "metadata": {},
     "output_type": "display_data"
    }
   ],
   "source": [
    "# Define perceptron layers. For this architecture, we are \n",
    "# choosing two dense hidden layers with 256 and 128 \n",
    "# respsectively. For classification, Spark's perceptron \n",
    "# implementation requires the number of output nodes to be\n",
    "# the number of classes.\n",
    "layers = [\n",
    "    len(train_df.columns[1:]), # Number of inputs.\n",
    "    256,\n",
    "    128,\n",
    "    2 # Number of outputs.\n",
    "]\n",
    "mlp_classifier = ml.classification.MultilayerPerceptronClassifier(\n",
    "    featuresCol=\"features\",\n",
    "    labelCol=train_df.columns[0],\n",
    "    predictionCol=\"prediction\",\n",
    "    layers=layers,\n",
    "    maxIter=100,\n",
    "    blockSize=512\n",
    ")"
   ]
  },
  {
   "cell_type": "code",
   "execution_count": 70,
   "id": "c6d3ffea",
   "metadata": {},
   "outputs": [
    {
     "data": {
      "application/vnd.jupyter.widget-view+json": {
       "model_id": "",
       "version_major": 2,
       "version_minor": 0
      },
      "text/plain": [
       "FloatProgress(value=0.0, bar_style='info', description='Progress:', layout=Layout(height='25px', width='50%'),…"
      ]
     },
     "metadata": {},
     "output_type": "display_data"
    }
   ],
   "source": [
    "# Wrap steps into pipeline.\n",
    "# Define Pipeline object.\n",
    "inference_pipeline = ml.Pipeline(\n",
    "    stages=[\n",
    "        feature_assembler,\n",
    "        mlp_classifier\n",
    "    ]\n",
    ")"
   ]
  },
  {
   "cell_type": "markdown",
   "id": "0b6add75",
   "metadata": {},
   "source": [
    "## Fit model and evaluate <a class=\"anchor\" id=\"fit\"></a>\n",
    "Fit the model to the training data and predict values on the testing.\n",
    "We then analyze the model using Spark's built in evaluators."
   ]
  },
  {
   "cell_type": "code",
   "execution_count": null,
   "id": "694b9105",
   "metadata": {},
   "outputs": [
    {
     "data": {
      "application/vnd.jupyter.widget-view+json": {
       "model_id": "ffd19d2846104b19855252f8d1f659f6",
       "version_major": 2,
       "version_minor": 0
      },
      "text/plain": [
       "FloatProgress(value=0.0, bar_style='info', description='Progress:', layout=Layout(height='25px', width='50%'),…"
      ]
     },
     "metadata": {},
     "output_type": "display_data"
    }
   ],
   "source": [
    "# Train the model on the training data and transform \n",
    "# the test data.\n",
    "inference_model = inference_pipeline.fit(train_df)"
   ]
  },
  {
   "cell_type": "code",
   "execution_count": null,
   "id": "1a72e14d",
   "metadata": {},
   "outputs": [],
   "source": [
    "transformed_test_df = inference_model.transform(validation_df)"
   ]
  },
  {
   "cell_type": "code",
   "execution_count": 77,
   "id": "f420f267",
   "metadata": {},
   "outputs": [
    {
     "data": {
      "application/vnd.jupyter.widget-view+json": {
       "model_id": "",
       "version_major": 2,
       "version_minor": 0
      },
      "text/plain": [
       "FloatProgress(value=0.0, bar_style='info', description='Progress:', layout=Layout(height='25px', width='50%'),…"
      ]
     },
     "metadata": {},
     "output_type": "display_data"
    },
    {
     "data": {
      "text/html": [
       "<table><tr><th>_c0</th><th>_c1</th><th>_c2</th><th>_c3</th><th>_c4</th><th>_c5</th><th>_c6</th><th>_c7</th><th>_c8</th><th>_c9</th><th>_c10</th><th>_c11</th><th>_c12</th><th>_c13</th><th>_c14</th><th>_c15</th><th>_c16</th><th>_c17</th><th>_c18</th><th>_c19</th><th>_c20</th><th>_c21</th><th>_c22</th><th>_c23</th><th>_c24</th><th>_c25</th><th>_c26</th><th>_c27</th><th>_c28</th><th>_c29</th><th>_c30</th><th>_c31</th><th>_c32</th><th>_c33</th><th>_c34</th><th>_c35</th><th>_c36</th><th>_c37</th><th>_c38</th><th>_c39</th><th>_c40</th><th>_c41</th><th>_c42</th><th>_c43</th><th>_c44</th><th>_c45</th><th>_c46</th><th>_c47</th><th>_c48</th><th>_c49</th><th>_c50</th><th>_c51</th><th>_c52</th><th>_c53</th><th>_c54</th><th>_c55</th><th>_c56</th><th>_c57</th><th>_c58</th><th>_c59</th><th>_c60</th><th>_c61</th><th>_c62</th><th>_c63</th><th>_c64</th><th>_c65</th><th>_c66</th><th>_c67</th><th>_c68</th><th>_c69</th><th>_c70</th><th>_c71</th><th>_c72</th><th>_c73</th><th>_c74</th><th>_c75</th><th>_c76</th><th>_c77</th><th>_c78</th><th>_c79</th><th>features</th><th>rawPrediction</th><th>probability</th><th>prediction</th></tr><tr><td>0.0</td><td>1.0</td><td>0.0</td><td>0.0</td><td>0.0</td><td>0.0</td><td>0.0</td><td>0.0</td><td>0.0</td><td>0.0</td><td>0.0</td><td>0.0</td><td>0.0</td><td>0.0</td><td>0.0</td><td>1.0</td><td>0.0</td><td>0.0</td><td>0.0</td><td>0.0</td><td>0.0</td><td>0.0</td><td>0.0</td><td>0.0</td><td>0.0</td><td>0.0</td><td>0.0</td><td>1.0</td><td>0.0</td><td>0.0</td><td>0.0</td><td>0.0</td><td>0.0</td><td>0.0</td><td>0.0</td><td>0.0</td><td>0.0</td><td>0.0</td><td>0.0</td><td>0.0</td><td>1.0</td><td>0.0</td><td>0.0</td><td>0.0</td><td>0.0</td><td>0.0</td><td>0.0</td><td>0.0</td><td>0.0</td><td>0.0</td><td>0.0</td><td>0.0</td><td>0.0</td><td>0.0</td><td>0.0</td><td>0.0</td><td>0.0</td><td>0.0</td><td>0.0</td><td>0.0</td><td>0.0</td><td>0.0</td><td>0.0</td><td>0.0</td><td>0.0</td><td>0.0</td><td>0.0</td><td>0.0</td><td>1.0</td><td>0.0</td><td>1.7046088093578637</td><td>0.9881297852033248</td><td>0.0</td><td>0.0</td><td>0.0</td><td>2.8807882428129474</td><td>1.9949963312646992</td><td>0.0</td><td>0.0</td><td>0.0</td><td>(79,[0,14,26,39,6...</td><td>[0.98429395358786...</td><td>[0.69229170765959...</td><td>0.0</td></tr><tr><td>0.0</td><td>1.0</td><td>0.0</td><td>0.0</td><td>0.0</td><td>0.0</td><td>0.0</td><td>0.0</td><td>0.0</td><td>0.0</td><td>0.0</td><td>0.0</td><td>0.0</td><td>0.0</td><td>0.0</td><td>1.0</td><td>0.0</td><td>0.0</td><td>0.0</td><td>0.0</td><td>0.0</td><td>0.0</td><td>0.0</td><td>0.0</td><td>0.0</td><td>0.0</td><td>0.0</td><td>1.0</td><td>0.0</td><td>0.0</td><td>0.0</td><td>0.0</td><td>0.0</td><td>0.0</td><td>0.0</td><td>0.0</td><td>0.0</td><td>0.0</td><td>0.0</td><td>0.0</td><td>1.0</td><td>0.0</td><td>0.0</td><td>0.0</td><td>0.0</td><td>0.0</td><td>0.0</td><td>0.0</td><td>0.0</td><td>0.0</td><td>0.0</td><td>0.0</td><td>0.0</td><td>0.0</td><td>0.0</td><td>0.0</td><td>0.0</td><td>0.0</td><td>0.0</td><td>0.0</td><td>0.0</td><td>0.0</td><td>0.0</td><td>0.0</td><td>0.0</td><td>0.0</td><td>0.0</td><td>0.0</td><td>1.0</td><td>0.0</td><td>1.7604976227794331</td><td>0.9881297852033248</td><td>0.0</td><td>0.0</td><td>0.0</td><td>2.7207444515455617</td><td>2.324170725923375</td><td>0.0</td><td>0.0</td><td>0.0</td><td>(79,[0,14,26,39,6...</td><td>[0.91825534040698...</td><td>[0.66606224923162...</td><td>0.0</td></tr><tr><td>0.0</td><td>1.0</td><td>0.0</td><td>0.0</td><td>0.0</td><td>0.0</td><td>0.0</td><td>0.0</td><td>0.0</td><td>0.0</td><td>0.0</td><td>0.0</td><td>0.0</td><td>0.0</td><td>0.0</td><td>1.0</td><td>0.0</td><td>0.0</td><td>0.0</td><td>0.0</td><td>0.0</td><td>0.0</td><td>0.0</td><td>0.0</td><td>0.0</td><td>0.0</td><td>0.0</td><td>0.0</td><td>0.0</td><td>0.0</td><td>0.0</td><td>0.0</td><td>0.0</td><td>0.0</td><td>0.0</td><td>1.0</td><td>0.0</td><td>0.0</td><td>0.0</td><td>0.0</td><td>1.0</td><td>0.0</td><td>0.0</td><td>0.0</td><td>0.0</td><td>0.0</td><td>0.0</td><td>0.0</td><td>0.0</td><td>0.0</td><td>0.0</td><td>0.0</td><td>0.0</td><td>0.0</td><td>0.0</td><td>0.0</td><td>0.0</td><td>0.0</td><td>0.0</td><td>0.0</td><td>0.0</td><td>0.0</td><td>0.0</td><td>0.0</td><td>0.0</td><td>0.0</td><td>0.0</td><td>0.0</td><td>1.0</td><td>0.0</td><td>1.8070716339640742</td><td>0.7114534453463939</td><td>0.0</td><td>0.0</td><td>0.0</td><td>2.7207444515455617</td><td>2.324170725923375</td><td>0.0</td><td>0.0</td><td>0.0</td><td>(79,[0,14,34,39,6...</td><td>[0.98872177759226...</td><td>[0.69072401120909...</td><td>0.0</td></tr><tr><td>0.0</td><td>1.0</td><td>0.0</td><td>0.0</td><td>0.0</td><td>0.0</td><td>0.0</td><td>0.0</td><td>0.0</td><td>0.0</td><td>0.0</td><td>0.0</td><td>0.0</td><td>0.0</td><td>0.0</td><td>1.0</td><td>0.0</td><td>0.0</td><td>0.0</td><td>0.0</td><td>0.0</td><td>0.0</td><td>0.0</td><td>0.0</td><td>0.0</td><td>0.0</td><td>0.0</td><td>1.0</td><td>0.0</td><td>0.0</td><td>0.0</td><td>0.0</td><td>0.0</td><td>0.0</td><td>0.0</td><td>0.0</td><td>0.0</td><td>0.0</td><td>0.0</td><td>0.0</td><td>1.0</td><td>0.0</td><td>0.0</td><td>0.0</td><td>0.0</td><td>0.0</td><td>0.0</td><td>0.0</td><td>0.0</td><td>0.0</td><td>0.0</td><td>0.0</td><td>0.0</td><td>0.0</td><td>0.0</td><td>0.0</td><td>0.0</td><td>0.0</td><td>0.0</td><td>0.0</td><td>0.0</td><td>0.0</td><td>0.0</td><td>0.0</td><td>0.0</td><td>0.0</td><td>0.0</td><td>0.0</td><td>1.0</td><td>0.0</td><td>1.6580347981732226</td><td>0.8794355088309591</td><td>0.0</td><td>0.0</td><td>0.0</td><td>2.8807882428129474</td><td>1.9949963312646992</td><td>0.0</td><td>0.0</td><td>0.0</td><td>(79,[0,14,26,39,6...</td><td>[0.99016446033114...</td><td>[0.69495560034484...</td><td>0.0</td></tr><tr><td>0.0</td><td>1.0</td><td>0.0</td><td>0.0</td><td>0.0</td><td>0.0</td><td>0.0</td><td>0.0</td><td>0.0</td><td>0.0</td><td>0.0</td><td>0.0</td><td>0.0</td><td>0.0</td><td>0.0</td><td>1.0</td><td>0.0</td><td>0.0</td><td>0.0</td><td>0.0</td><td>0.0</td><td>0.0</td><td>0.0</td><td>0.0</td><td>0.0</td><td>0.0</td><td>0.0</td><td>1.0</td><td>0.0</td><td>0.0</td><td>0.0</td><td>0.0</td><td>0.0</td><td>0.0</td><td>0.0</td><td>0.0</td><td>0.0</td><td>0.0</td><td>0.0</td><td>0.0</td><td>1.0</td><td>0.0</td><td>0.0</td><td>0.0</td><td>0.0</td><td>0.0</td><td>0.0</td><td>0.0</td><td>0.0</td><td>0.0</td><td>0.0</td><td>0.0</td><td>0.0</td><td>0.0</td><td>0.0</td><td>0.0</td><td>0.0</td><td>0.0</td><td>0.0</td><td>0.0</td><td>0.0</td><td>0.0</td><td>0.0</td><td>0.0</td><td>0.0</td><td>0.0</td><td>0.0</td><td>0.0</td><td>1.0</td><td>0.0</td><td>1.7046088093578637</td><td>0.9881297852033248</td><td>0.0</td><td>0.0</td><td>0.0</td><td>2.5607006602781754</td><td>2.3840206158613158</td><td>0.0</td><td>0.0</td><td>0.0</td><td>(79,[0,14,26,39,6...</td><td>[0.88358464275883...</td><td>[0.65233984541049...</td><td>0.0</td></tr></table><br /><pre>only showing top 5 rows</pre>"
      ],
      "text/plain": [
       "<IPython.core.display.HTML object>"
      ]
     },
     "metadata": {},
     "output_type": "display_data"
    }
   ],
   "source": [
    "%%pretty\n",
    "transformed_test_df.show(5)"
   ]
  },
  {
   "cell_type": "code",
   "execution_count": 78,
   "id": "4cc6919a",
   "metadata": {},
   "outputs": [
    {
     "data": {
      "application/vnd.jupyter.widget-view+json": {
       "model_id": "",
       "version_major": 2,
       "version_minor": 0
      },
      "text/plain": [
       "FloatProgress(value=0.0, bar_style='info', description='Progress:', layout=Layout(height='25px', width='50%'),…"
      ]
     },
     "metadata": {},
     "output_type": "display_data"
    }
   ],
   "source": [
    "# Create objects to compute metrics on performance.\n",
    "evaluator = ml.evaluation.BinaryClassificationEvaluator(\n",
    "    labelCol=transformed_test_df.columns[0],\n",
    "    rawPredictionCol=\"prediction\"\n",
    ")\n",
    "metrics = MulticlassMetrics(\n",
    "    transformed_test_df.select(\n",
    "        \"prediction\",\n",
    "        transformed_test_df.columns[0]\n",
    "     ).rdd\n",
    ")"
   ]
  },
  {
   "cell_type": "code",
   "execution_count": 79,
   "id": "eef101ab",
   "metadata": {},
   "outputs": [
    {
     "data": {
      "application/vnd.jupyter.widget-view+json": {
       "model_id": "",
       "version_major": 2,
       "version_minor": 0
      },
      "text/plain": [
       "FloatProgress(value=0.0, bar_style='info', description='Progress:', layout=Layout(height='25px', width='50%'),…"
      ]
     },
     "metadata": {},
     "output_type": "display_data"
    },
    {
     "name": "stdout",
     "output_type": "stream",
     "text": [
      "{\n",
      "    \"accuracy\": 0.6107066229199383,\n",
      "    \"precision\": 0.6107066229199383,\n",
      "    \"recall\": 0.6107066229199383,\n",
      "    \"f1\": 0.6107066229199383,\n",
      "    \"auc\": 0.6106936495658308\n",
      "}"
     ]
    }
   ],
   "source": [
    "# Compute summary statistics on perfomance.\n",
    "performance_statistics = {\n",
    "    \"accuracy\": metrics.accuracy,\n",
    "    \"precision\": metrics.precision(),\n",
    "    \"recall\": metrics.recall(),\n",
    "    \"f1\": metrics.fMeasure(),\n",
    "    \"auc\": evaluator.evaluate(transformed_test_df, {evaluator.metricName: \"areaUnderROC\"}),\n",
    "}\n",
    "print(json.dumps(performance_statistics, indent=4))"
   ]
  },
  {
   "cell_type": "code",
   "execution_count": 80,
   "id": "3ee394d9",
   "metadata": {},
   "outputs": [
    {
     "data": {
      "application/vnd.jupyter.widget-view+json": {
       "model_id": "",
       "version_major": 2,
       "version_minor": 0
      },
      "text/plain": [
       "FloatProgress(value=0.0, bar_style='info', description='Progress:', layout=Layout(height='25px', width='50%'),…"
      ]
     },
     "metadata": {},
     "output_type": "display_data"
    },
    {
     "data": {
      "image/png": "[encoded data removed]",
      "text/plain": [
       "<IPython.core.display.Image object>"
      ]
     },
     "metadata": {},
     "output_type": "display_data"
    }
   ],
   "source": [
    "# Compute confusion matrix.\n",
    "confusion_np = metrics.confusionMatrix().toArray()\n",
    "norm_confusion_np = confusion_np / confusion_np.sum(axis=1)\n",
    "\n",
    "# Show confusion matrix.\n",
    "fig, ax = plt.subplots(figsize=(8, 6))\n",
    "sns.heatmap(\n",
    "    norm_confusion_np, \n",
    "    vmin=-1.0, vmax=1.0, annot=True, fmt=\".2f\", \n",
    "    ax=ax\n",
    ")\n",
    "ax.set_xlabel(\"Predictions\")\n",
    "ax.set_ylabel(\"Actuals\")\n",
    "ax.set_title(\"Confusion matrix of testing results\")\n",
    "%matplot plt"
   ]
  },
  {
   "cell_type": "markdown",
   "id": "4a72fa85",
   "metadata": {},
   "source": [
    "## Serialize and store pipeline <a class=\"anchor\" id=\"store\"></a>\n",
    "Spark pipelines and estimators must be serialized with MLeap to use with a Sagemaker model.\n",
    "Sagemaker will then read the model from S3 to use with a built SparkML image."
   ]
  },
  {
   "cell_type": "code",
   "execution_count": 83,
   "id": "70227022",
   "metadata": {},
   "outputs": [
    {
     "data": {
      "application/vnd.jupyter.widget-view+json": {
       "model_id": "",
       "version_major": 2,
       "version_minor": 0
      },
      "text/plain": [
       "FloatProgress(value=0.0, bar_style='info', description='Progress:', layout=Layout(height='25px', width='50%'),…"
      ]
     },
     "metadata": {},
     "output_type": "display_data"
    }
   ],
   "source": [
    "# Serialize preproccesing pipeline.\n",
    "serializer = support.SimpleSparkSerializer()\n",
    "serializer.serializeToBundle(\n",
    "    inference_model, \n",
    "    \"jar:file:/tmp/model.zip\", \n",
    "    transformed_test_df\n",
    ")"
   ]
  },
  {
   "cell_type": "code",
   "execution_count": 84,
   "id": "563fe866",
   "metadata": {},
   "outputs": [
    {
     "data": {
      "application/vnd.jupyter.widget-view+json": {
       "model_id": "",
       "version_major": 2,
       "version_minor": 0
      },
      "text/plain": [
       "FloatProgress(value=0.0, bar_style='info', description='Progress:', layout=Layout(height='25px', width='50%'),…"
      ]
     },
     "metadata": {},
     "output_type": "display_data"
    }
   ],
   "source": [
    "# Convert model zipfile to tarfile.\n",
    "with zipfile.ZipFile(\"/tmp/model.zip\") as zf:\n",
    "    zf.extractall(\"/tmp/model\")\n",
    "\n",
    "with tarfile.open(\"/tmp/model.tar.gz\", \"w:gz\") as tar:\n",
    "    tar.add(\"/tmp/model/bundle.json\", arcname=\"bundle.json\")\n",
    "    tar.add(\"/tmp/model/root\", arcname=\"root\")\n",
    "\n",
    "# Write model to S3.\n",
    "s3 = boto3.resource(\"s3\")\n",
    "filename = \"spark-perceptron/model.tar.gz\"\n",
    "s3.Bucket(model_bucket).upload_file(\"/tmp/model.tar.gz\", filename)\n",
    "\n",
    "# Clean up local environment.\n",
    "os.remove(\"/tmp/model.zip\")\n",
    "os.remove(\"/tmp/model.tar.gz\")\n",
    "shutil.rmtree(\"/tmp/model\")"
   ]
  },
  {
   "cell_type": "code",
   "execution_count": null,
   "id": "88b010ac",
   "metadata": {},
   "outputs": [],
   "source": []
  }
 ],
 "metadata": {
  "kernelspec": {
   "display_name": "Sparkmagic (PySpark)",
   "language": "python",
   "name": "pysparkkernel"
  },
  "language_info": {
   "codemirror_mode": {
    "name": "python",
    "version": 3
   },
   "file_extension": ".py",
   "mimetype": "text/x-python",
   "name": "pyspark",
   "pygments_lexer": "python3"
  }
 },
 "nbformat": 4,
 "nbformat_minor": 5
}
