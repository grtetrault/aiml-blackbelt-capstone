{
 "cells": [
  {
   "cell_type": "markdown",
   "id": "457ab746",
   "metadata": {},
   "source": [
    "# 3a - Training Amazon's XGBoost"
   ]
  },
  {
   "cell_type": "markdown",
   "id": "2984553e",
   "metadata": {},
   "source": [
    "## Introduction\n",
    "In this notebook, we will train Amazon's XGBoost implementation, evaluate the training performance, and output model artifacts."
   ]
  },
  {
   "cell_type": "markdown",
   "id": "b09de107",
   "metadata": {},
   "source": [
    "## Setup\n",
    "First, we import Sageamker SDK dependencies as well as modules used in application below.\n",
    "We also get relevant sessions and read in local environment data."
   ]
  },
  {
   "cell_type": "code",
   "execution_count": 71,
   "id": "75952cc1",
   "metadata": {},
   "outputs": [],
   "source": [
    "import json\n",
    "import uuid\n",
    "import boto3\n",
    "import random\n",
    "import tarfile\n",
    "import pickle as pkl\n",
    "import datetime as dt\n",
    "import sagemaker as sm\n",
    "import sagemaker.xgboost as xgb"
   ]
  },
  {
   "cell_type": "code",
   "execution_count": 72,
   "id": "2da1d134",
   "metadata": {},
   "outputs": [],
   "source": [
    "sm_session = sm.Session()\n",
    "role = sm.get_execution_role()\n",
    "boto3_session = boto3.session.Session()\n",
    "now = dt.datetime.now().strftime(r\"%Y%m%dT%H%M%S\")"
   ]
  },
  {
   "cell_type": "code",
   "execution_count": 33,
   "id": "d60e204e",
   "metadata": {},
   "outputs": [],
   "source": [
    "# Get boto3 session attributes.\n",
    "account = boto3_session.client(\"sts\").get_caller_identity()[\"Account\"]\n",
    "region = boto3_session.region_name\n",
    "\n",
    "# Create S3 resource and retrieve data bucket name.\n",
    "s3_resource = boto3_session.resource(\"s3\")\n",
    "with open(\"/home/ec2-user/.aiml-bb/stack-data.json\", \"r\") as f:\n",
    "    data = json.load(f)\n",
    "    data_bucket = data[\"data_bucket\"]\n",
    "    model_bucket = data[\"model_bucket\"]"
   ]
  },
  {
   "cell_type": "markdown",
   "id": "4b30878f",
   "metadata": {},
   "source": [
    "## Define resources for estimator"
   ]
  },
  {
   "cell_type": "code",
   "execution_count": 34,
   "id": "e5b6cdcb",
   "metadata": {},
   "outputs": [],
   "source": [
    "# Get XGBoost container image for current region.\n",
    "xgb_container_image = sm.image_uris.retrieve(\"xgboost\", region, \"latest\")\n",
    "\n",
    "# Create a unique training job name.\n",
    "training_job_name = f\"xgboost-{str(uuid.uuid4())[:8]}\""
   ]
  },
  {
   "cell_type": "code",
   "execution_count": 35,
   "id": "2b7cbfbe",
   "metadata": {},
   "outputs": [],
   "source": [
    "train_input = sm.inputs.TrainingInput(\n",
    "    s3_data=f\"s3://{model_bucket}/preprocessing_output/train/\", \n",
    "    content_type=\"csv\"\n",
    ")\n",
    "validation_input = sm.inputs.TrainingInput(\n",
    "    s3_data=f\"s3://{model_bucket}/preprocessing_output/validation/\",\n",
    "    content_type=\"csv\"\n",
    ")"
   ]
  },
  {
   "cell_type": "markdown",
   "id": "e968cee2",
   "metadata": {},
   "source": [
    "## Create and fit estimator\n",
    "Here we create the `Estimator` object, and define default hyperparameters as well as ranges.\n",
    "We then attach a `HyperparameterTuner` and fit the tuner."
   ]
  },
  {
   "cell_type": "code",
   "execution_count": 47,
   "id": "b850f6ed",
   "metadata": {},
   "outputs": [],
   "source": [
    "# Create estimator running the XGBoost container.\n",
    "xgb_estimator = sm.estimator.Estimator(\n",
    "    xgb_container_image,\n",
    "    role, \n",
    "    instance_count=1, \n",
    "    instance_type=\"ml.m5.12xlarge\",\n",
    "    volume_size=50,\n",
    "    output_path=f\"s3://{model_bucket}/sagemaker-xgboost/\"\n",
    ")"
   ]
  },
  {
   "cell_type": "code",
   "execution_count": 48,
   "id": "06bcc35b",
   "metadata": {},
   "outputs": [],
   "source": [
    "# Define starting hyperparameters for the model.\n",
    "xgb_estimator.set_hyperparameters(\n",
    "    eval_metric=\"auc\",\n",
    "    objective=\"binary:logistic\",\n",
    "    max_depth=5,\n",
    "    eta=0.2,\n",
    "    gamma=4,\n",
    "    min_child_weight=6,\n",
    "    subsample=0.8,\n",
    "    silent=0,\n",
    "    num_round=100\n",
    ")\n",
    "# Set ranges of XGBoost hyperparameters for tuning.\n",
    "xgb_hyperparameter_ranges = {\n",
    "    \"eta\": sm.tuner.ContinuousParameter(0, 1),\n",
    "    \"alpha\": sm.tuner.ContinuousParameter(0, 2),\n",
    "    \"min_child_weight\": sm.tuner.ContinuousParameter(1, 10),\n",
    "    \"max_depth\": sm.tuner.IntegerParameter(1, 10)\n",
    "}"
   ]
  },
  {
   "cell_type": "code",
   "execution_count": 49,
   "id": "8af7808c",
   "metadata": {},
   "outputs": [
    {
     "name": "stdout",
     "output_type": "stream",
     "text": [
      "..............................................................................................................................................................................................................................................................................................................................................................................................................................................................................................................................................................................................................................................................................................................................................................................................................................................................................................................................................................................................................................................................................................................!\n"
     ]
    }
   ],
   "source": [
    "# Create tuner and fit.\n",
    "xgb_objective_metric_name = \"validation:auc\"\n",
    "xgb_tuner = sm.tuner.HyperparameterTuner(\n",
    "    xgb_estimator,\n",
    "    xgb_objective_metric_name,\n",
    "    xgb_hyperparameter_ranges,\n",
    "    max_jobs=10,\n",
    "    max_parallel_jobs=5,\n",
    "    strategy=\"Bayesian\"\n",
    ")\n",
    "xgb_tuner.fit(\n",
    "    {\"train\": train_input, \"validation\": validation_input}\n",
    ")"
   ]
  },
  {
   "cell_type": "markdown",
   "id": "cda290ab",
   "metadata": {},
   "source": [
    "## Select best model\n",
    "View the analytics from the tuning job and select the best model.\n",
    "We then store the best model in location that we can reference more easily in other notebooks."
   ]
  },
  {
   "cell_type": "code",
   "execution_count": 54,
   "id": "ca09f7e0",
   "metadata": {},
   "outputs": [
    {
     "data": {
      "text/html": [
       "<div>\n",
       "<style scoped>\n",
       "    .dataframe tbody tr th:only-of-type {\n",
       "        vertical-align: middle;\n",
       "    }\n",
       "\n",
       "    .dataframe tbody tr th {\n",
       "        vertical-align: top;\n",
       "    }\n",
       "\n",
       "    .dataframe thead th {\n",
       "        text-align: right;\n",
       "    }\n",
       "</style>\n",
       "<table border=\"1\" class=\"dataframe\">\n",
       "  <thead>\n",
       "    <tr style=\"text-align: right;\">\n",
       "      <th></th>\n",
       "      <th>alpha</th>\n",
       "      <th>eta</th>\n",
       "      <th>max_depth</th>\n",
       "      <th>min_child_weight</th>\n",
       "      <th>TrainingJobName</th>\n",
       "      <th>TrainingJobStatus</th>\n",
       "      <th>FinalObjectiveValue</th>\n",
       "      <th>TrainingStartTime</th>\n",
       "      <th>TrainingEndTime</th>\n",
       "      <th>TrainingElapsedTimeSeconds</th>\n",
       "    </tr>\n",
       "  </thead>\n",
       "  <tbody>\n",
       "    <tr>\n",
       "      <th>4</th>\n",
       "      <td>1.976319</td>\n",
       "      <td>0.077564</td>\n",
       "      <td>3.0</td>\n",
       "      <td>8.556083</td>\n",
       "      <td>xgboost-220126-2026-006-cfbfc4df</td>\n",
       "      <td>Completed</td>\n",
       "      <td>0.656425</td>\n",
       "      <td>2022-01-26 20:54:29+00:00</td>\n",
       "      <td>2022-01-26 21:21:13+00:00</td>\n",
       "      <td>1604.0</td>\n",
       "    </tr>\n",
       "    <tr>\n",
       "      <th>0</th>\n",
       "      <td>0.042032</td>\n",
       "      <td>0.053760</td>\n",
       "      <td>4.0</td>\n",
       "      <td>3.718979</td>\n",
       "      <td>xgboost-220126-2026-010-a8a6520e</td>\n",
       "      <td>Completed</td>\n",
       "      <td>0.656621</td>\n",
       "      <td>2022-01-26 21:24:19+00:00</td>\n",
       "      <td>2022-01-26 21:55:56+00:00</td>\n",
       "      <td>1897.0</td>\n",
       "    </tr>\n",
       "    <tr>\n",
       "      <th>9</th>\n",
       "      <td>1.128438</td>\n",
       "      <td>0.526651</td>\n",
       "      <td>1.0</td>\n",
       "      <td>2.209369</td>\n",
       "      <td>xgboost-220126-2026-001-dc8ccd8f</td>\n",
       "      <td>Completed</td>\n",
       "      <td>0.658205</td>\n",
       "      <td>2022-01-26 20:29:18+00:00</td>\n",
       "      <td>2022-01-26 20:50:46+00:00</td>\n",
       "      <td>1288.0</td>\n",
       "    </tr>\n",
       "    <tr>\n",
       "      <th>6</th>\n",
       "      <td>1.053283</td>\n",
       "      <td>0.175031</td>\n",
       "      <td>3.0</td>\n",
       "      <td>1.363933</td>\n",
       "      <td>xgboost-220126-2026-004-d3fb01e7</td>\n",
       "      <td>Completed</td>\n",
       "      <td>0.664995</td>\n",
       "      <td>2022-01-26 20:29:16+00:00</td>\n",
       "      <td>2022-01-26 20:56:07+00:00</td>\n",
       "      <td>1611.0</td>\n",
       "    </tr>\n",
       "    <tr>\n",
       "      <th>5</th>\n",
       "      <td>0.161095</td>\n",
       "      <td>0.407553</td>\n",
       "      <td>2.0</td>\n",
       "      <td>9.182872</td>\n",
       "      <td>xgboost-220126-2026-005-7a1b368f</td>\n",
       "      <td>Completed</td>\n",
       "      <td>0.665094</td>\n",
       "      <td>2022-01-26 20:29:39+00:00</td>\n",
       "      <td>2022-01-26 20:53:42+00:00</td>\n",
       "      <td>1443.0</td>\n",
       "    </tr>\n",
       "    <tr>\n",
       "      <th>3</th>\n",
       "      <td>0.350343</td>\n",
       "      <td>0.783599</td>\n",
       "      <td>2.0</td>\n",
       "      <td>9.896415</td>\n",
       "      <td>xgboost-220126-2026-007-54fa9be2</td>\n",
       "      <td>Completed</td>\n",
       "      <td>0.666874</td>\n",
       "      <td>2022-01-26 20:56:31+00:00</td>\n",
       "      <td>2022-01-26 21:20:31+00:00</td>\n",
       "      <td>1440.0</td>\n",
       "    </tr>\n",
       "    <tr>\n",
       "      <th>8</th>\n",
       "      <td>0.541318</td>\n",
       "      <td>0.217562</td>\n",
       "      <td>4.0</td>\n",
       "      <td>2.557321</td>\n",
       "      <td>xgboost-220126-2026-002-c9e0a844</td>\n",
       "      <td>Completed</td>\n",
       "      <td>0.671957</td>\n",
       "      <td>2022-01-26 20:29:30+00:00</td>\n",
       "      <td>2022-01-26 21:00:09+00:00</td>\n",
       "      <td>1839.0</td>\n",
       "    </tr>\n",
       "    <tr>\n",
       "      <th>1</th>\n",
       "      <td>1.083935</td>\n",
       "      <td>0.437011</td>\n",
       "      <td>4.0</td>\n",
       "      <td>3.119949</td>\n",
       "      <td>xgboost-220126-2026-009-63ddd00a</td>\n",
       "      <td>Completed</td>\n",
       "      <td>0.675611</td>\n",
       "      <td>2022-01-26 21:02:53+00:00</td>\n",
       "      <td>2022-01-26 21:33:04+00:00</td>\n",
       "      <td>1811.0</td>\n",
       "    </tr>\n",
       "    <tr>\n",
       "      <th>2</th>\n",
       "      <td>0.868387</td>\n",
       "      <td>0.261840</td>\n",
       "      <td>9.0</td>\n",
       "      <td>1.005081</td>\n",
       "      <td>xgboost-220126-2026-008-180ba864</td>\n",
       "      <td>Completed</td>\n",
       "      <td>0.691933</td>\n",
       "      <td>2022-01-26 20:59:02+00:00</td>\n",
       "      <td>2022-01-26 21:50:34+00:00</td>\n",
       "      <td>3092.0</td>\n",
       "    </tr>\n",
       "    <tr>\n",
       "      <th>7</th>\n",
       "      <td>1.865069</td>\n",
       "      <td>0.474299</td>\n",
       "      <td>10.0</td>\n",
       "      <td>8.813583</td>\n",
       "      <td>xgboost-220126-2026-003-1fc7f8bd</td>\n",
       "      <td>Completed</td>\n",
       "      <td>0.701860</td>\n",
       "      <td>2022-01-26 20:29:45+00:00</td>\n",
       "      <td>2022-01-26 21:26:31+00:00</td>\n",
       "      <td>3406.0</td>\n",
       "    </tr>\n",
       "  </tbody>\n",
       "</table>\n",
       "</div>"
      ],
      "text/plain": [
       "      alpha       eta  max_depth  min_child_weight  \\\n",
       "4  1.976319  0.077564        3.0          8.556083   \n",
       "0  0.042032  0.053760        4.0          3.718979   \n",
       "9  1.128438  0.526651        1.0          2.209369   \n",
       "6  1.053283  0.175031        3.0          1.363933   \n",
       "5  0.161095  0.407553        2.0          9.182872   \n",
       "3  0.350343  0.783599        2.0          9.896415   \n",
       "8  0.541318  0.217562        4.0          2.557321   \n",
       "1  1.083935  0.437011        4.0          3.119949   \n",
       "2  0.868387  0.261840        9.0          1.005081   \n",
       "7  1.865069  0.474299       10.0          8.813583   \n",
       "\n",
       "                    TrainingJobName TrainingJobStatus  FinalObjectiveValue  \\\n",
       "4  xgboost-220126-2026-006-cfbfc4df         Completed             0.656425   \n",
       "0  xgboost-220126-2026-010-a8a6520e         Completed             0.656621   \n",
       "9  xgboost-220126-2026-001-dc8ccd8f         Completed             0.658205   \n",
       "6  xgboost-220126-2026-004-d3fb01e7         Completed             0.664995   \n",
       "5  xgboost-220126-2026-005-7a1b368f         Completed             0.665094   \n",
       "3  xgboost-220126-2026-007-54fa9be2         Completed             0.666874   \n",
       "8  xgboost-220126-2026-002-c9e0a844         Completed             0.671957   \n",
       "1  xgboost-220126-2026-009-63ddd00a         Completed             0.675611   \n",
       "2  xgboost-220126-2026-008-180ba864         Completed             0.691933   \n",
       "7  xgboost-220126-2026-003-1fc7f8bd         Completed             0.701860   \n",
       "\n",
       "          TrainingStartTime           TrainingEndTime  \\\n",
       "4 2022-01-26 20:54:29+00:00 2022-01-26 21:21:13+00:00   \n",
       "0 2022-01-26 21:24:19+00:00 2022-01-26 21:55:56+00:00   \n",
       "9 2022-01-26 20:29:18+00:00 2022-01-26 20:50:46+00:00   \n",
       "6 2022-01-26 20:29:16+00:00 2022-01-26 20:56:07+00:00   \n",
       "5 2022-01-26 20:29:39+00:00 2022-01-26 20:53:42+00:00   \n",
       "3 2022-01-26 20:56:31+00:00 2022-01-26 21:20:31+00:00   \n",
       "8 2022-01-26 20:29:30+00:00 2022-01-26 21:00:09+00:00   \n",
       "1 2022-01-26 21:02:53+00:00 2022-01-26 21:33:04+00:00   \n",
       "2 2022-01-26 20:59:02+00:00 2022-01-26 21:50:34+00:00   \n",
       "7 2022-01-26 20:29:45+00:00 2022-01-26 21:26:31+00:00   \n",
       "\n",
       "   TrainingElapsedTimeSeconds  \n",
       "4                      1604.0  \n",
       "0                      1897.0  \n",
       "9                      1288.0  \n",
       "6                      1611.0  \n",
       "5                      1443.0  \n",
       "3                      1440.0  \n",
       "8                      1839.0  \n",
       "1                      1811.0  \n",
       "2                      3092.0  \n",
       "7                      3406.0  "
      ]
     },
     "execution_count": 54,
     "metadata": {},
     "output_type": "execute_result"
    }
   ],
   "source": [
    "# View analytics on tuning job results.\n",
    "xgb_tuner_analytics = sm.HyperparameterTuningJobAnalytics(\n",
    "    xgb_tuner.describe()[\"HyperParameterTuningJobName\"]\n",
    ")\n",
    "xgb_tuner_analytics.dataframe().sort_values(\"FinalObjectiveValue\")"
   ]
  },
  {
   "cell_type": "code",
   "execution_count": 63,
   "id": "b7e12b0f",
   "metadata": {},
   "outputs": [],
   "source": [
    "# Take best model and copy to location we can reference in other notebooks.\n",
    "xgb_best_training_job_name = xgb_tuner.best_training_job()\n",
    "xgb_best_training_job_key = f\"sagemaker-xgboost/{xgb_best_training_job_name}/output/model.tar.gz\"\n",
    "copy_source = {\n",
    "    \"Bucket\": model_bucket,\n",
    "    \"Key\": xgb_best_training_job_key\n",
    "}\n",
    "s3_resource.Bucket(model_bucket).copy(\n",
    "    copy_source, \n",
    "    \"sagemaker-xgboost-tuned/model.tar.gz\"\n",
    ")"
   ]
  },
  {
   "cell_type": "markdown",
   "id": "3bb47491",
   "metadata": {},
   "source": [
    "## Host and test model\n",
    "To test the model, we must now create an endpoint that we can send the test data set aside during preprocessing."
   ]
  },
  {
   "cell_type": "code",
   "execution_count": 79,
   "id": "e226b44c",
   "metadata": {},
   "outputs": [
    {
     "name": "stdout",
     "output_type": "stream",
     "text": [
      "-----!"
     ]
    }
   ],
   "source": [
    "xgb_model = sm.model.Model(\n",
    "    image_uri=xgb_container_image,\n",
    "    model_data=f\"s3://{model_bucket}/sagemaker-xgboost-tuned/model.tar.gz\",\n",
    "    role=role\n",
    ")\n",
    "endpoint_name = f\"xgb-test-endpt-{now}\"\n",
    "xgb_predictor = xgb_model.deploy(\n",
    "    initial_instance_count=1,\n",
    "    instance_type=\"ml.m5.xlarge\",\n",
    "    endpoint_name=endpoint_name\n",
    ")"
   ]
  },
  {
   "cell_type": "code",
   "execution_count": null,
   "id": "dbf0bc3c",
   "metadata": {},
   "outputs": [],
   "source": [
    "# Iterate over testing data and compute statistics.\n",
    "for obj in s3_resource.Bucket(model_bucket)"
   ]
  },
  {
   "cell_type": "code",
   "execution_count": 74,
   "id": "3866093d",
   "metadata": {},
   "outputs": [],
   "source": [
    "sm_session.delete_endpoint(endpoint_name)"
   ]
  }
 ],
 "metadata": {
  "kernelspec": {
   "display_name": "conda_python3",
   "language": "python",
   "name": "conda_python3"
  },
  "language_info": {
   "codemirror_mode": {
    "name": "ipython",
    "version": 3
   },
   "file_extension": ".py",
   "mimetype": "text/x-python",
   "name": "python",
   "nbconvert_exporter": "python",
   "pygments_lexer": "ipython3",
   "version": "3.6.13"
  }
 },
 "nbformat": 4,
 "nbformat_minor": 5
}
