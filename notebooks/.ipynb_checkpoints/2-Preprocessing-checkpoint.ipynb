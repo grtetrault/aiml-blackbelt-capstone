{
 "cells": [
  {
   "cell_type": "markdown",
   "id": "0813c674",
   "metadata": {},
   "source": [
    "# 2 - Preprocessing <a class=\"anchor\" id=\"top\"></a>\n",
    "* [Introduction](#intro)\n",
    "* [Setup](#setup)\n",
    "* [Loading the data](#load-data)\n",
    "    * [Target variable](#target)\n",
    "    * [Balancing the data](#balance)\n",
    "* [Feature engineering](#ft-eng)\n",
    "    * [Categorical variables](#cat)\n",
    "    * [Continuous variables](#continuous)\n",
    "* [Train-test split](#train-test)\n",
    "* [Define and fit pipeline](#pipeline)\n",
    "* [Partition and write data](#write-s3)\n",
    "* [Serialize and store pipelines](#store-pipeline)\n",
    "* [Save baseline data set](#baseline)"
   ]
  },
  {
   "cell_type": "markdown",
   "id": "d1dfdbae",
   "metadata": {},
   "source": [
    "## Introduction <a class=\"anchor\" id=\"intro\"></a>\n",
    "In this section, we preform all neccesary data operations to prepare our data for use in models.\n",
    "This includes filtering, feature subsetting, feature engineering, cleaning, and finally exporting to S3."
   ]
  },
  {
   "cell_type": "markdown",
   "id": "83b469d6",
   "metadata": {},
   "source": [
    "## Setup <a class=\"anchor\" id=\"setup\"></a>\n",
    "First, we must import relevant Spark modules as well as libraries for statistical analysis and visualizations.\n",
    "Note that will also start the Spark application that creates the `SparkSession` and sets it to the `spark` variable."
   ]
  },
  {
   "cell_type": "code",
   "execution_count": 2,
   "id": "21b7980d",
   "metadata": {},
   "outputs": [],
   "source": [
    "%%cleanup -f"
   ]
  },
  {
   "cell_type": "code",
   "execution_count": 9,
   "id": "a4e214da",
   "metadata": {},
   "outputs": [
    {
     "data": {
      "application/vnd.jupyter.widget-view+json": {
       "model_id": "",
       "version_major": 2,
       "version_minor": 0
      },
      "text/plain": [
       "FloatProgress(value=0.0, bar_style='info', description='Progress:', layout=Layout(height='25px', width='50%'),…"
      ]
     },
     "metadata": {},
     "output_type": "display_data"
    }
   ],
   "source": [
    "import pyspark\n",
    "import pyspark.ml as ml\n",
    "import pyspark.sql as sql\n",
    "import pyspark.sql.types as types\n",
    "import pyspark.sql.functions as F\n",
    "import mleap.pyspark.spark_support as support\n",
    "\n",
    "import os\n",
    "import json\n",
    "import boto3\n",
    "import shutil\n",
    "import zipfile\n",
    "import tarfile\n",
    "import seaborn as sns\n",
    "import matplotlib.pyplot as plt\n",
    "sns.set_style(\"darkgrid\")"
   ]
  },
  {
   "cell_type": "code",
   "execution_count": 10,
   "id": "04167534",
   "metadata": {},
   "outputs": [
    {
     "data": {
      "application/vnd.jupyter.widget-view+json": {
       "model_id": "",
       "version_major": 2,
       "version_minor": 0
      },
      "text/plain": [
       "FloatProgress(value=0.0, bar_style='info', description='Progress:', layout=Layout(height='25px', width='50%'),…"
      ]
     },
     "metadata": {},
     "output_type": "display_data"
    }
   ],
   "source": [
    "s3 = boto3.resource(\"s3\")"
   ]
  },
  {
   "cell_type": "code",
   "execution_count": 11,
   "id": "ba0415c1",
   "metadata": {},
   "outputs": [
    {
     "data": {
      "application/vnd.jupyter.widget-view+json": {
       "model_id": "",
       "version_major": 2,
       "version_minor": 0
      },
      "text/plain": [
       "FloatProgress(value=0.0, bar_style='info', description='Progress:', layout=Layout(height='25px', width='50%'),…"
      ]
     },
     "metadata": {},
     "output_type": "display_data"
    }
   ],
   "source": [
    "# Avoids creation of _SUCCESS files.\n",
    "sc._jsc.hadoopConfiguration().set(\"mapreduce.fileoutputcommitter.marksuccessfuljobs\", \"false\")"
   ]
  },
  {
   "cell_type": "markdown",
   "id": "2aa79067",
   "metadata": {},
   "source": [
    "## Loading the data <a class=\"anchor\" id=\"load-data\"></a>\n",
    "\n",
    "Now, we load the airline data from S3.\n",
    "To do this, we must first get the bucket name where the data is stored.\n",
    "This variable is stored on the local Sagemaker notebook instance during the `DevEnvironment` stack creation \n",
    "and must be explicitly passed to the Spark cluster.\n",
    "\n",
    "Additionally, the data is also subsetted and filter before preforming any feature engineering.\n",
    "This is to reduce the number of features we are working with \n",
    "and ensure that the features we have are meaningful."
   ]
  },
  {
   "cell_type": "code",
   "execution_count": 12,
   "id": "a5056a6a",
   "metadata": {},
   "outputs": [],
   "source": [
    "%%local\n",
    "import json\n",
    "with open(\"/home/ec2-user/.aiml-bb/stack-data.json\", \"r\") as f:\n",
    "    data = json.load(f)\n",
    "    data_bucket = data[\"data_bucket\"]\n",
    "    model_bucket = data[\"model_bucket\"]"
   ]
  },
  {
   "cell_type": "code",
   "execution_count": 13,
   "id": "e507c9a8",
   "metadata": {},
   "outputs": [
    {
     "data": {
      "application/vnd.jupyter.widget-view+json": {
       "model_id": "",
       "version_major": 2,
       "version_minor": 0
      },
      "text/plain": [
       "FloatProgress(value=0.0, bar_style='info', description='Progress:', layout=Layout(height='25px', width='50%'),…"
      ]
     },
     "metadata": {},
     "output_type": "display_data"
    },
    {
     "name": "stdout",
     "output_type": "stream",
     "text": [
      "Successfully passed 'data_bucket' as 'data_bucket' to Spark kernel"
     ]
    }
   ],
   "source": [
    "%%send_to_spark -i data_bucket -t str"
   ]
  },
  {
   "cell_type": "code",
   "execution_count": 14,
   "id": "32afb240",
   "metadata": {},
   "outputs": [
    {
     "data": {
      "application/vnd.jupyter.widget-view+json": {
       "model_id": "",
       "version_major": 2,
       "version_minor": 0
      },
      "text/plain": [
       "FloatProgress(value=0.0, bar_style='info', description='Progress:', layout=Layout(height='25px', width='50%'),…"
      ]
     },
     "metadata": {},
     "output_type": "display_data"
    },
    {
     "name": "stdout",
     "output_type": "stream",
     "text": [
      "Successfully passed 'model_bucket' as 'model_bucket' to Spark kernel"
     ]
    }
   ],
   "source": [
    "%%send_to_spark -i model_bucket -t str"
   ]
  },
  {
   "cell_type": "code",
   "execution_count": 15,
   "id": "4f54f456",
   "metadata": {},
   "outputs": [
    {
     "data": {
      "application/vnd.jupyter.widget-view+json": {
       "model_id": "",
       "version_major": 2,
       "version_minor": 0
      },
      "text/plain": [
       "FloatProgress(value=0.0, bar_style='info', description='Progress:', layout=Layout(height='25px', width='50%'),…"
      ]
     },
     "metadata": {},
     "output_type": "display_data"
    }
   ],
   "source": [
    "# Subset ETL output to only relevant columns for model input.\n",
    "join_df = spark.read.parquet(f\"s3://{data_bucket}/etl_output/joined_airline_weather_data/\")\n",
    "\n",
    "# Work on a subset of the data that reflects the input schema \n",
    "# we'd like our endpoint to recieve.\n",
    "input_df = (\n",
    "    join_df\n",
    "    # Drop all other NaN values.\n",
    "    .dropna(\n",
    "        subset=[\"origin\", \"dest\", \"origin_station_id\", \"dest_station_id\"]\n",
    "    )\n",
    "    # Fill NaN values where neccesary.\n",
    "    .na.fill(\n",
    "        0.0,\n",
    "        subset=[\n",
    "            \"arr_delay\",\n",
    "            \"origin_prcp\", \"origin_snow\", \"origin_snwd\",\n",
    "            \"dest_prcp\", \"dest_snow\", \"dest_snwd\"\n",
    "        ]\n",
    "    )\n",
    "    # Make feature selection.\n",
    "    .select(\n",
    "        \"arr_delay\", \"cancelled\", \"diverted\",\n",
    "        \"day_of_week\", \"month\",\n",
    "        \"op_carrier\",\n",
    "        \"origin_latitude\", \"origin_longitude\",\n",
    "        \"dest_latitude\", \"dest_longitude\",\n",
    "        \"origin_tmax\", \"origin_tmin\", \n",
    "        \"origin_prcp\", \"origin_snow\", \"origin_snwd\",\n",
    "        \"dest_tmax\", \"dest_tmin\", \n",
    "        \"dest_prcp\", \"dest_snow\", \"dest_snwd\"\n",
    "    )\n",
    ")"
   ]
  },
  {
   "cell_type": "code",
   "execution_count": 16,
   "id": "1e97eefb",
   "metadata": {
    "scrolled": true
   },
   "outputs": [
    {
     "data": {
      "application/vnd.jupyter.widget-view+json": {
       "model_id": "",
       "version_major": 2,
       "version_minor": 0
      },
      "text/plain": [
       "FloatProgress(value=0.0, bar_style='info', description='Progress:', layout=Layout(height='25px', width='50%'),…"
      ]
     },
     "metadata": {},
     "output_type": "display_data"
    },
    {
     "data": {
      "text/html": [
       "<table><tr><th>arr_delay</th><th>cancelled</th><th>diverted</th><th>day_of_week</th><th>month</th><th>op_carrier</th><th>origin_latitude</th><th>origin_longitude</th><th>dest_latitude</th><th>dest_longitude</th><th>origin_tmax</th><th>origin_tmin</th><th>origin_prcp</th><th>origin_snow</th><th>origin_snwd</th><th>dest_tmax</th><th>dest_tmin</th><th>dest_prcp</th><th>dest_snow</th><th>dest_snwd</th></tr><tr><td>-9.0</td><td>0.0</td><td>0.0</td><td>2</td><td>5</td><td>EV</td><td>33.6367</td><td>-84.428101</td><td>40.652099609375</td><td>-75.44080352783203</td><td>178.0</td><td>94.0</td><td>0.0</td><td>0.0</td><td>0.0</td><td>172.0</td><td>133.0</td><td>81.0</td><td>0.0</td><td>0.0</td></tr><tr><td>213.0</td><td>0.0</td><td>0.0</td><td>3</td><td>7</td><td>EV</td><td>33.6367</td><td>-84.428101</td><td>40.652099609375</td><td>-75.44080352783203</td><td>244.0</td><td>194.0</td><td>462.0</td><td>0.0</td><td>0.0</td><td>289.0</td><td>228.0</td><td>13.0</td><td>0.0</td><td>0.0</td></tr><tr><td>73.0</td><td>0.0</td><td>0.0</td><td>3</td><td>7</td><td>EV</td><td>33.6367</td><td>-84.428101</td><td>40.652099609375</td><td>-75.44080352783203</td><td>244.0</td><td>194.0</td><td>462.0</td><td>0.0</td><td>0.0</td><td>289.0</td><td>228.0</td><td>13.0</td><td>0.0</td><td>0.0</td></tr><tr><td>48.0</td><td>0.0</td><td>0.0</td><td>3</td><td>7</td><td>EV</td><td>33.6367</td><td>-84.428101</td><td>40.652099609375</td><td>-75.44080352783203</td><td>244.0</td><td>194.0</td><td>462.0</td><td>0.0</td><td>0.0</td><td>289.0</td><td>228.0</td><td>13.0</td><td>0.0</td><td>0.0</td></tr><tr><td>106.0</td><td>0.0</td><td>0.0</td><td>1</td><td>12</td><td>9E</td><td>33.6367</td><td>-84.428101</td><td>40.652099609375</td><td>-75.44080352783203</td><td>106.0</td><td>50.0</td><td>254.0</td><td>0.0</td><td>0.0</td><td>11.0</td><td>-21.0</td><td>58.0</td><td>0.0</td><td>30.0</td></tr></table><br /><pre>only showing top 5 rows</pre>"
      ],
      "text/plain": [
       "<IPython.core.display.HTML object>"
      ]
     },
     "metadata": {},
     "output_type": "display_data"
    }
   ],
   "source": [
    "%%pretty\n",
    "input_df.show(5)"
   ]
  },
  {
   "cell_type": "markdown",
   "id": "992e9cc3",
   "metadata": {},
   "source": [
    "### Target variable <a class=\"anchor\" id=\"target\"></a>\n",
    "We will reduce the regression problem of determining arrival delay into the binary classfication problem or detmering if a delay (or cancellation) will occur.\n",
    "Because this step will not be a part of our inference pipeline, we do not need to wrap it in a Spark `Transformer`."
   ]
  },
  {
   "cell_type": "code",
   "execution_count": 17,
   "id": "aecc85fa",
   "metadata": {},
   "outputs": [
    {
     "data": {
      "application/vnd.jupyter.widget-view+json": {
       "model_id": "",
       "version_major": 2,
       "version_minor": 0
      },
      "text/plain": [
       "FloatProgress(value=0.0, bar_style='info', description='Progress:', layout=Layout(height='25px', width='50%'),…"
      ]
     },
     "metadata": {},
     "output_type": "display_data"
    }
   ],
   "source": [
    "# Define the new categorical column we want to predict.\n",
    "# Strings are used here so we can postprocess the binary \n",
    "# classification to readable results. \n",
    "input_df = (\n",
    "    input_df\n",
    "    .withColumn(\n",
    "        \"delay_status\", \n",
    "        F.when(\n",
    "            (F.col(\"arr_delay\") > 15) \n",
    "                | (F.col(\"cancelled\") == 1) \n",
    "                | (F.col(\"diverted\") == 1), \n",
    "            \"Delayed\"\n",
    "        )\n",
    "        .otherwise(\"OnTime\")\n",
    "    )\n",
    ")"
   ]
  },
  {
   "cell_type": "code",
   "execution_count": 18,
   "id": "e81e5110",
   "metadata": {},
   "outputs": [
    {
     "data": {
      "application/vnd.jupyter.widget-view+json": {
       "model_id": "",
       "version_major": 2,
       "version_minor": 0
      },
      "text/plain": [
       "FloatProgress(value=0.0, bar_style='info', description='Progress:', layout=Layout(height='25px', width='50%'),…"
      ]
     },
     "metadata": {},
     "output_type": "display_data"
    }
   ],
   "source": [
    "# Now encode target and apply to input data.\n",
    "target_indexer = ml.feature.StringIndexer(inputCol=\"delay_status\", outputCol=\"target\")\n",
    "target_indexer_model = target_indexer.fit(input_df)\n",
    "input_df = target_indexer_model.transform(input_df)"
   ]
  },
  {
   "cell_type": "code",
   "execution_count": 19,
   "id": "a6bfeb8e",
   "metadata": {},
   "outputs": [
    {
     "data": {
      "application/vnd.jupyter.widget-view+json": {
       "model_id": "",
       "version_major": 2,
       "version_minor": 0
      },
      "text/plain": [
       "FloatProgress(value=0.0, bar_style='info', description='Progress:', layout=Layout(height='25px', width='50%'),…"
      ]
     },
     "metadata": {},
     "output_type": "display_data"
    },
    {
     "data": {
      "text/html": [
       "<table><tr><th>arr_delay</th><th>cancelled</th><th>diverted</th><th>delay_status</th><th>target</th></tr><tr><td>39.0</td><td>0.0</td><td>0.0</td><td>Delayed</td><td>1.0</td></tr><tr><td>-8.0</td><td>0.0</td><td>0.0</td><td>OnTime</td><td>0.0</td></tr><tr><td>-8.0</td><td>0.0</td><td>0.0</td><td>OnTime</td><td>0.0</td></tr><tr><td>-4.0</td><td>0.0</td><td>0.0</td><td>OnTime</td><td>0.0</td></tr><tr><td>-21.0</td><td>0.0</td><td>0.0</td><td>OnTime</td><td>0.0</td></tr></table><br /><pre>only showing top 5 rows</pre>"
      ],
      "text/plain": [
       "<IPython.core.display.HTML object>"
      ]
     },
     "metadata": {},
     "output_type": "display_data"
    }
   ],
   "source": [
    "%%pretty\n",
    "input_df.select(\"arr_delay\", \"cancelled\", \"diverted\", \"delay_status\", \"target\").show(5)"
   ]
  },
  {
   "cell_type": "markdown",
   "id": "0a697ac7",
   "metadata": {},
   "source": [
    "### Balancing the data <a class=\"anchor\" id=\"balance\"></a>\n",
    "As we saw in the exploration section, our data is fairly unabalanced, with an approximate 4:1 ratio of on-time to delayed flights.\n",
    "Because we have so much data available to us (more than 60 million observations), we will stochastically undersample the on-time flights to balance the classes."
   ]
  },
  {
   "cell_type": "code",
   "execution_count": 20,
   "id": "42417563",
   "metadata": {},
   "outputs": [
    {
     "data": {
      "application/vnd.jupyter.widget-view+json": {
       "model_id": "",
       "version_major": 2,
       "version_minor": 0
      },
      "text/plain": [
       "FloatProgress(value=0.0, bar_style='info', description='Progress:', layout=Layout(height='25px', width='50%'),…"
      ]
     },
     "metadata": {},
     "output_type": "display_data"
    }
   ],
   "source": [
    "num_flights_total = input_df.count()\n",
    "num_flights_ontime = input_df.filter(F.col(\"target\") == 0).count()\n",
    "num_flights_delayed = input_df.filter(F.col(\"target\") == 1).count()"
   ]
  },
  {
   "cell_type": "code",
   "execution_count": 21,
   "id": "94501615",
   "metadata": {},
   "outputs": [
    {
     "data": {
      "application/vnd.jupyter.widget-view+json": {
       "model_id": "",
       "version_major": 2,
       "version_minor": 0
      },
      "text/plain": [
       "FloatProgress(value=0.0, bar_style='info', description='Progress:', layout=Layout(height='25px', width='50%'),…"
      ]
     },
     "metadata": {},
     "output_type": "display_data"
    }
   ],
   "source": [
    "# Undersample on-time flights and take all delayed flights.\n",
    "sampled_input_df = input_df.sampleBy(\n",
    "    \"target\",\n",
    "    {0: num_flights_delayed / num_flights_ontime, 1: 1.0}\n",
    ")\n",
    "num_sampled_flights_total = sampled_input_df.count()\n",
    "num_sampled_flights_ontime = sampled_input_df.filter(F.col(\"target\") == 0).count()\n",
    "num_sampled_flights_delayed = sampled_input_df.filter(F.col(\"target\") == 1).count()"
   ]
  },
  {
   "cell_type": "code",
   "execution_count": 22,
   "id": "d3220fe0",
   "metadata": {},
   "outputs": [
    {
     "data": {
      "application/vnd.jupyter.widget-view+json": {
       "model_id": "",
       "version_major": 2,
       "version_minor": 0
      },
      "text/plain": [
       "FloatProgress(value=0.0, bar_style='info', description='Progress:', layout=Layout(height='25px', width='50%'),…"
      ]
     },
     "metadata": {},
     "output_type": "display_data"
    },
    {
     "name": "stdout",
     "output_type": "stream",
     "text": [
      "{\n",
      "    \"num_flights_total\": 64442585,\n",
      "    \"num_flights_ontime\": 52045627,\n",
      "    \"pct_flights_ontime\": 0.807627859745229,\n",
      "    \"num_flights_delayed\": 12396958,\n",
      "    \"pct_flights_delayed\": 0.19237214025477098,\n",
      "    \"num_sampled_flights_total\": 24794816,\n",
      "    \"num_sampled_flights_ontime\": 12397858,\n",
      "    \"pct_sampled_flights_ontime\": 0.5000181489550074,\n",
      "    \"num_sampled_flights_delayed\": 12396958,\n",
      "    \"pct_sampled_flights_delayed\": 0.49998185104499265,\n",
      "    \"num_flights_removed\": 39647769\n",
      "}"
     ]
    }
   ],
   "source": [
    "# Report metrics on sampling.\n",
    "undersampling_statistics = {\n",
    "    \"num_flights_total\": num_flights_total,\n",
    "    \"num_flights_ontime\": num_flights_ontime,\n",
    "    \"pct_flights_ontime\": num_flights_ontime / num_flights_total,\n",
    "    \"num_flights_delayed\": num_flights_delayed,\n",
    "    \"pct_flights_delayed\": num_flights_delayed / num_flights_total,\n",
    "    \n",
    "    \"num_sampled_flights_total\": num_sampled_flights_total,\n",
    "    \"num_sampled_flights_ontime\": num_sampled_flights_ontime,\n",
    "    \"pct_sampled_flights_ontime\": num_sampled_flights_ontime / num_sampled_flights_total,\n",
    "    \"num_sampled_flights_delayed\": num_sampled_flights_delayed,\n",
    "    \"pct_sampled_flights_delayed\": num_sampled_flights_delayed / num_sampled_flights_total,\n",
    "    \n",
    "    \"num_flights_removed\": num_flights_total - num_sampled_flights_total\n",
    "}\n",
    "print(json.dumps(undersampling_statistics, indent=4))"
   ]
  },
  {
   "cell_type": "markdown",
   "id": "91cc1512",
   "metadata": {},
   "source": [
    "We now have a balanced data set with approximately 12 million observations in total."
   ]
  },
  {
   "cell_type": "code",
   "execution_count": 23,
   "id": "74db2489",
   "metadata": {},
   "outputs": [
    {
     "data": {
      "application/vnd.jupyter.widget-view+json": {
       "model_id": "",
       "version_major": 2,
       "version_minor": 0
      },
      "text/plain": [
       "FloatProgress(value=0.0, bar_style='info', description='Progress:', layout=Layout(height='25px', width='50%'),…"
      ]
     },
     "metadata": {},
     "output_type": "display_data"
    },
    {
     "data": {
      "image/png": "[encoded data removed]",
      "text/plain": [
       "<IPython.core.display.Image object>"
      ]
     },
     "metadata": {},
     "output_type": "display_data"
    }
   ],
   "source": [
    "# Plot class fractions below.\n",
    "fig, (ax1, ax2) = plt.subplots(1, 2)\n",
    "ax1.pie(\n",
    "    [num_flights_ontime, num_flights_delayed], \n",
    "    labels=[\"OnTime\", \"Delayed\"],\n",
    "    autopct=\"%1.1f%%\"\n",
    ")\n",
    "ax1.set_title(f\"Before undersampling\")\n",
    "\n",
    "ax2.pie(\n",
    "    [num_sampled_flights_ontime, num_sampled_flights_delayed], \n",
    "    labels=[\"OnTime\", \"Delayed\"],\n",
    "    autopct=\"%1.1f%%\"\n",
    ")\n",
    "ax2.set_title(f\"After undersampling\")\n",
    "fig.tight_layout()\n",
    "%matplot plt"
   ]
  },
  {
   "cell_type": "markdown",
   "id": "7f49cf02",
   "metadata": {},
   "source": [
    "## Feature engineering <a class=\"anchor\" id=\"ft-eng\"></a>\n",
    "We now define the feature engineering steps that will make up our preprocessing `Pipeline`.\n",
    "Note that all steps must be either a Spark `Transformer` or `Estimator` to be able to be serialized by MLeap."
   ]
  },
  {
   "cell_type": "markdown",
   "id": "e6294fd0",
   "metadata": {},
   "source": [
    "### Categorical variables <a class=\"anchor\" id=\"cat\"></a>\n",
    "Here, we will encode the relevant categorical variables to numeric types. \n",
    "For this data set, this means we must encode the date information, carrier, and the origin and destination airport information."
   ]
  },
  {
   "cell_type": "code",
   "execution_count": 24,
   "id": "c418e617",
   "metadata": {},
   "outputs": [
    {
     "data": {
      "application/vnd.jupyter.widget-view+json": {
       "model_id": "",
       "version_major": 2,
       "version_minor": 0
      },
      "text/plain": [
       "FloatProgress(value=0.0, bar_style='info', description='Progress:', layout=Layout(height='25px', width='50%'),…"
      ]
     },
     "metadata": {},
     "output_type": "display_data"
    }
   ],
   "source": [
    "# Need to index before one hot encoding so MLeap can infer \n",
    "# number of columns created.\n",
    "day_of_week_indexer = ml.feature.StringIndexer(\n",
    "    inputCol=\"day_of_week\", \n",
    "    outputCol=\"day_of_week_idx\"\n",
    ")\n",
    "day_of_week_encoder = ml.feature.OneHotEncoderEstimator(\n",
    "    inputCols=[\"day_of_week_idx\"], \n",
    "    outputCols=[\"day_of_week_ohe\"]\n",
    ")\n",
    "\n",
    "month_indexer = ml.feature.StringIndexer(\n",
    "    inputCol=\"month\", \n",
    "    outputCol=\"month_idx\"\n",
    ")\n",
    "month_encoder = ml.feature.OneHotEncoderEstimator(\n",
    "    inputCols=[\"month_idx\"], \n",
    "    outputCols=[\"month_ohe\"]\n",
    ")"
   ]
  },
  {
   "cell_type": "code",
   "execution_count": 25,
   "id": "025d6052",
   "metadata": {},
   "outputs": [
    {
     "data": {
      "application/vnd.jupyter.widget-view+json": {
       "model_id": "",
       "version_major": 2,
       "version_minor": 0
      },
      "text/plain": [
       "FloatProgress(value=0.0, bar_style='info', description='Progress:', layout=Layout(height='25px', width='50%'),…"
      ]
     },
     "metadata": {},
     "output_type": "display_data"
    }
   ],
   "source": [
    "carrier_indexer = ml.feature.StringIndexer(\n",
    "    inputCol=\"op_carrier\", \n",
    "    outputCol=\"carrier_idx\"\n",
    ")\n",
    "carrier_encoder = ml.feature.OneHotEncoderEstimator(\n",
    "    inputCols=[\"carrier_idx\"], \n",
    "    outputCols=[\"carrier_ohe\"]\n",
    ")"
   ]
  },
  {
   "cell_type": "markdown",
   "id": "222d5b78",
   "metadata": {},
   "source": [
    "Because there are ~300 airports, and we need to account for both origin and destination,\n",
    "one hot encoding would create too many features.\n",
    "Airports do appear in geographic clusters though, for example around urban locations.\n",
    "So, to encode airports, we'll cluster the latitudes and longitudes using K-Means.\n",
    "\n",
    "Since we wil be doing no preprocessing, there will be duplicates of airport geolocations.\n",
    "This means that there will be an implicit weighting on high traffic areas. \n",
    "For this problem, this is desirable.\n",
    "\n",
    "Note that we will only preform this search on the origin airports because of the similarities in the distribution of origin and destination airports."
   ]
  },
  {
   "cell_type": "code",
   "execution_count": 43,
   "id": "85bb949e",
   "metadata": {},
   "outputs": [
    {
     "data": {
      "application/vnd.jupyter.widget-view+json": {
       "model_id": "",
       "version_major": 2,
       "version_minor": 0
      },
      "text/plain": [
       "FloatProgress(value=0.0, bar_style='info', description='Progress:', layout=Layout(height='25px', width='50%'),…"
      ]
     },
     "metadata": {},
     "output_type": "display_data"
    }
   ],
   "source": [
    "# Vectorize geolocation for use in clustering.\n",
    "origin_geo_assembler = ml.feature.VectorAssembler(\n",
    "    inputCols=[\"origin_latitude\", \"origin_longitude\"],\n",
    "    outputCol=\"origin_geo_features\",\n",
    "    handleInvalid=\"keep\"\n",
    ")\n",
    "kmeans_eval_df = origin_geo_assembler.transform(sampled_input_df)"
   ]
  },
  {
   "cell_type": "code",
   "execution_count": null,
   "id": "db853e0c",
   "metadata": {},
   "outputs": [
    {
     "data": {
      "application/vnd.jupyter.widget-view+json": {
       "model_id": "b1e8228f2d7e4972823f82df3bccf616",
       "version_major": 2,
       "version_minor": 0
      },
      "text/plain": [
       "FloatProgress(value=0.0, bar_style='info', description='Progress:', layout=Layout(height='25px', width='50%'),…"
      ]
     },
     "metadata": {},
     "output_type": "display_data"
    }
   ],
   "source": [
    "# Search for an optimal K.\n",
    "silhouette_scores = []\n",
    "evaluator = ml.evaluation.ClusteringEvaluator(\n",
    "    metricName=\"silhouette\", \n",
    "    distanceMeasure=\"squaredEuclidean\",\n",
    "    featuresCol=\"origin_geo_features\",\n",
    "    predictionCol=\"origin_geo_cluster\"\n",
    ")\n",
    "\n",
    "for k in range(2, 30):\n",
    "    candidate_kmeans = ml.clustering.KMeans(\n",
    "        k=k,\n",
    "        featuresCol=\"origin_geo_features\",\n",
    "        predictionCol=\"origin_geo_cluster\"\n",
    "    )\n",
    "    candidate_kmeans_model = candidate_kmeans.fit(kmeans_eval_df)\n",
    "    transformed_kmeans_eval_df = candidate_kmeans_model.transform(kmeans_eval_df)\n",
    "\n",
    "    evaluation_score = evaluator.evaluate(transformed_kmeans_eval_df)\n",
    "    silhouette_scores.append(evaluation_score)"
   ]
  },
  {
   "cell_type": "code",
   "execution_count": 54,
   "id": "0ee1ea8e",
   "metadata": {
    "scrolled": false
   },
   "outputs": [
    {
     "data": {
      "application/vnd.jupyter.widget-view+json": {
       "model_id": "",
       "version_major": 2,
       "version_minor": 0
      },
      "text/plain": [
       "FloatProgress(value=0.0, bar_style='info', description='Progress:', layout=Layout(height='25px', width='50%'),…"
      ]
     },
     "metadata": {},
     "output_type": "display_data"
    },
    {
     "data": {
      "image/png": "[encoded data removed]",
      "text/plain": [
       "<IPython.core.display.Image object>"
      ]
     },
     "metadata": {},
     "output_type": "display_data"
    }
   ],
   "source": [
    "# Plot model results.\n",
    "fig, ax = plt.subplots()\n",
    "ax.plot(range(2, 30), silhouette_scores)\n",
    "ax.set_xlabel(\"Number of clusters\")\n",
    "ax.set_ylabel(\"Silhouette score\")\n",
    "ax.set_title(\"Optimal clustering parameters for airport geolocations\")\n",
    "%matplot plt"
   ]
  },
  {
   "cell_type": "markdown",
   "id": "53b68d4a",
   "metadata": {},
   "source": [
    "We can see that 16 is near the elbow of the plot and will be our choice for K.\n",
    "As this process is stochastic, for a more robust choice, consider running this test multiple times for different starting seeds."
   ]
  },
  {
   "cell_type": "code",
   "execution_count": 26,
   "id": "4e76a207",
   "metadata": {},
   "outputs": [
    {
     "data": {
      "application/vnd.jupyter.widget-view+json": {
       "model_id": "",
       "version_major": 2,
       "version_minor": 0
      },
      "text/plain": [
       "FloatProgress(value=0.0, bar_style='info', description='Progress:', layout=Layout(height='25px', width='50%'),…"
      ]
     },
     "metadata": {},
     "output_type": "display_data"
    }
   ],
   "source": [
    "# Create finalized assemblers and clusterers for the \n",
    "# preprocessing pipeline.\n",
    "origin_geo_assembler = ml.feature.VectorAssembler(\n",
    "    inputCols=[\"origin_latitude\", \"origin_longitude\"], \n",
    "    outputCol=\"origin_geo_features\",\n",
    "    handleInvalid=\"keep\"\n",
    ")\n",
    "origin_geo_kmeans = ml.clustering.KMeans(\n",
    "        k=16,\n",
    "        featuresCol=\"origin_geo_features\",\n",
    "        predictionCol=\"origin_geo_cluster\"\n",
    ")\n",
    "# Need to index before one hot encoding so MLeap can infer \n",
    "# number of columns created.\n",
    "origin_geo_indexer = ml.feature.StringIndexer(\n",
    "    inputCol=\"origin_geo_cluster\", \n",
    "    outputCol=\"origin_geo_idx\"\n",
    ")\n",
    "# Lastly, one hot encode the cluster values.\n",
    "origin_geo_encoder = ml.feature.OneHotEncoderEstimator(\n",
    "    inputCols=[\"origin_geo_idx\"], \n",
    "    outputCols=[\"origin_geo_ohe\"]\n",
    ")"
   ]
  },
  {
   "cell_type": "code",
   "execution_count": 27,
   "id": "e9db8d27",
   "metadata": {},
   "outputs": [
    {
     "data": {
      "application/vnd.jupyter.widget-view+json": {
       "model_id": "",
       "version_major": 2,
       "version_minor": 0
      },
      "text/plain": [
       "FloatProgress(value=0.0, bar_style='info', description='Progress:', layout=Layout(height='25px', width='50%'),…"
      ]
     },
     "metadata": {},
     "output_type": "display_data"
    }
   ],
   "source": [
    "# Repeat the above actions for the destination.\n",
    "dest_geo_assembler = ml.feature.VectorAssembler(\n",
    "    inputCols=[\"dest_latitude\", \"dest_longitude\"], \n",
    "    outputCol=\"dest_geo_features\",\n",
    "    handleInvalid=\"keep\"\n",
    ")\n",
    "dest_geo_kmeans = ml.clustering.KMeans(\n",
    "        k=16,\n",
    "        featuresCol=\"dest_geo_features\",\n",
    "        predictionCol=\"dest_geo_cluster\"\n",
    ")\n",
    "dest_geo_indexer = ml.feature.StringIndexer(\n",
    "    inputCol=\"dest_geo_cluster\", \n",
    "    outputCol=\"dest_geo_idx\"\n",
    ")\n",
    "dest_geo_encoder = ml.feature.OneHotEncoderEstimator(\n",
    "    inputCols=[\"dest_geo_idx\"], \n",
    "    outputCols=[\"dest_geo_ohe\"]\n",
    ")"
   ]
  },
  {
   "cell_type": "markdown",
   "id": "0ded4ed4",
   "metadata": {},
   "source": [
    "### Continuous variables <a class=\"anchor\" id=\"continuous\"></a>\n",
    "The continuous variables in our dataset include only the weather data. \n",
    "We will be using standardization for all metrics, because weather data is subject to meaningful outliers. "
   ]
  },
  {
   "cell_type": "code",
   "execution_count": 28,
   "id": "efed155c",
   "metadata": {},
   "outputs": [
    {
     "data": {
      "application/vnd.jupyter.widget-view+json": {
       "model_id": "",
       "version_major": 2,
       "version_minor": 0
      },
      "text/plain": [
       "FloatProgress(value=0.0, bar_style='info', description='Progress:', layout=Layout(height='25px', width='50%'),…"
      ]
     },
     "metadata": {},
     "output_type": "display_data"
    }
   ],
   "source": [
    "# Collect all weather columns so standardization can \n",
    "# be preformed on all weather features at once.\n",
    "weather_cols = [\n",
    "    \"origin_tmax\", \"origin_tmin\", \"origin_prcp\", \"origin_snow\", \"origin_snwd\",\n",
    "    \"dest_tmax\", \"dest_tmin\", \"dest_prcp\", \"dest_snow\", \"dest_snwd\"\n",
    "]\n",
    "weather_col_assembler = ml.feature.VectorAssembler(\n",
    "    inputCols=weather_cols, \n",
    "    outputCol=\"weather_features\",\n",
    "    handleInvalid=\"keep\"\n",
    ")\n",
    "weather_std_scalar = ml.feature.StandardScaler(\n",
    "    inputCol=\"weather_features\", \n",
    "    outputCol=\"weather_features_scaled\"\n",
    ")"
   ]
  },
  {
   "cell_type": "markdown",
   "id": "5b77ac94",
   "metadata": {},
   "source": [
    "## Define and fit pipeline <a class=\"anchor\" id=\"pipeline\"></a>\n",
    "We now collect all the preprocessing steps into a Spark `Pipeline`. \n",
    "This allows us to serialize all preprocessing steps and later deploy a preprocessing model.\n",
    "This model can then be connected to inference models to create an end-to-end inference pipeline."
   ]
  },
  {
   "cell_type": "code",
   "execution_count": 29,
   "id": "cd56ed15",
   "metadata": {},
   "outputs": [
    {
     "data": {
      "application/vnd.jupyter.widget-view+json": {
       "model_id": "",
       "version_major": 2,
       "version_minor": 0
      },
      "text/plain": [
       "FloatProgress(value=0.0, bar_style='info', description='Progress:', layout=Layout(height='25px', width='50%'),…"
      ]
     },
     "metadata": {},
     "output_type": "display_data"
    }
   ],
   "source": [
    "# Collect all the generated features into a single vector.\n",
    "# THis will be the last stage in the pipeline.\n",
    "feature_assembler = ml.feature.VectorAssembler(\n",
    "    inputCols=[\n",
    "        \"day_of_week_ohe\",\n",
    "        \"month_ohe\",\n",
    "        \"carrier_ohe\",\n",
    "        \"origin_geo_ohe\",\n",
    "        \"dest_geo_ohe\",\n",
    "        \"weather_features_scaled\"\n",
    "    ],\n",
    "    outputCol=\"features\"\n",
    ")"
   ]
  },
  {
   "cell_type": "code",
   "execution_count": 30,
   "id": "9c316def",
   "metadata": {},
   "outputs": [
    {
     "data": {
      "application/vnd.jupyter.widget-view+json": {
       "model_id": "",
       "version_major": 2,
       "version_minor": 0
      },
      "text/plain": [
       "FloatProgress(value=0.0, bar_style='info', description='Progress:', layout=Layout(height='25px', width='50%'),…"
      ]
     },
     "metadata": {},
     "output_type": "display_data"
    }
   ],
   "source": [
    "# Define Pipeline object.\n",
    "preprocess_pipeline = ml.Pipeline(\n",
    "    stages=[\n",
    "        day_of_week_indexer,\n",
    "        day_of_week_encoder,\n",
    "        month_indexer,\n",
    "        month_encoder,\n",
    "        carrier_indexer,\n",
    "        carrier_encoder,\n",
    "        origin_geo_assembler,\n",
    "        origin_geo_kmeans,\n",
    "        origin_geo_indexer,\n",
    "        origin_geo_encoder,\n",
    "        dest_geo_assembler,\n",
    "        dest_geo_kmeans,\n",
    "        dest_geo_indexer,\n",
    "        dest_geo_encoder,\n",
    "        weather_col_assembler,\n",
    "        weather_std_scalar,\n",
    "        feature_assembler,\n",
    "    ]\n",
    ")"
   ]
  },
  {
   "cell_type": "code",
   "execution_count": 31,
   "id": "f1c9e200",
   "metadata": {},
   "outputs": [
    {
     "data": {
      "application/vnd.jupyter.widget-view+json": {
       "model_id": "",
       "version_major": 2,
       "version_minor": 0
      },
      "text/plain": [
       "FloatProgress(value=0.0, bar_style='info', description='Progress:', layout=Layout(height='25px', width='50%'),…"
      ]
     },
     "metadata": {},
     "output_type": "display_data"
    }
   ],
   "source": [
    "# Train the preprocess model and transform the input data.\n",
    "preprocess_model = preprocess_pipeline.fit(sampled_input_df)\n",
    "transformed_sampled_input_df = preprocess_model.transform(sampled_input_df)"
   ]
  },
  {
   "cell_type": "markdown",
   "id": "79b00140",
   "metadata": {},
   "source": [
    "## Partition and write data <a class=\"anchor\" id=\"write-s3\"></a>\n",
    "Partitition input data into train, validation, and test sets and write out files to CSVs in S3 for training models."
   ]
  },
  {
   "cell_type": "code",
   "execution_count": 32,
   "id": "02f8f65b",
   "metadata": {},
   "outputs": [
    {
     "data": {
      "application/vnd.jupyter.widget-view+json": {
       "model_id": "",
       "version_major": 2,
       "version_minor": 0
      },
      "text/plain": [
       "FloatProgress(value=0.0, bar_style='info', description='Progress:', layout=Layout(height='25px', width='50%'),…"
      ]
     },
     "metadata": {},
     "output_type": "display_data"
    }
   ],
   "source": [
    "# Spliting in train and test set. Note that this operation \n",
    "# sorts the data set.\n",
    "(train_df, validation_df, test_df) = transformed_sampled_input_df.randomSplit([0.75, 0.15, 0.10])"
   ]
  },
  {
   "cell_type": "code",
   "execution_count": 33,
   "id": "16bda031",
   "metadata": {},
   "outputs": [
    {
     "data": {
      "application/vnd.jupyter.widget-view+json": {
       "model_id": "",
       "version_major": 2,
       "version_minor": 0
      },
      "text/plain": [
       "FloatProgress(value=0.0, bar_style='info', description='Progress:', layout=Layout(height='25px', width='50%'),…"
      ]
     },
     "metadata": {},
     "output_type": "display_data"
    },
    {
     "data": {
      "text/html": [
       "<table><tr><th>arr_delay</th><th>cancelled</th><th>diverted</th><th>day_of_week</th><th>month</th><th>op_carrier</th><th>origin_latitude</th><th>origin_longitude</th><th>dest_latitude</th><th>dest_longitude</th><th>origin_tmax</th><th>origin_tmin</th><th>origin_prcp</th><th>origin_snow</th><th>origin_snwd</th><th>dest_tmax</th><th>dest_tmin</th><th>dest_prcp</th><th>dest_snow</th><th>dest_snwd</th><th>delay_status</th><th>target</th><th>day_of_week_idx</th><th>day_of_week_ohe</th><th>month_idx</th><th>month_ohe</th><th>carrier_idx</th><th>carrier_ohe</th><th>origin_geo_features</th><th>origin_geo_cluster</th><th>origin_geo_idx</th><th>origin_geo_ohe</th><th>dest_geo_features</th><th>dest_geo_cluster</th><th>dest_geo_idx</th><th>dest_geo_ohe</th><th>weather_features</th><th>weather_features_scaled</th><th>features</th></tr><tr><td>-92.0</td><td>0.0</td><td>0.0</td><td>6</td><td>11</td><td>DL</td><td>40.63980103</td><td>-73.77890015</td><td>37.61899948120117</td><td>-122.375</td><td>111.0</td><td>28.0</td><td>0.0</td><td>0.0</td><td>0.0</td><td>211.0</td><td>139.0</td><td>0.0</td><td>0.0</td><td>0.0</td><td>OnTime</td><td>0.0</td><td>6.0</td><td>(6,[],[])</td><td>11.0</td><td>(11,[],[])</td><td>1.0</td><td>(22,[1],[1.0])</td><td>[40.63980103,-73....</td><td>0</td><td>0.0</td><td>(15,[0],[1.0])</td><td>[37.6189994812011...</td><td>1</td><td>4.0</td><td>(15,[4],[1.0])</td><td>(10,[0,1,5,6],[11...</td><td>(10,[0,1,5,6],[1....</td><td>(79,[18,39,58,69,...</td></tr><tr><td>-88.0</td><td>0.0</td><td>0.0</td><td>2</td><td>4</td><td>YX</td><td>40.77719879</td><td>-73.87259674</td><td>42.36429977</td><td>-71.00520325</td><td>156.0</td><td>50.0</td><td>84.0</td><td>0.0</td><td>0.0</td><td>122.0</td><td>11.0</td><td>84.0</td><td>0.0</td><td>0.0</td><td>OnTime</td><td>0.0</td><td>5.0</td><td>(6,[5],[1.0])</td><td>5.0</td><td>(11,[5],[1.0])</td><td>13.0</td><td>(22,[13],[1.0])</td><td>[40.77719879,-73....</td><td>0</td><td>0.0</td><td>(15,[0],[1.0])</td><td>[42.36429977,-71....</td><td>10</td><td>10.0</td><td>(15,[10],[1.0])</td><td>[156.0,50.0,84.0,...</td><td>[1.45313514432423...</td><td>(79,[5,11,30,39,6...</td></tr><tr><td>-87.0</td><td>0.0</td><td>0.0</td><td>6</td><td>11</td><td>AS</td><td>38.8521</td><td>-77.037697</td><td>33.94250107</td><td>-118.4079971</td><td>117.0</td><td>28.0</td><td>0.0</td><td>0.0</td><td>0.0</td><td>272.0</td><td>167.0</td><td>0.0</td><td>0.0</td><td>0.0</td><td>OnTime</td><td>0.0</td><td>6.0</td><td>(6,[],[])</td><td>11.0</td><td>(11,[],[])</td><td>9.0</td><td>(22,[9],[1.0])</td><td>[38.8521,-77.037697]</td><td>0</td><td>0.0</td><td>(15,[0],[1.0])</td><td>[33.94250107,-118...</td><td>13</td><td>6.0</td><td>(15,[6],[1.0])</td><td>(10,[0,1,5,6],[11...</td><td>(10,[0,1,5,6],[1....</td><td>(79,[26,39,60,69,...</td></tr><tr><td>-82.0</td><td>0.0</td><td>0.0</td><td>6</td><td>11</td><td>WN</td><td>39.1754</td><td>-76.668297</td><td>32.7336006165</td><td>-117.190002441</td><td>106.0</td><td>-10.0</td><td>0.0</td><td>0.0</td><td>0.0</td><td>278.0</td><td>161.0</td><td>0.0</td><td>0.0</td><td>0.0</td><td>OnTime</td><td>0.0</td><td>6.0</td><td>(6,[],[])</td><td>11.0</td><td>(11,[],[])</td><td>0.0</td><td>(22,[0],[1.0])</td><td>[39.1754,-76.668297]</td><td>0</td><td>0.0</td><td>(15,[0],[1.0])</td><td>[32.7336006165,-1...</td><td>13</td><td>6.0</td><td>(15,[6],[1.0])</td><td>(10,[0,1,5,6],[10...</td><td>(10,[0,1,5,6],[0....</td><td>(79,[17,39,60,69,...</td></tr><tr><td>-79.0</td><td>0.0</td><td>0.0</td><td>6</td><td>11</td><td>UA</td><td>41.9388999939</td><td>-72.68319702149999</td><td>39.861698150635</td><td>-104.672996521</td><td>94.0</td><td>-27.0</td><td>0.0</td><td>0.0</td><td>0.0</td><td>217.0</td><td>-21.0</td><td>0.0</td><td>0.0</td><td>0.0</td><td>OnTime</td><td>0.0</td><td>6.0</td><td>(6,[],[])</td><td>11.0</td><td>(11,[],[])</td><td>4.0</td><td>(22,[4],[1.0])</td><td>[41.9388999939,-7...</td><td>0</td><td>0.0</td><td>(15,[0],[1.0])</td><td>[39.861698150635,...</td><td>12</td><td>9.0</td><td>(15,[9],[1.0])</td><td>(10,[0,1,5,6],[94...</td><td>(10,[0,1,5,6],[0....</td><td>(79,[21,39,63,69,...</td></tr></table><br /><pre>only showing top 5 rows</pre>"
      ],
      "text/plain": [
       "<IPython.core.display.HTML object>"
      ]
     },
     "metadata": {},
     "output_type": "display_data"
    }
   ],
   "source": [
    "%%pretty\n",
    "train_df.show(5)"
   ]
  },
  {
   "cell_type": "markdown",
   "id": "b58f275b",
   "metadata": {},
   "source": [
    "The writing operation takes a while. \n",
    "It's recommended to increase the number of core nodes in the cluster at this point, if possible.\n",
    "Alternatively, this code can be run in a Glue Job that transforms the data,\n",
    "writes the partitions to S3, \n",
    "then serializes and saves the processing models."
   ]
  },
  {
   "cell_type": "code",
   "execution_count": 53,
   "id": "3f79a216",
   "metadata": {},
   "outputs": [
    {
     "data": {
      "application/vnd.jupyter.widget-view+json": {
       "model_id": "",
       "version_major": 2,
       "version_minor": 0
      },
      "text/plain": [
       "FloatProgress(value=0.0, bar_style='info', description='Progress:', layout=Layout(height='25px', width='50%'),…"
      ]
     },
     "metadata": {},
     "output_type": "display_data"
    }
   ],
   "source": [
    "# Save transformed training data to CSV in S3 by converting to RDD.\n",
    "train_lines = train_df.rdd.map(\n",
    "    lambda row: str(row.target) + \",\" + \",\".join(map(str, row.features.toArray()))\n",
    ")\n",
    "train_lines.saveAsTextFile(f\"s3a://{data_bucket}/preprocessing_output/train/\")"
   ]
  },
  {
   "cell_type": "code",
   "execution_count": 73,
   "id": "1f09534d",
   "metadata": {},
   "outputs": [
    {
     "data": {
      "application/vnd.jupyter.widget-view+json": {
       "model_id": "",
       "version_major": 2,
       "version_minor": 0
      },
      "text/plain": [
       "FloatProgress(value=0.0, bar_style='info', description='Progress:', layout=Layout(height='25px', width='50%'),…"
      ]
     },
     "metadata": {},
     "output_type": "display_data"
    }
   ],
   "source": [
    "# Save transformed training data to CSV in S3 by converting to RDD.\n",
    "validation_lines = validation_df.rdd.map(\n",
    "    lambda row: str(row.target) + \",\" + \",\".join(map(str, row.features.toArray()))\n",
    ")\n",
    "validation_lines.saveAsTextFile(f\"s3a://{data_bucket}/preprocessing_output/validation/\")"
   ]
  },
  {
   "cell_type": "code",
   "execution_count": 74,
   "id": "21f270f1",
   "metadata": {},
   "outputs": [
    {
     "data": {
      "application/vnd.jupyter.widget-view+json": {
       "model_id": "",
       "version_major": 2,
       "version_minor": 0
      },
      "text/plain": [
       "FloatProgress(value=0.0, bar_style='info', description='Progress:', layout=Layout(height='25px', width='50%'),…"
      ]
     },
     "metadata": {},
     "output_type": "display_data"
    }
   ],
   "source": [
    "# Repeat the same saving method for the test data.\n",
    "test_lines = test_df.rdd.map(\n",
    "    lambda row: str(row.target) + \",\" + \",\".join(map(str, row.features.toArray()))\n",
    ")\n",
    "test_lines.saveAsTextFile(f\"s3a://{data_bucket}/preprocessing_output/test/\")"
   ]
  },
  {
   "cell_type": "markdown",
   "id": "c62f12b6",
   "metadata": {},
   "source": [
    "## Serialize and store pipelines <a class=\"anchor\" id=\"store-pipeline\"></a>\n",
    "Spark pipelines and estimators must be serialized with MLeap to use with a Sagemaker model.\n",
    "Sagemaker will then read the model from S3 to use with a built SparkML image."
   ]
  },
  {
   "cell_type": "code",
   "execution_count": 75,
   "id": "d96a3573",
   "metadata": {},
   "outputs": [
    {
     "data": {
      "application/vnd.jupyter.widget-view+json": {
       "model_id": "",
       "version_major": 2,
       "version_minor": 0
      },
      "text/plain": [
       "FloatProgress(value=0.0, bar_style='info', description='Progress:', layout=Layout(height='25px', width='50%'),…"
      ]
     },
     "metadata": {},
     "output_type": "display_data"
    }
   ],
   "source": [
    "# Serialize preproccesing pipeline.\n",
    "serializer = support.SimpleSparkSerializer()\n",
    "serializer.serializeToBundle(\n",
    "    preprocess_model, \n",
    "    \"jar:file:/tmp/preprocess.zip\", \n",
    "    transformed_sampled_input_df\n",
    ")"
   ]
  },
  {
   "cell_type": "code",
   "execution_count": 76,
   "id": "1db931be",
   "metadata": {},
   "outputs": [
    {
     "data": {
      "application/vnd.jupyter.widget-view+json": {
       "model_id": "",
       "version_major": 2,
       "version_minor": 0
      },
      "text/plain": [
       "FloatProgress(value=0.0, bar_style='info', description='Progress:', layout=Layout(height='25px', width='50%'),…"
      ]
     },
     "metadata": {},
     "output_type": "display_data"
    }
   ],
   "source": [
    "# Convert model zipfile to tarfile.\n",
    "with zipfile.ZipFile(\"/tmp/preprocess.zip\") as zf:\n",
    "    zf.extractall(\"/tmp/preprocess\")\n",
    "\n",
    "with tarfile.open(\"/tmp/preprocess.tar.gz\", \"w:gz\") as tar:\n",
    "    tar.add(\"/tmp/preprocess/bundle.json\", arcname=\"bundle.json\")\n",
    "    tar.add(\"/tmp/preprocess/root\", arcname=\"root\")\n",
    "\n",
    "# Write model to S3.\n",
    "s3 = boto3.resource(\"s3\")\n",
    "filename = \"spark-preprocessor/model.tar.gz\"\n",
    "s3.Bucket(model_bucket).upload_file(\"/tmp/preprocess.tar.gz\", filename)\n",
    "\n",
    "# Clean up local environment.\n",
    "os.remove(\"/tmp/preprocess.zip\")\n",
    "os.remove(\"/tmp/preprocess.tar.gz\")\n",
    "shutil.rmtree(\"/tmp/preprocess\")"
   ]
  },
  {
   "cell_type": "markdown",
   "id": "42ca3c07",
   "metadata": {},
   "source": [
    "## Save baseline data set <a class=\"anchor\" id=\"baseline\"></a>\n",
    "Because the preprocessing step will be the entrypoint in our model pipeline,\n",
    "data capture will have the format as input dataframe here.\n",
    "So, to monitor and baseline our model, we save the training data as would be sent to the endpoint."
   ]
  },
  {
   "cell_type": "code",
   "execution_count": 36,
   "id": "38939eb8",
   "metadata": {},
   "outputs": [
    {
     "data": {
      "application/vnd.jupyter.widget-view+json": {
       "model_id": "",
       "version_major": 2,
       "version_minor": 0
      },
      "text/plain": [
       "FloatProgress(value=0.0, bar_style='info', description='Progress:', layout=Layout(height='25px', width='50%'),…"
      ]
     },
     "metadata": {},
     "output_type": "display_data"
    }
   ],
   "source": [
    "# Subset training dataset to columns expected on \n",
    "# inference endpoint.\n",
    "baseline_df = train_df.select(\n",
    "    \"target\",\n",
    "    \"day_of_week\", \"month\",\n",
    "    \"op_carrier\",\n",
    "    \"origin_latitude\", \"origin_longitude\",\n",
    "    \"dest_latitude\", \"dest_longitude\",\n",
    "    \"origin_tmax\", \"origin_tmin\",  \n",
    "    \"origin_prcp\", \"origin_snow\", \"origin_snwd\", \n",
    "    \"dest_tmax\", \"dest_tmin\",\n",
    "    \"dest_prcp\", \"dest_snow\", \"dest_snwd\"\n",
    ")"
   ]
  },
  {
   "cell_type": "code",
   "execution_count": 37,
   "id": "b238a78f",
   "metadata": {},
   "outputs": [
    {
     "data": {
      "application/vnd.jupyter.widget-view+json": {
       "model_id": "",
       "version_major": 2,
       "version_minor": 0
      },
      "text/plain": [
       "FloatProgress(value=0.0, bar_style='info', description='Progress:', layout=Layout(height='25px', width='50%'),…"
      ]
     },
     "metadata": {},
     "output_type": "display_data"
    },
    {
     "data": {
      "text/html": [
       "<table><tr><th>target</th><th>day_of_week</th><th>month</th><th>op_carrier</th><th>origin_latitude</th><th>origin_longitude</th><th>dest_latitude</th><th>dest_longitude</th><th>origin_tmax</th><th>origin_tmin</th><th>origin_prcp</th><th>origin_snow</th><th>origin_snwd</th><th>dest_tmax</th><th>dest_tmin</th><th>dest_prcp</th><th>dest_snow</th><th>dest_snwd</th></tr><tr><td>0.0</td><td>6</td><td>11</td><td>DL</td><td>40.63980103</td><td>-73.77890015</td><td>37.61899948120117</td><td>-122.375</td><td>111.0</td><td>28.0</td><td>0.0</td><td>0.0</td><td>0.0</td><td>211.0</td><td>139.0</td><td>0.0</td><td>0.0</td><td>0.0</td></tr><tr><td>0.0</td><td>2</td><td>4</td><td>YX</td><td>40.77719879</td><td>-73.87259674</td><td>42.36429977</td><td>-71.00520325</td><td>156.0</td><td>50.0</td><td>84.0</td><td>0.0</td><td>0.0</td><td>122.0</td><td>11.0</td><td>84.0</td><td>0.0</td><td>0.0</td></tr><tr><td>0.0</td><td>6</td><td>11</td><td>AS</td><td>38.8521</td><td>-77.037697</td><td>33.94250107</td><td>-118.4079971</td><td>117.0</td><td>28.0</td><td>0.0</td><td>0.0</td><td>0.0</td><td>272.0</td><td>167.0</td><td>0.0</td><td>0.0</td><td>0.0</td></tr><tr><td>0.0</td><td>6</td><td>11</td><td>WN</td><td>39.1754</td><td>-76.668297</td><td>32.7336006165</td><td>-117.190002441</td><td>106.0</td><td>-10.0</td><td>0.0</td><td>0.0</td><td>0.0</td><td>278.0</td><td>161.0</td><td>0.0</td><td>0.0</td><td>0.0</td></tr><tr><td>0.0</td><td>6</td><td>11</td><td>UA</td><td>41.9388999939</td><td>-72.68319702149999</td><td>39.861698150635</td><td>-104.672996521</td><td>94.0</td><td>-27.0</td><td>0.0</td><td>0.0</td><td>0.0</td><td>217.0</td><td>-21.0</td><td>0.0</td><td>0.0</td><td>0.0</td></tr></table><br /><pre>only showing top 5 rows</pre>"
      ],
      "text/plain": [
       "<IPython.core.display.HTML object>"
      ]
     },
     "metadata": {},
     "output_type": "display_data"
    }
   ],
   "source": [
    "%%pretty\n",
    "baseline_df.show(5)"
   ]
  },
  {
   "cell_type": "code",
   "execution_count": 38,
   "id": "f44c1dab",
   "metadata": {},
   "outputs": [
    {
     "data": {
      "application/vnd.jupyter.widget-view+json": {
       "model_id": "",
       "version_major": 2,
       "version_minor": 0
      },
      "text/plain": [
       "FloatProgress(value=0.0, bar_style='info', description='Progress:', layout=Layout(height='25px', width='50%'),…"
      ]
     },
     "metadata": {},
     "output_type": "display_data"
    }
   ],
   "source": [
    "# Save to CSV with headers for baseline job to read.\n",
    "baseline_df.write.option(\"header\", \"true\").csv(f\"s3a://{data_bucket}/preprocessing_output/baseline/\")"
   ]
  },
  {
   "cell_type": "code",
   "execution_count": null,
   "id": "d8c70950",
   "metadata": {},
   "outputs": [],
   "source": []
  }
 ],
 "metadata": {
  "kernelspec": {
   "display_name": "Sparkmagic (PySpark)",
   "language": "python",
   "name": "pysparkkernel"
  },
  "language_info": {
   "codemirror_mode": {
    "name": "python",
    "version": 3
   },
   "file_extension": ".py",
   "mimetype": "text/x-python",
   "name": "pyspark",
   "pygments_lexer": "python3"
  }
 },
 "nbformat": 4,
 "nbformat_minor": 5
}
