{
 "cells": [
  {
   "cell_type": "markdown",
   "id": "26ef79de",
   "metadata": {},
   "source": [
    "# 2 - Preprocessing <a class=\"anchor\" id=\"top\"></a>\n",
    "* [Introduction](#intro)\n",
    "* [Setup](#setup)\n",
    "* [Loading the data](#load-data)\n",
    "    * [Target variable](#target)\n",
    "    * [Balancing the data](#balance)\n",
    "* [Feature engineering](#ft-eng)\n",
    "    * [Categorical variables](#cat)\n",
    "    * [Continuous variables](#continuous)\n",
    "* [Train-test split](#train-test)\n",
    "* [Define and fit pipeline](#pipeline)\n",
    "* [Partition and write data](#write-s3)\n",
    "* [Serialize and store pipelines](#store-pipeline)"
   ]
  },
  {
   "cell_type": "markdown",
   "id": "a6a3ed81",
   "metadata": {},
   "source": [
    "## Introduction <a class=\"anchor\" id=\"intro\"></a>\n",
    "In this section, we preform all neccesary data operations to prepare our data for use in models.\n",
    "This includes filtering, feature subsetting, feature engineering, cleaning, and finally exporting to S3."
   ]
  },
  {
   "cell_type": "markdown",
   "id": "de14b18b",
   "metadata": {},
   "source": [
    "## Setup <a class=\"anchor\" id=\"setup\"></a>\n",
    "First, we must import relevant Spark modules as well as libraries for statistical analysis and visualizations.\n",
    "Note that will also start the Spark application that creates the `SparkSession` and sets it to the `spark` variable."
   ]
  },
  {
   "cell_type": "code",
   "execution_count": 2,
   "id": "7fab004f",
   "metadata": {},
   "outputs": [],
   "source": [
    "%%cleanup -f"
   ]
  },
  {
   "cell_type": "code",
   "execution_count": 1,
   "id": "7f820a25",
   "metadata": {},
   "outputs": [
    {
     "name": "stdout",
     "output_type": "stream",
     "text": [
      "Starting Spark application\n"
     ]
    },
    {
     "data": {
      "text/html": [
       "<table>\n",
       "<tr><th>ID</th><th>YARN Application ID</th><th>Kind</th><th>State</th><th>Spark UI</th><th>Driver log</th><th>User</th><th>Current session?</th></tr><tr><td>15</td><td>application_1643065673430_0014</td><td>pyspark</td><td>idle</td><td><a target=\"_blank\" href=\"http://ip-10-0-0-70.ec2.internal:20888/proxy/application_1643065673430_0014/\">Link</a></td><td><a target=\"_blank\" href=\"http://ip-10-0-46-221.ec2.internal:8042/node/containerlogs/container_1643065673430_0014_01_000001/livy\">Link</a></td><td>None</td><td>✔</td></tr></table>"
      ],
      "text/plain": [
       "<IPython.core.display.HTML object>"
      ]
     },
     "metadata": {},
     "output_type": "display_data"
    },
    {
     "data": {
      "application/vnd.jupyter.widget-view+json": {
       "model_id": "",
       "version_major": 2,
       "version_minor": 0
      },
      "text/plain": [
       "FloatProgress(value=0.0, bar_style='info', description='Progress:', layout=Layout(height='25px', width='50%'),…"
      ]
     },
     "metadata": {},
     "output_type": "display_data"
    },
    {
     "name": "stdout",
     "output_type": "stream",
     "text": [
      "SparkSession available as 'spark'.\n"
     ]
    },
    {
     "data": {
      "application/vnd.jupyter.widget-view+json": {
       "model_id": "",
       "version_major": 2,
       "version_minor": 0
      },
      "text/plain": [
       "FloatProgress(value=0.0, bar_style='info', description='Progress:', layout=Layout(height='25px', width='50%'),…"
      ]
     },
     "metadata": {},
     "output_type": "display_data"
    }
   ],
   "source": [
    "import pyspark\n",
    "import pyspark.ml as ml\n",
    "import pyspark.sql as sql\n",
    "import pyspark.sql.types as types\n",
    "import pyspark.sql.functions as F\n",
    "import mleap.pyspark.spark_support as support\n",
    "\n",
    "import os\n",
    "import json\n",
    "import boto3\n",
    "import shutil\n",
    "import zipfile\n",
    "import tarfile\n",
    "import seaborn as sns\n",
    "import matplotlib.pyplot as plt\n",
    "sns.set_style(\"darkgrid\")"
   ]
  },
  {
   "cell_type": "code",
   "execution_count": 2,
   "id": "247b5e64",
   "metadata": {},
   "outputs": [
    {
     "data": {
      "application/vnd.jupyter.widget-view+json": {
       "model_id": "",
       "version_major": 2,
       "version_minor": 0
      },
      "text/plain": [
       "FloatProgress(value=0.0, bar_style='info', description='Progress:', layout=Layout(height='25px', width='50%'),…"
      ]
     },
     "metadata": {},
     "output_type": "display_data"
    }
   ],
   "source": [
    "s3 = boto3.resource(\"s3\")"
   ]
  },
  {
   "cell_type": "code",
   "execution_count": 3,
   "id": "33d76457",
   "metadata": {},
   "outputs": [
    {
     "data": {
      "application/vnd.jupyter.widget-view+json": {
       "model_id": "",
       "version_major": 2,
       "version_minor": 0
      },
      "text/plain": [
       "FloatProgress(value=0.0, bar_style='info', description='Progress:', layout=Layout(height='25px', width='50%'),…"
      ]
     },
     "metadata": {},
     "output_type": "display_data"
    }
   ],
   "source": [
    "# Avoids creation of _SUCCESS files.\n",
    "sc._jsc.hadoopConfiguration().set(\"mapreduce.fileoutputcommitter.marksuccessfuljobs\", \"false\")"
   ]
  },
  {
   "cell_type": "markdown",
   "id": "56d578be",
   "metadata": {},
   "source": [
    "## Loading the data <a class=\"anchor\" id=\"load-data\"></a>\n",
    "\n",
    "Now, we load the airline data from S3.\n",
    "To do this, we must first get the bucket name where the data is stored.\n",
    "This variable is stored on the local Sagemaker notebook instance during the `DevEnvironment` stack creation \n",
    "and must be explicitly passed to the Spark cluster.\n",
    "\n",
    "Additionally, the data is also subsetted and filter before preforming any feature engineering.\n",
    "This is to reduce the number of features we are working with \n",
    "and ensure that the features we have are meaningful."
   ]
  },
  {
   "cell_type": "code",
   "execution_count": 4,
   "id": "6ebcbafa",
   "metadata": {},
   "outputs": [],
   "source": [
    "%%local\n",
    "import json\n",
    "with open(\"/home/ec2-user/.aiml-bb/stack-data.json\", \"r\") as f:\n",
    "    data = json.load(f)\n",
    "    data_bucket = data[\"data_bucket\"]\n",
    "    model_bucket = data[\"model_bucket\"]"
   ]
  },
  {
   "cell_type": "code",
   "execution_count": 5,
   "id": "a57972e5",
   "metadata": {},
   "outputs": [
    {
     "data": {
      "application/vnd.jupyter.widget-view+json": {
       "model_id": "",
       "version_major": 2,
       "version_minor": 0
      },
      "text/plain": [
       "FloatProgress(value=0.0, bar_style='info', description='Progress:', layout=Layout(height='25px', width='50%'),…"
      ]
     },
     "metadata": {},
     "output_type": "display_data"
    },
    {
     "name": "stdout",
     "output_type": "stream",
     "text": [
      "Successfully passed 'data_bucket' as 'data_bucket' to Spark kernel"
     ]
    }
   ],
   "source": [
    "%%send_to_spark -i data_bucket -t str"
   ]
  },
  {
   "cell_type": "code",
   "execution_count": 6,
   "id": "da2d1443",
   "metadata": {},
   "outputs": [
    {
     "data": {
      "application/vnd.jupyter.widget-view+json": {
       "model_id": "",
       "version_major": 2,
       "version_minor": 0
      },
      "text/plain": [
       "FloatProgress(value=0.0, bar_style='info', description='Progress:', layout=Layout(height='25px', width='50%'),…"
      ]
     },
     "metadata": {},
     "output_type": "display_data"
    },
    {
     "name": "stdout",
     "output_type": "stream",
     "text": [
      "Successfully passed 'model_bucket' as 'model_bucket' to Spark kernel"
     ]
    }
   ],
   "source": [
    "%%send_to_spark -i model_bucket -t str"
   ]
  },
  {
   "cell_type": "code",
   "execution_count": 7,
   "id": "6e58edb4",
   "metadata": {},
   "outputs": [
    {
     "data": {
      "application/vnd.jupyter.widget-view+json": {
       "model_id": "",
       "version_major": 2,
       "version_minor": 0
      },
      "text/plain": [
       "FloatProgress(value=0.0, bar_style='info', description='Progress:', layout=Layout(height='25px', width='50%'),…"
      ]
     },
     "metadata": {},
     "output_type": "display_data"
    }
   ],
   "source": [
    "# Subset ETL output to only relevant columns for model input.\n",
    "join_df = spark.read.parquet(f\"s3://{data_bucket}/etl_output/joined_airline_weather_data/\")\n",
    "\n",
    "# Work on a subset of the data that reflects the input schema \n",
    "# we'd like our endpoint to recieve.\n",
    "input_df = (\n",
    "    join_df\n",
    "    # Drop all other NaN values.\n",
    "    .dropna(\n",
    "        subset=[\"origin\", \"dest\", \"origin_station_id\", \"dest_station_id\"]\n",
    "    )\n",
    "    # Fill NaN values where neccesary.\n",
    "    .na.fill(\n",
    "        0.0,\n",
    "        subset=[\n",
    "            \"arr_delay\",\n",
    "            \"origin_prcp\", \"origin_snow\", \"origin_snwd\",\n",
    "            \"dest_prcp\", \"dest_snow\", \"dest_snwd\"\n",
    "        ]\n",
    "    )\n",
    "    # Make feature selection.\n",
    "    .select(\n",
    "        \"arr_delay\", \"cancelled\", \"diverted\",\n",
    "        \"day_of_week\", \"month\",\n",
    "        \"op_carrier\",\n",
    "        \"origin_latitude\", \"origin_longitude\",\n",
    "        \"dest_latitude\", \"dest_longitude\",\n",
    "        \"origin_tmax\", \"origin_tmin\", \n",
    "        \"origin_prcp\", \"origin_snow\", \"origin_snwd\",\n",
    "        \"dest_tmax\", \"dest_tmin\", \n",
    "        \"dest_prcp\", \"dest_snow\", \"dest_snwd\"\n",
    "    )\n",
    ")"
   ]
  },
  {
   "cell_type": "code",
   "execution_count": 8,
   "id": "f875cc14",
   "metadata": {},
   "outputs": [
    {
     "data": {
      "application/vnd.jupyter.widget-view+json": {
       "model_id": "",
       "version_major": 2,
       "version_minor": 0
      },
      "text/plain": [
       "FloatProgress(value=0.0, bar_style='info', description='Progress:', layout=Layout(height='25px', width='50%'),…"
      ]
     },
     "metadata": {},
     "output_type": "display_data"
    },
    {
     "data": {
      "text/html": [
       "<table><tr><th>arr_delay</th><th>cancelled</th><th>diverted</th><th>day_of_week</th><th>month</th><th>op_carrier</th><th>origin_latitude</th><th>origin_longitude</th><th>dest_latitude</th><th>dest_longitude</th><th>origin_tmax</th><th>origin_tmin</th><th>origin_prcp</th><th>origin_snow</th><th>origin_snwd</th><th>dest_tmax</th><th>dest_tmin</th><th>dest_prcp</th><th>dest_snow</th><th>dest_snwd</th></tr><tr><td>-9.0</td><td>0.0</td><td>0.0</td><td>2</td><td>5</td><td>EV</td><td>33.6367</td><td>-84.428101</td><td>40.652099609375</td><td>-75.44080352783203</td><td>178.0</td><td>94.0</td><td>0.0</td><td>0.0</td><td>0.0</td><td>172.0</td><td>133.0</td><td>81.0</td><td>0.0</td><td>0.0</td></tr><tr><td>213.0</td><td>0.0</td><td>0.0</td><td>3</td><td>7</td><td>EV</td><td>33.6367</td><td>-84.428101</td><td>40.652099609375</td><td>-75.44080352783203</td><td>244.0</td><td>194.0</td><td>462.0</td><td>0.0</td><td>0.0</td><td>289.0</td><td>228.0</td><td>13.0</td><td>0.0</td><td>0.0</td></tr><tr><td>73.0</td><td>0.0</td><td>0.0</td><td>3</td><td>7</td><td>EV</td><td>33.6367</td><td>-84.428101</td><td>40.652099609375</td><td>-75.44080352783203</td><td>244.0</td><td>194.0</td><td>462.0</td><td>0.0</td><td>0.0</td><td>289.0</td><td>228.0</td><td>13.0</td><td>0.0</td><td>0.0</td></tr><tr><td>48.0</td><td>0.0</td><td>0.0</td><td>3</td><td>7</td><td>EV</td><td>33.6367</td><td>-84.428101</td><td>40.652099609375</td><td>-75.44080352783203</td><td>244.0</td><td>194.0</td><td>462.0</td><td>0.0</td><td>0.0</td><td>289.0</td><td>228.0</td><td>13.0</td><td>0.0</td><td>0.0</td></tr><tr><td>106.0</td><td>0.0</td><td>0.0</td><td>1</td><td>12</td><td>9E</td><td>33.6367</td><td>-84.428101</td><td>40.652099609375</td><td>-75.44080352783203</td><td>106.0</td><td>50.0</td><td>254.0</td><td>0.0</td><td>0.0</td><td>11.0</td><td>-21.0</td><td>58.0</td><td>0.0</td><td>30.0</td></tr></table><br /><pre>only showing top 5 rows</pre>"
      ],
      "text/plain": [
       "<IPython.core.display.HTML object>"
      ]
     },
     "metadata": {},
     "output_type": "display_data"
    }
   ],
   "source": [
    "%%pretty\n",
    "input_df.show(5)"
   ]
  },
  {
   "cell_type": "markdown",
   "id": "0bfaa847",
   "metadata": {},
   "source": [
    "### Target variable <a class=\"anchor\" id=\"target\"></a>\n",
    "We will reduce the regression problem of determining arrival delay into the binary classfication problem or detmering if a delay (or cancellation) will occur.\n",
    "Because this step will not be a part of our inference pipeline, we do not need to wrap it in a Spark `Transformer`."
   ]
  },
  {
   "cell_type": "code",
   "execution_count": 10,
   "id": "46409208",
   "metadata": {},
   "outputs": [
    {
     "data": {
      "application/vnd.jupyter.widget-view+json": {
       "model_id": "",
       "version_major": 2,
       "version_minor": 0
      },
      "text/plain": [
       "FloatProgress(value=0.0, bar_style='info', description='Progress:', layout=Layout(height='25px', width='50%'),…"
      ]
     },
     "metadata": {},
     "output_type": "display_data"
    }
   ],
   "source": [
    "# Define the new categorical column we want to predict.\n",
    "# Strings are used here so we can postprocess the binary \n",
    "# classification to readable results. \n",
    "input_df = (\n",
    "    input_df\n",
    "    .withColumn(\n",
    "        \"delay_status\", \n",
    "        F.when(\n",
    "            (F.col(\"arr_delay\") > 15) \n",
    "                | (F.col(\"cancelled\") == 1) \n",
    "                | (F.col(\"diverted\") == 1), \n",
    "            \"Delayed\"\n",
    "        )\n",
    "        .otherwise(\"OnTime\")\n",
    "    )\n",
    ")"
   ]
  },
  {
   "cell_type": "code",
   "execution_count": 11,
   "id": "00782325",
   "metadata": {},
   "outputs": [
    {
     "data": {
      "application/vnd.jupyter.widget-view+json": {
       "model_id": "",
       "version_major": 2,
       "version_minor": 0
      },
      "text/plain": [
       "FloatProgress(value=0.0, bar_style='info', description='Progress:', layout=Layout(height='25px', width='50%'),…"
      ]
     },
     "metadata": {},
     "output_type": "display_data"
    }
   ],
   "source": [
    "# Now encode target and apply to input data.\n",
    "target_indexer = ml.feature.StringIndexer(inputCol=\"delay_status\", outputCol=\"target\")\n",
    "target_indexer_model = target_indexer.fit(input_df)\n",
    "input_df = target_indexer_model.transform(input_df)"
   ]
  },
  {
   "cell_type": "code",
   "execution_count": 12,
   "id": "5594bd0f",
   "metadata": {},
   "outputs": [
    {
     "data": {
      "application/vnd.jupyter.widget-view+json": {
       "model_id": "",
       "version_major": 2,
       "version_minor": 0
      },
      "text/plain": [
       "FloatProgress(value=0.0, bar_style='info', description='Progress:', layout=Layout(height='25px', width='50%'),…"
      ]
     },
     "metadata": {},
     "output_type": "display_data"
    },
    {
     "data": {
      "text/html": [
       "<table><tr><th>arr_delay</th><th>cancelled</th><th>diverted</th><th>delay_status</th><th>target</th></tr><tr><td>39.0</td><td>0.0</td><td>0.0</td><td>Delayed</td><td>1.0</td></tr><tr><td>-8.0</td><td>0.0</td><td>0.0</td><td>OnTime</td><td>0.0</td></tr><tr><td>-8.0</td><td>0.0</td><td>0.0</td><td>OnTime</td><td>0.0</td></tr><tr><td>-4.0</td><td>0.0</td><td>0.0</td><td>OnTime</td><td>0.0</td></tr><tr><td>-21.0</td><td>0.0</td><td>0.0</td><td>OnTime</td><td>0.0</td></tr></table><br /><pre>only showing top 5 rows</pre>"
      ],
      "text/plain": [
       "<IPython.core.display.HTML object>"
      ]
     },
     "metadata": {},
     "output_type": "display_data"
    }
   ],
   "source": [
    "%%pretty\n",
    "input_df.select(\"arr_delay\", \"cancelled\", \"diverted\", \"delay_status\", \"target\").show(5)"
   ]
  },
  {
   "cell_type": "markdown",
   "id": "0822e53a",
   "metadata": {},
   "source": [
    "### Balancing the data <a class=\"anchor\" id=\"balance\"></a>\n",
    "As we saw in the exploration section, our data is fairly unabalanced, with an approximate 4:1 ratio of on-time to delayed flights.\n",
    "Because we have so much data available to us (more than 60 million observations), we will stochastically undersample the on-time flights to balance the classes."
   ]
  },
  {
   "cell_type": "code",
   "execution_count": 13,
   "id": "66ee56b4",
   "metadata": {},
   "outputs": [
    {
     "data": {
      "application/vnd.jupyter.widget-view+json": {
       "model_id": "",
       "version_major": 2,
       "version_minor": 0
      },
      "text/plain": [
       "FloatProgress(value=0.0, bar_style='info', description='Progress:', layout=Layout(height='25px', width='50%'),…"
      ]
     },
     "metadata": {},
     "output_type": "display_data"
    }
   ],
   "source": [
    "num_flights_total = input_df.count()\n",
    "num_flights_ontime = input_df.filter(F.col(\"target\") == 0).count()\n",
    "num_flights_delayed = input_df.filter(F.col(\"target\") == 1).count()"
   ]
  },
  {
   "cell_type": "code",
   "execution_count": 18,
   "id": "ac282d1d",
   "metadata": {},
   "outputs": [
    {
     "data": {
      "application/vnd.jupyter.widget-view+json": {
       "model_id": "",
       "version_major": 2,
       "version_minor": 0
      },
      "text/plain": [
       "FloatProgress(value=0.0, bar_style='info', description='Progress:', layout=Layout(height='25px', width='50%'),…"
      ]
     },
     "metadata": {},
     "output_type": "display_data"
    }
   ],
   "source": [
    "# Undersample on-time flights and take all delayed flights.\n",
    "sampled_input_df = input_df.sampleBy(\n",
    "    \"target\",\n",
    "    {0: num_flights_delayed / num_flights_ontime, 1: 1.0}\n",
    ")\n",
    "num_sampled_flights_total = sampled_input_df.count()\n",
    "num_sampled_flights_ontime = sampled_input_df.filter(F.col(\"target\") == 0).count()\n",
    "num_sampled_flights_delayed = sampled_input_df.filter(F.col(\"target\") == 1).count()"
   ]
  },
  {
   "cell_type": "code",
   "execution_count": 24,
   "id": "6c7ca425",
   "metadata": {},
   "outputs": [
    {
     "data": {
      "application/vnd.jupyter.widget-view+json": {
       "model_id": "",
       "version_major": 2,
       "version_minor": 0
      },
      "text/plain": [
       "FloatProgress(value=0.0, bar_style='info', description='Progress:', layout=Layout(height='25px', width='50%'),…"
      ]
     },
     "metadata": {},
     "output_type": "display_data"
    },
    {
     "name": "stdout",
     "output_type": "stream",
     "text": [
      "{\n",
      "    \"num_flights_total\": 64442585,\n",
      "    \"num_flights_ontime\": 52045627,\n",
      "    \"pct_flights_ontime\": 0.807627859745229,\n",
      "    \"num_flights_delayed\": 12396958,\n",
      "    \"pct_flights_delayed\": 0.19237214025477098,\n",
      "    \"num_sampled_flights_total\": 24792145,\n",
      "    \"num_sampled_flights_ontime\": 12395187,\n",
      "    \"pct_sampled_flights_ontime\": 0.49996428304206836,\n",
      "    \"num_sampled_flights_delayed\": 12396958,\n",
      "    \"pct_sampled_flights_delayed\": 0.5000357169579316,\n",
      "    \"num_flights_removed\": 39650440\n",
      "}"
     ]
    }
   ],
   "source": [
    "# Report metrics on sampling.\n",
    "undersampling_statistics = {\n",
    "    \"num_flights_total\": num_flights_total,\n",
    "    \"num_flights_ontime\": num_flights_ontime,\n",
    "    \"pct_flights_ontime\": num_flights_ontime / num_flights_total,\n",
    "    \"num_flights_delayed\": num_flights_delayed,\n",
    "    \"pct_flights_delayed\": num_flights_delayed / num_flights_total,\n",
    "    \n",
    "    \"num_sampled_flights_total\": num_sampled_flights_total,\n",
    "    \"num_sampled_flights_ontime\": num_sampled_flights_ontime,\n",
    "    \"pct_sampled_flights_ontime\": num_sampled_flights_ontime / num_sampled_flights_total,\n",
    "    \"num_sampled_flights_delayed\": num_sampled_flights_delayed,\n",
    "    \"pct_sampled_flights_delayed\": num_sampled_flights_delayed / num_sampled_flights_total,\n",
    "    \n",
    "    \"num_flights_removed\": num_flights_total - num_sampled_flights_total\n",
    "}\n",
    "print(json.dumps(undersampling_statistics, indent=4))"
   ]
  },
  {
   "cell_type": "markdown",
   "id": "4a687e10",
   "metadata": {},
   "source": [
    "We now have a balanced data set with approximately 12 million observations in total."
   ]
  },
  {
   "cell_type": "code",
   "execution_count": 39,
   "id": "1cb1a19c",
   "metadata": {},
   "outputs": [
    {
     "data": {
      "application/vnd.jupyter.widget-view+json": {
       "model_id": "",
       "version_major": 2,
       "version_minor": 0
      },
      "text/plain": [
       "FloatProgress(value=0.0, bar_style='info', description='Progress:', layout=Layout(height='25px', width='50%'),…"
      ]
     },
     "metadata": {},
     "output_type": "display_data"
    },
    {
     "data": {
      "image/png": "[encoded data removed]",
      "text/plain": [
       "<IPython.core.display.Image object>"
      ]
     },
     "metadata": {},
     "output_type": "display_data"
    }
   ],
   "source": [
    "# Plot class fractions below.\n",
    "fig, (ax1, ax2) = plt.subplots(1, 2)\n",
    "ax1.pie(\n",
    "    [num_flights_ontime, num_flights_delayed], \n",
    "    labels=[\"OnTime\", \"Delayed\"],\n",
    "    autopct=\"%1.1f%%\"\n",
    ")\n",
    "ax1.set_title(f\"Before undersampling\")\n",
    "\n",
    "ax2.pie(\n",
    "    [num_sampled_flights_ontime, num_sampled_flights_delayed], \n",
    "    labels=[\"OnTime\", \"Delayed\"],\n",
    "    autopct=\"%1.1f%%\"\n",
    ")\n",
    "ax2.set_title(f\"After undersampling\")\n",
    "fig.tight_layout()\n",
    "%matplot plt"
   ]
  },
  {
   "cell_type": "markdown",
   "id": "f826329e",
   "metadata": {},
   "source": [
    "## Feature engineering <a class=\"anchor\" id=\"ft-eng\"></a>\n",
    "We now define the feature engineering steps that will make up our preprocessing `Pipeline`.\n",
    "Note that all steps must be either a Spark `Transformer` or `Estimator` to be able to be serialized by MLeap."
   ]
  },
  {
   "cell_type": "markdown",
   "id": "cbc0f077",
   "metadata": {},
   "source": [
    "### Categorical variables <a class=\"anchor\" id=\"cat\"></a>\n",
    "Here, we will encode the relevant categorical variables to numeric types. \n",
    "For this data set, this means we must encode the date information, carrier, and the origin and destination airport information."
   ]
  },
  {
   "cell_type": "code",
   "execution_count": 40,
   "id": "6974e85e",
   "metadata": {},
   "outputs": [
    {
     "data": {
      "application/vnd.jupyter.widget-view+json": {
       "model_id": "",
       "version_major": 2,
       "version_minor": 0
      },
      "text/plain": [
       "FloatProgress(value=0.0, bar_style='info', description='Progress:', layout=Layout(height='25px', width='50%'),…"
      ]
     },
     "metadata": {},
     "output_type": "display_data"
    }
   ],
   "source": [
    "# Need to index before one hot encoding so MLeap can infer \n",
    "# number of columns created.\n",
    "day_of_week_indexer = ml.feature.StringIndexer(\n",
    "    inputCol=\"day_of_week\", \n",
    "    outputCol=\"day_of_week_idx\"\n",
    ")\n",
    "day_of_week_encoder = ml.feature.OneHotEncoderEstimator(\n",
    "    inputCols=[\"day_of_week_idx\"], \n",
    "    outputCols=[\"day_of_week_ohe\"]\n",
    ")\n",
    "\n",
    "month_indexer = ml.feature.StringIndexer(\n",
    "    inputCol=\"month\", \n",
    "    outputCol=\"month_idx\"\n",
    ")\n",
    "month_encoder = ml.feature.OneHotEncoderEstimator(\n",
    "    inputCols=[\"month_idx\"], \n",
    "    outputCols=[\"month_ohe\"]\n",
    ")"
   ]
  },
  {
   "cell_type": "code",
   "execution_count": 41,
   "id": "8dd6f7a0",
   "metadata": {},
   "outputs": [
    {
     "data": {
      "application/vnd.jupyter.widget-view+json": {
       "model_id": "",
       "version_major": 2,
       "version_minor": 0
      },
      "text/plain": [
       "FloatProgress(value=0.0, bar_style='info', description='Progress:', layout=Layout(height='25px', width='50%'),…"
      ]
     },
     "metadata": {},
     "output_type": "display_data"
    }
   ],
   "source": [
    "carrier_indexer = ml.feature.StringIndexer(\n",
    "    inputCol=\"op_carrier\", \n",
    "    outputCol=\"carrier_idx\"\n",
    ")\n",
    "carrier_encoder = ml.feature.OneHotEncoderEstimator(\n",
    "    inputCols=[\"carrier_idx\"], \n",
    "    outputCols=[\"carrier_ohe\"]\n",
    ")"
   ]
  },
  {
   "cell_type": "markdown",
   "id": "7cf5bb84",
   "metadata": {},
   "source": [
    "Because there are ~300 airports, and we need to account for both origin and destination,\n",
    "one hot encoding would create too many features.\n",
    "Airports do appear in geographic clusters though, for example around urban locations.\n",
    "So, to encode airports, we'll cluster the latitudes and longitudes using K-Means.\n",
    "\n",
    "Since we wil be doing no preprocessing, there will be duplicates of airport geolocations.\n",
    "This means that there will be an implicit weighting on high traffic areas. \n",
    "For this problem, this is desirable.\n",
    "\n",
    "Note that we will only preform this search on the origin airports because of the similarities in the distribution of origin and destination airports."
   ]
  },
  {
   "cell_type": "code",
   "execution_count": 43,
   "id": "3f1ff2be",
   "metadata": {},
   "outputs": [
    {
     "data": {
      "application/vnd.jupyter.widget-view+json": {
       "model_id": "",
       "version_major": 2,
       "version_minor": 0
      },
      "text/plain": [
       "FloatProgress(value=0.0, bar_style='info', description='Progress:', layout=Layout(height='25px', width='50%'),…"
      ]
     },
     "metadata": {},
     "output_type": "display_data"
    }
   ],
   "source": [
    "# Vectorize geolocation for use in clustering.\n",
    "origin_geo_assembler = ml.feature.VectorAssembler(\n",
    "    inputCols=[\"origin_latitude\", \"origin_longitude\"],\n",
    "    outputCol=\"origin_geo_features\",\n",
    "    handleInvalid=\"keep\"\n",
    ")\n",
    "kmeans_eval_df = origin_geo_assembler.transform(sampled_input_df)"
   ]
  },
  {
   "cell_type": "code",
   "execution_count": null,
   "id": "df516b79",
   "metadata": {},
   "outputs": [
    {
     "data": {
      "application/vnd.jupyter.widget-view+json": {
       "model_id": "b1e8228f2d7e4972823f82df3bccf616",
       "version_major": 2,
       "version_minor": 0
      },
      "text/plain": [
       "FloatProgress(value=0.0, bar_style='info', description='Progress:', layout=Layout(height='25px', width='50%'),…"
      ]
     },
     "metadata": {},
     "output_type": "display_data"
    }
   ],
   "source": [
    "# Search for an optimal K.\n",
    "silhouette_scores = []\n",
    "evaluator = ml.evaluation.ClusteringEvaluator(\n",
    "    metricName=\"silhouette\", \n",
    "    distanceMeasure=\"squaredEuclidean\",\n",
    "    featuresCol=\"origin_geo_features\",\n",
    "    predictionCol=\"origin_geo_cluster\"\n",
    ")\n",
    "\n",
    "for k in range(2, 30):\n",
    "    candidate_kmeans = ml.clustering.KMeans(\n",
    "        k=k,\n",
    "        featuresCol=\"origin_geo_features\",\n",
    "        predictionCol=\"origin_geo_cluster\"\n",
    "    )\n",
    "    candidate_kmeans_model = candidate_kmeans.fit(kmeans_eval_df)\n",
    "    transformed_kmeans_eval_df = candidate_kmeans_model.transform(kmeans_eval_df)\n",
    "\n",
    "    evaluation_score = evaluator.evaluate(transformed_kmeans_eval_df)\n",
    "    silhouette_scores.append(evaluation_score)"
   ]
  },
  {
   "cell_type": "code",
   "execution_count": 54,
   "id": "6e11e970",
   "metadata": {},
   "outputs": [
    {
     "data": {
      "application/vnd.jupyter.widget-view+json": {
       "model_id": "",
       "version_major": 2,
       "version_minor": 0
      },
      "text/plain": [
       "FloatProgress(value=0.0, bar_style='info', description='Progress:', layout=Layout(height='25px', width='50%'),…"
      ]
     },
     "metadata": {},
     "output_type": "display_data"
    },
    {
     "data": {
      "image/png": "[encoded data removed]",
      "text/plain": [
       "<IPython.core.display.Image object>"
      ]
     },
     "metadata": {},
     "output_type": "display_data"
    }
   ],
   "source": [
    "# Plot model results.\n",
    "fig, ax = plt.subplots()\n",
    "ax.plot(range(2, 30), silhouette_scores)\n",
    "ax.set_xlabel(\"Number of clusters\")\n",
    "ax.set_ylabel(\"Silhouette score\")\n",
    "ax.set_title(\"Optimal clustering parameters for airport geolocations\")\n",
    "%matplot plt"
   ]
  },
  {
   "cell_type": "markdown",
   "id": "83d0b191",
   "metadata": {},
   "source": [
    "We can see that 16 is near the elbow of the plot and will be our choice for K.\n",
    "As this process is stochastic, for a more robust choice, consider running this test multiple times for different starting seeds."
   ]
  },
  {
   "cell_type": "code",
   "execution_count": 62,
   "id": "a2361221",
   "metadata": {},
   "outputs": [
    {
     "data": {
      "application/vnd.jupyter.widget-view+json": {
       "model_id": "",
       "version_major": 2,
       "version_minor": 0
      },
      "text/plain": [
       "FloatProgress(value=0.0, bar_style='info', description='Progress:', layout=Layout(height='25px', width='50%'),…"
      ]
     },
     "metadata": {},
     "output_type": "display_data"
    }
   ],
   "source": [
    "# Create finalized assemblers and clusterers for the \n",
    "# preprocessing pipeline.\n",
    "origin_geo_assembler = ml.feature.VectorAssembler(\n",
    "    inputCols=[\"origin_latitude\", \"origin_longitude\"], \n",
    "    outputCol=\"origin_geo_features\",\n",
    "    handleInvalid=\"keep\"\n",
    ")\n",
    "origin_geo_kmeans = ml.clustering.KMeans(\n",
    "        k=16,\n",
    "        featuresCol=\"origin_geo_features\",\n",
    "        predictionCol=\"origin_geo_cluster\"\n",
    ")\n",
    "# Need to index before one hot encoding so MLeap can infer \n",
    "# number of columns created.\n",
    "origin_geo_indexer = ml.feature.StringIndexer(\n",
    "    inputCol=\"origin_geo_cluster\", \n",
    "    outputCol=\"origin_geo_idx\"\n",
    ")\n",
    "# Lastly, one hot encode the cluster values.\n",
    "origin_geo_encoder = ml.feature.OneHotEncoderEstimator(\n",
    "    inputCols=[\"origin_geo_idx\"], \n",
    "    outputCols=[\"origin_geo_ohe\"]\n",
    ")"
   ]
  },
  {
   "cell_type": "code",
   "execution_count": 63,
   "id": "d6d05d8a",
   "metadata": {},
   "outputs": [
    {
     "data": {
      "application/vnd.jupyter.widget-view+json": {
       "model_id": "",
       "version_major": 2,
       "version_minor": 0
      },
      "text/plain": [
       "FloatProgress(value=0.0, bar_style='info', description='Progress:', layout=Layout(height='25px', width='50%'),…"
      ]
     },
     "metadata": {},
     "output_type": "display_data"
    }
   ],
   "source": [
    "# Repeat the above actions for the destination.\n",
    "dest_geo_assembler = ml.feature.VectorAssembler(\n",
    "    inputCols=[\"dest_latitude\", \"dest_longitude\"], \n",
    "    outputCol=\"dest_geo_features\",\n",
    "    handleInvalid=\"keep\"\n",
    ")\n",
    "dest_geo_kmeans = ml.clustering.KMeans(\n",
    "        k=16,\n",
    "        featuresCol=\"dest_geo_features\",\n",
    "        predictionCol=\"dest_geo_cluster\"\n",
    ")\n",
    "dest_geo_indexer = ml.feature.StringIndexer(\n",
    "    inputCol=\"dest_geo_cluster\", \n",
    "    outputCol=\"dest_geo_idx\"\n",
    ")\n",
    "dest_geo_encoder = ml.feature.OneHotEncoderEstimator(\n",
    "    inputCols=[\"dest_geo_idx\"], \n",
    "    outputCols=[\"dest_geo_ohe\"]\n",
    ")"
   ]
  },
  {
   "cell_type": "markdown",
   "id": "bc362693",
   "metadata": {},
   "source": [
    "### Continuous variables <a class=\"anchor\" id=\"continuous\"></a>\n",
    "The continuous variables in our dataset include only the weather data. \n",
    "We will be using standardization for all metrics, because weather data is subject to meaningful outliers. "
   ]
  },
  {
   "cell_type": "code",
   "execution_count": 64,
   "id": "ceb67034",
   "metadata": {},
   "outputs": [
    {
     "data": {
      "application/vnd.jupyter.widget-view+json": {
       "model_id": "",
       "version_major": 2,
       "version_minor": 0
      },
      "text/plain": [
       "FloatProgress(value=0.0, bar_style='info', description='Progress:', layout=Layout(height='25px', width='50%'),…"
      ]
     },
     "metadata": {},
     "output_type": "display_data"
    }
   ],
   "source": [
    "# Collect all weather columns so standardization can \n",
    "# be preformed on all weather features at once.\n",
    "weather_cols = [\n",
    "    \"origin_tmax\", \"origin_tmin\", \"origin_prcp\", \"origin_snow\", \"origin_snwd\",\n",
    "    \"dest_tmax\", \"dest_tmin\", \"dest_prcp\", \"dest_snow\", \"dest_snwd\"\n",
    "]\n",
    "weather_col_assembler = ml.feature.VectorAssembler(\n",
    "    inputCols=weather_cols, \n",
    "    outputCol=\"weather_features\",\n",
    "    handleInvalid=\"keep\"\n",
    ")\n",
    "weather_std_scalar = ml.feature.StandardScaler(\n",
    "    inputCol=\"weather_features\", \n",
    "    outputCol=\"weather_features_scaled\"\n",
    ")"
   ]
  },
  {
   "cell_type": "markdown",
   "id": "e101e84b",
   "metadata": {},
   "source": [
    "## Define and fit pipeline <a class=\"anchor\" id=\"pipeline\"></a>\n",
    "We now collect all the preprocessing steps into a Spark `Pipeline`. \n",
    "This allows us to serialize all preprocessing steps and later deploy a preprocessing model.\n",
    "This model can then be connected to inference models to create an end-to-end inference pipeline."
   ]
  },
  {
   "cell_type": "code",
   "execution_count": 65,
   "id": "7f5b87f4",
   "metadata": {},
   "outputs": [
    {
     "data": {
      "application/vnd.jupyter.widget-view+json": {
       "model_id": "",
       "version_major": 2,
       "version_minor": 0
      },
      "text/plain": [
       "FloatProgress(value=0.0, bar_style='info', description='Progress:', layout=Layout(height='25px', width='50%'),…"
      ]
     },
     "metadata": {},
     "output_type": "display_data"
    }
   ],
   "source": [
    "# Collect all the generated features into a single vector.\n",
    "# THis will be the last stage in the pipeline.\n",
    "feature_assembler = ml.feature.VectorAssembler(\n",
    "    inputCols=[\n",
    "        \"day_of_week_ohe\",\n",
    "        \"month_ohe\",\n",
    "        \"carrier_ohe\",\n",
    "        \"origin_geo_ohe\",\n",
    "        \"dest_geo_ohe\",\n",
    "        \"weather_features_scaled\"\n",
    "    ],\n",
    "    outputCol=\"features\"\n",
    ")"
   ]
  },
  {
   "cell_type": "code",
   "execution_count": 66,
   "id": "d41b6650",
   "metadata": {},
   "outputs": [
    {
     "data": {
      "application/vnd.jupyter.widget-view+json": {
       "model_id": "",
       "version_major": 2,
       "version_minor": 0
      },
      "text/plain": [
       "FloatProgress(value=0.0, bar_style='info', description='Progress:', layout=Layout(height='25px', width='50%'),…"
      ]
     },
     "metadata": {},
     "output_type": "display_data"
    }
   ],
   "source": [
    "# Define Pipeline object.\n",
    "preprocess_pipeline = ml.Pipeline(\n",
    "    stages=[\n",
    "        day_of_week_indexer,\n",
    "        day_of_week_encoder,\n",
    "        month_indexer,\n",
    "        month_encoder,\n",
    "        carrier_indexer,\n",
    "        carrier_encoder,\n",
    "        origin_geo_assembler,\n",
    "        origin_geo_kmeans,\n",
    "        origin_geo_indexer,\n",
    "        origin_geo_encoder,\n",
    "        dest_geo_assembler,\n",
    "        dest_geo_kmeans,\n",
    "        dest_geo_indexer,\n",
    "        dest_geo_encoder,\n",
    "        weather_col_assembler,\n",
    "        weather_std_scalar,\n",
    "        feature_assembler,\n",
    "    ]\n",
    ")"
   ]
  },
  {
   "cell_type": "code",
   "execution_count": 67,
   "id": "578a3fbe",
   "metadata": {},
   "outputs": [
    {
     "data": {
      "application/vnd.jupyter.widget-view+json": {
       "model_id": "",
       "version_major": 2,
       "version_minor": 0
      },
      "text/plain": [
       "FloatProgress(value=0.0, bar_style='info', description='Progress:', layout=Layout(height='25px', width='50%'),…"
      ]
     },
     "metadata": {},
     "output_type": "display_data"
    }
   ],
   "source": [
    "# Train the preprocess model and transform the input data.\n",
    "preprocess_model = preprocess_pipeline.fit(sampled_input_df)\n",
    "transformed_sampled_input_df = preprocess_model.transform(sampled_input_df)"
   ]
  },
  {
   "cell_type": "markdown",
   "id": "05f780cb",
   "metadata": {},
   "source": [
    "## Partition and write data <a class=\"anchor\" id=\"write-s3\"></a>\n",
    "Partitition input data into train, validation, and test sets and write out files to CSVs in S3 for training models."
   ]
  },
  {
   "cell_type": "code",
   "execution_count": 68,
   "id": "3821bc0e",
   "metadata": {},
   "outputs": [
    {
     "data": {
      "application/vnd.jupyter.widget-view+json": {
       "model_id": "",
       "version_major": 2,
       "version_minor": 0
      },
      "text/plain": [
       "FloatProgress(value=0.0, bar_style='info', description='Progress:', layout=Layout(height='25px', width='50%'),…"
      ]
     },
     "metadata": {},
     "output_type": "display_data"
    }
   ],
   "source": [
    "# Spliting in train and test set. Note that this operation \n",
    "# sorts the data set.\n",
    "(train_df, validation_df, test_df) = transformed_sampled_input_df.randomSplit([0.75, 0.15, 0.10])"
   ]
  },
  {
   "cell_type": "code",
   "execution_count": 70,
   "id": "bf7da5bf",
   "metadata": {},
   "outputs": [
    {
     "data": {
      "application/vnd.jupyter.widget-view+json": {
       "model_id": "",
       "version_major": 2,
       "version_minor": 0
      },
      "text/plain": [
       "FloatProgress(value=0.0, bar_style='info', description='Progress:', layout=Layout(height='25px', width='50%'),…"
      ]
     },
     "metadata": {},
     "output_type": "display_data"
    },
    {
     "data": {
      "text/html": [
       "<table><tr><th>arr_delay</th><th>cancelled</th><th>diverted</th><th>day_of_week</th><th>month</th><th>op_carrier</th><th>origin_latitude</th><th>origin_longitude</th><th>dest_latitude</th><th>dest_longitude</th><th>origin_tmax</th><th>origin_tmin</th><th>origin_prcp</th><th>origin_snow</th><th>origin_snwd</th><th>dest_tmax</th><th>dest_tmin</th><th>dest_prcp</th><th>dest_snow</th><th>dest_snwd</th><th>delay_status</th><th>target</th><th>day_of_week_idx</th><th>day_of_week_ohe</th><th>month_idx</th><th>month_ohe</th><th>carrier_idx</th><th>carrier_ohe</th><th>origin_geo_features</th><th>origin_geo_cluster</th><th>origin_geo_idx</th><th>origin_geo_ohe</th><th>dest_geo_features</th><th>dest_geo_cluster</th><th>dest_geo_idx</th><th>dest_geo_ohe</th><th>weather_features</th><th>weather_features_scaled</th><th>features</th></tr><tr><td>-94.0</td><td>0.0</td><td>0.0</td><td>7</td><td>2</td><td>WN</td><td>42.36429977</td><td>-71.00520325</td><td>38.748697</td><td>-90.370003</td><td>39.0</td><td>-27.0</td><td>0.0</td><td>0.0</td><td>0.0</td><td>194.0</td><td>44.0</td><td>0.0</td><td>0.0</td><td>0.0</td><td>OnTime</td><td>0.0</td><td>4.0</td><td>(6,[4],[1.0])</td><td>8.0</td><td>(11,[8],[1.0])</td><td>0.0</td><td>(22,[0],[1.0])</td><td>[42.36429977,-71....</td><td>5</td><td>1.0</td><td>(15,[1],[1.0])</td><td>[38.748697,-90.37...</td><td>11</td><td>9.0</td><td>(15,[9],[1.0])</td><td>(10,[0,1,5,6],[39...</td><td>(10,[0,1,5,6],[0....</td><td>(79,[4,14,17,40,6...</td></tr><tr><td>-89.0</td><td>0.0</td><td>0.0</td><td>6</td><td>11</td><td>AA</td><td>40.63980103</td><td>-73.77890015</td><td>33.94250107</td><td>-118.4079971</td><td>111.0</td><td>28.0</td><td>0.0</td><td>0.0</td><td>0.0</td><td>272.0</td><td>167.0</td><td>0.0</td><td>0.0</td><td>0.0</td><td>OnTime</td><td>0.0</td><td>6.0</td><td>(6,[],[])</td><td>11.0</td><td>(11,[],[])</td><td>2.0</td><td>(22,[2],[1.0])</td><td>[40.63980103,-73....</td><td>5</td><td>1.0</td><td>(15,[1],[1.0])</td><td>[33.94250107,-118...</td><td>15</td><td>3.0</td><td>(15,[3],[1.0])</td><td>(10,[0,1,5,6],[11...</td><td>(10,[0,1,5,6],[1....</td><td>(79,[19,40,57,69,...</td></tr><tr><td>-88.0</td><td>0.0</td><td>0.0</td><td>6</td><td>11</td><td>DL</td><td>40.63980103</td><td>-73.77890015</td><td>37.61899948120117</td><td>-122.375</td><td>111.0</td><td>28.0</td><td>0.0</td><td>0.0</td><td>0.0</td><td>211.0</td><td>139.0</td><td>0.0</td><td>0.0</td><td>0.0</td><td>OnTime</td><td>0.0</td><td>6.0</td><td>(6,[],[])</td><td>11.0</td><td>(11,[],[])</td><td>1.0</td><td>(22,[1],[1.0])</td><td>[40.63980103,-73....</td><td>5</td><td>1.0</td><td>(15,[1],[1.0])</td><td>[37.6189994812011...</td><td>1</td><td>4.0</td><td>(15,[4],[1.0])</td><td>(10,[0,1,5,6],[11...</td><td>(10,[0,1,5,6],[1....</td><td>(79,[18,40,58,69,...</td></tr><tr><td>-81.0</td><td>0.0</td><td>0.0</td><td>7</td><td>3</td><td>VX</td><td>39.87189865112305</td><td>-75.24109649658203</td><td>37.61899948120117</td><td>-122.375</td><td>78.0</td><td>-21.0</td><td>0.0</td><td>0.0</td><td>30.0</td><td>194.0</td><td>78.0</td><td>0.0</td><td>0.0</td><td>0.0</td><td>OnTime</td><td>0.0</td><td>4.0</td><td>(6,[4],[1.0])</td><td>3.0</td><td>(11,[3],[1.0])</td><td>19.0</td><td>(22,[19],[1.0])</td><td>[39.8718986511230...</td><td>5</td><td>1.0</td><td>(15,[1],[1.0])</td><td>[37.6189994812011...</td><td>1</td><td>4.0</td><td>(15,[4],[1.0])</td><td>(10,[0,1,4,5,6],[...</td><td>(10,[0,1,4,5,6],[...</td><td>(79,[4,9,36,40,58...</td></tr><tr><td>-77.0</td><td>0.0</td><td>0.0</td><td>6</td><td>11</td><td>AA</td><td>40.63980103</td><td>-73.77890015</td><td>33.43429946899414</td><td>-112.01200103759766</td><td>111.0</td><td>28.0</td><td>0.0</td><td>0.0</td><td>0.0</td><td>289.0</td><td>167.0</td><td>0.0</td><td>0.0</td><td>0.0</td><td>OnTime</td><td>0.0</td><td>6.0</td><td>(6,[],[])</td><td>11.0</td><td>(11,[],[])</td><td>2.0</td><td>(22,[2],[1.0])</td><td>[40.63980103,-73....</td><td>5</td><td>1.0</td><td>(15,[1],[1.0])</td><td>[33.4342994689941...</td><td>9</td><td>11.0</td><td>(15,[11],[1.0])</td><td>(10,[0,1,5,6],[11...</td><td>(10,[0,1,5,6],[1....</td><td>(79,[19,40,65,69,...</td></tr></table><br /><pre>only showing top 5 rows</pre>"
      ],
      "text/plain": [
       "<IPython.core.display.HTML object>"
      ]
     },
     "metadata": {},
     "output_type": "display_data"
    }
   ],
   "source": [
    "%%pretty\n",
    "train_df.show(5)"
   ]
  },
  {
   "cell_type": "markdown",
   "id": "2f60c018",
   "metadata": {},
   "source": [
    "The writing operation takes a while. \n",
    "It's recommended to increase the number of core nodes in the cluster at this point, if possible.\n",
    "Alternatively, this code can be run in a Glue Job that transforms the data,\n",
    "writes the partitions to S3, \n",
    "then serializes and saves the processing models."
   ]
  },
  {
   "cell_type": "code",
   "execution_count": 72,
   "id": "deb74aaa",
   "metadata": {},
   "outputs": [
    {
     "data": {
      "application/vnd.jupyter.widget-view+json": {
       "model_id": "",
       "version_major": 2,
       "version_minor": 0
      },
      "text/plain": [
       "FloatProgress(value=0.0, bar_style='info', description='Progress:', layout=Layout(height='25px', width='50%'),…"
      ]
     },
     "metadata": {},
     "output_type": "display_data"
    }
   ],
   "source": [
    "# Save transformed training data to CSV in S3 by converting to RDD.\n",
    "train_lines = train_df.rdd.map(\n",
    "    lambda row: str(row.target) + \",\" + \",\".join(map(str, row.features.toArray()))\n",
    ")\n",
    "train_lines.saveAsTextFile(f\"s3a://{data_bucket}/preprocessing_output/train/\")"
   ]
  },
  {
   "cell_type": "code",
   "execution_count": 73,
   "id": "cc09acde",
   "metadata": {},
   "outputs": [
    {
     "data": {
      "application/vnd.jupyter.widget-view+json": {
       "model_id": "",
       "version_major": 2,
       "version_minor": 0
      },
      "text/plain": [
       "FloatProgress(value=0.0, bar_style='info', description='Progress:', layout=Layout(height='25px', width='50%'),…"
      ]
     },
     "metadata": {},
     "output_type": "display_data"
    }
   ],
   "source": [
    "# Save transformed training data to CSV in S3 by converting to RDD.\n",
    "validation_lines = validation_df.rdd.map(\n",
    "    lambda row: str(row.target) + \",\" + \",\".join(map(str, row.features.toArray()))\n",
    ")\n",
    "validation_lines.saveAsTextFile(f\"s3a://{data_bucket}/preprocessing_output/validation/\")"
   ]
  },
  {
   "cell_type": "code",
   "execution_count": 74,
   "id": "78899742",
   "metadata": {},
   "outputs": [
    {
     "data": {
      "application/vnd.jupyter.widget-view+json": {
       "model_id": "",
       "version_major": 2,
       "version_minor": 0
      },
      "text/plain": [
       "FloatProgress(value=0.0, bar_style='info', description='Progress:', layout=Layout(height='25px', width='50%'),…"
      ]
     },
     "metadata": {},
     "output_type": "display_data"
    }
   ],
   "source": [
    "# Repeat the same saving method for the test data.\n",
    "test_lines = test_df.rdd.map(\n",
    "    lambda row: str(row.target) + \",\" + \",\".join(map(str, row.features.toArray()))\n",
    ")\n",
    "test_lines.saveAsTextFile(f\"s3a://{data_bucket}/preprocessing_output/test/\")"
   ]
  },
  {
   "cell_type": "markdown",
   "id": "8ce2afe3",
   "metadata": {},
   "source": [
    "## Serialize and store pipelines <a class=\"anchor\" id=\"store-pipeline\"></a>\n",
    "Spark pipelines and estimators must be serialized with MLeap to use with a Sagemaker model.\n",
    "Sagemaker will then read the model from S3 to use with a built SparkML image."
   ]
  },
  {
   "cell_type": "code",
   "execution_count": 75,
   "id": "afd2c90e",
   "metadata": {},
   "outputs": [
    {
     "data": {
      "application/vnd.jupyter.widget-view+json": {
       "model_id": "",
       "version_major": 2,
       "version_minor": 0
      },
      "text/plain": [
       "FloatProgress(value=0.0, bar_style='info', description='Progress:', layout=Layout(height='25px', width='50%'),…"
      ]
     },
     "metadata": {},
     "output_type": "display_data"
    }
   ],
   "source": [
    "# Serialize preproccesing pipeline.\n",
    "serializer = support.SimpleSparkSerializer()\n",
    "serializer.serializeToBundle(\n",
    "    preprocess_model, \n",
    "    \"jar:file:/tmp/preprocess.zip\", \n",
    "    transformed_sampled_input_df\n",
    ")"
   ]
  },
  {
   "cell_type": "code",
   "execution_count": 76,
   "id": "0a7e58bf",
   "metadata": {},
   "outputs": [
    {
     "data": {
      "application/vnd.jupyter.widget-view+json": {
       "model_id": "",
       "version_major": 2,
       "version_minor": 0
      },
      "text/plain": [
       "FloatProgress(value=0.0, bar_style='info', description='Progress:', layout=Layout(height='25px', width='50%'),…"
      ]
     },
     "metadata": {},
     "output_type": "display_data"
    }
   ],
   "source": [
    "# Convert model zipfile to tarfile.\n",
    "with zipfile.ZipFile(\"/tmp/preprocess.zip\") as zf:\n",
    "    zf.extractall(\"/tmp/preprocess\")\n",
    "\n",
    "with tarfile.open(\"/tmp/preprocess.tar.gz\", \"w:gz\") as tar:\n",
    "    tar.add(\"/tmp/preprocess/bundle.json\", arcname=\"bundle.json\")\n",
    "    tar.add(\"/tmp/preprocess/root\", arcname=\"root\")\n",
    "\n",
    "# Write model to S3.\n",
    "s3 = boto3.resource(\"s3\")\n",
    "filename = \"spark-preprocessor/model.tar.gz\"\n",
    "s3.Bucket(model_bucket).upload_file(\"/tmp/preprocess.tar.gz\", filename)\n",
    "\n",
    "# Clean up local environment.\n",
    "os.remove(\"/tmp/preprocess.zip\")\n",
    "os.remove(\"/tmp/preprocess.tar.gz\")\n",
    "shutil.rmtree(\"/tmp/preprocess\")"
   ]
  },
  {
   "cell_type": "code",
   "execution_count": null,
   "id": "516b9bef",
   "metadata": {},
   "outputs": [],
   "source": []
  }
 ],
 "metadata": {
  "kernelspec": {
   "display_name": "Sparkmagic (PySpark)",
   "language": "python",
   "name": "pysparkkernel"
  },
  "language_info": {
   "codemirror_mode": {
    "name": "python",
    "version": 3
   },
   "file_extension": ".py",
   "mimetype": "text/x-python",
   "name": "pyspark",
   "pygments_lexer": "python3"
  }
 },
 "nbformat": 4,
 "nbformat_minor": 5
}
