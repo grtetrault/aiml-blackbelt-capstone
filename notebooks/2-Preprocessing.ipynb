{
 "cells": [
  {
   "cell_type": "markdown",
   "id": "bcfd49b7",
   "metadata": {},
   "source": [
    "# 2 - Preprocessing <a class=\"anchor\" id=\"top\"></a>\n",
    "* [Introduction](#intro)\n",
    "* [Setup](#setup)\n",
    "* [Loading the data](#load-data)\n",
    "* [Feature engineering](#ft-eng)\n",
    "    * [Target variable](#target)\n",
    "    * [Categorical variables](#cat)\n",
    "    * [Continuous variables](#continuous)\n",
    "* [Train-test split](#train-test)\n",
    "* [Define and fit pipeline](#pipeline)\n",
    "* [Transform and write data](#write-s3)\n",
    "* [Serialize and store pipelines](#store-pipeline)"
   ]
  },
  {
   "cell_type": "markdown",
   "id": "23b9fbb3",
   "metadata": {},
   "source": [
    "## Introduction <a class=\"anchor\" id=\"intro\"></a>\n",
    "In this section, we preform all neccesary data operations to prepare our data for use in models.\n",
    "This includes filtering, feature subsetting, feature engineering, cleaning, and finally exporting to S3."
   ]
  },
  {
   "cell_type": "markdown",
   "id": "2336e795",
   "metadata": {},
   "source": [
    "## Setup <a class=\"anchor\" id=\"setup\"></a>\n",
    "First, we must import relevant Spark modules as well as libraries for statistical analysis and visualizations.\n",
    "Note that will also start the Spark application that creates the `SparkSession` and sets it to the `spark` variable."
   ]
  },
  {
   "cell_type": "code",
   "execution_count": 2,
   "id": "8f1113c5",
   "metadata": {},
   "outputs": [],
   "source": [
    "%%cleanup -f"
   ]
  },
  {
   "cell_type": "code",
   "execution_count": 27,
   "id": "85fa3ced",
   "metadata": {},
   "outputs": [
    {
     "data": {
      "application/vnd.jupyter.widget-view+json": {
       "model_id": "",
       "version_major": 2,
       "version_minor": 0
      },
      "text/plain": [
       "FloatProgress(value=0.0, bar_style='info', description='Progress:', layout=Layout(height='25px', width='50%'),…"
      ]
     },
     "metadata": {},
     "output_type": "display_data"
    }
   ],
   "source": [
    "import pyspark\n",
    "import pyspark.ml as ml\n",
    "import pyspark.sql as sql\n",
    "import pyspark.sql.types as types\n",
    "import pyspark.sql.functions as F\n",
    "import mleap.pyspark.spark_support as support\n",
    "\n",
    "import os\n",
    "import boto3\n",
    "import shutil\n",
    "import zipfile\n",
    "import tarfile\n",
    "import seaborn as sns\n",
    "import matplotlib.pyplot as plt\n",
    "sns.set_style(\"darkgrid\")"
   ]
  },
  {
   "cell_type": "code",
   "execution_count": 2,
   "id": "c745b06e",
   "metadata": {},
   "outputs": [
    {
     "data": {
      "application/vnd.jupyter.widget-view+json": {
       "model_id": "",
       "version_major": 2,
       "version_minor": 0
      },
      "text/plain": [
       "FloatProgress(value=0.0, bar_style='info', description='Progress:', layout=Layout(height='25px', width='50%'),…"
      ]
     },
     "metadata": {},
     "output_type": "display_data"
    }
   ],
   "source": [
    "s3 = boto3.resource(\"s3\")"
   ]
  },
  {
   "cell_type": "markdown",
   "id": "10464da4",
   "metadata": {},
   "source": [
    "## Loading the data <a class=\"anchor\" id=\"load-data\"></a>\n",
    "\n",
    "Now, we load the airline data from S3.\n",
    "To do this, we must first get the bucket name where the data is stored.\n",
    "This variable is stored on the local Sagemaker notebook instance during the `DevEnvironment` stack creation \n",
    "and must be explicitly passed to the Spark cluster.\n",
    "\n",
    "Additionally, the data is also subsetted and filter before preforming any feature engineering.\n",
    "This is to reduce the number of features we are working with \n",
    "and ensure that the features we have are meaningful."
   ]
  },
  {
   "cell_type": "code",
   "execution_count": 3,
   "id": "09c75325",
   "metadata": {},
   "outputs": [],
   "source": [
    "%%local\n",
    "import json\n",
    "with open(\"/home/ec2-user/.aiml-bb/stack-data.json\", \"r\") as f:\n",
    "    data = json.load(f)\n",
    "    data_bucket = data[\"data_bucket\"]\n",
    "    model_bucket = data[\"model_bucket\"]"
   ]
  },
  {
   "cell_type": "code",
   "execution_count": 4,
   "id": "9cc64217",
   "metadata": {},
   "outputs": [
    {
     "data": {
      "application/vnd.jupyter.widget-view+json": {
       "model_id": "",
       "version_major": 2,
       "version_minor": 0
      },
      "text/plain": [
       "FloatProgress(value=0.0, bar_style='info', description='Progress:', layout=Layout(height='25px', width='50%'),…"
      ]
     },
     "metadata": {},
     "output_type": "display_data"
    },
    {
     "name": "stdout",
     "output_type": "stream",
     "text": [
      "Successfully passed 'data_bucket' as 'data_bucket' to Spark kernel"
     ]
    }
   ],
   "source": [
    "%%send_to_spark -i data_bucket -t str"
   ]
  },
  {
   "cell_type": "code",
   "execution_count": 5,
   "id": "b4143434",
   "metadata": {},
   "outputs": [
    {
     "data": {
      "application/vnd.jupyter.widget-view+json": {
       "model_id": "",
       "version_major": 2,
       "version_minor": 0
      },
      "text/plain": [
       "FloatProgress(value=0.0, bar_style='info', description='Progress:', layout=Layout(height='25px', width='50%'),…"
      ]
     },
     "metadata": {},
     "output_type": "display_data"
    },
    {
     "name": "stdout",
     "output_type": "stream",
     "text": [
      "Successfully passed 'model_bucket' as 'model_bucket' to Spark kernel"
     ]
    }
   ],
   "source": [
    "%%send_to_spark -i model_bucket -t str"
   ]
  },
  {
   "cell_type": "code",
   "execution_count": 35,
   "id": "e8db3297",
   "metadata": {},
   "outputs": [
    {
     "data": {
      "application/vnd.jupyter.widget-view+json": {
       "model_id": "",
       "version_major": 2,
       "version_minor": 0
      },
      "text/plain": [
       "FloatProgress(value=0.0, bar_style='info', description='Progress:', layout=Layout(height='25px', width='50%'),…"
      ]
     },
     "metadata": {},
     "output_type": "display_data"
    }
   ],
   "source": [
    "# Subset ETL output to only relevant columns for model input.\n",
    "join_df = spark.read.parquet(f\"s3://{data_bucket}/etl_output/joined_airline_weather_data/\")\n",
    "\n",
    "# Work on a subset of the data that reflects the input schema \n",
    "# we'd like our endpoint to recieve.\n",
    "input_df = (\n",
    "    join_df\n",
    "    # Drop all other NaN values.\n",
    "    .dropna(\n",
    "        subset=[\"origin\", \"dest\", \"origin_station_id\", \"dest_station_id\"]\n",
    "    )\n",
    "    # Fill NaN values where neccesary.\n",
    "    .na.fill(\n",
    "        0.0,\n",
    "        subset=[\n",
    "            \"arr_delay\",\n",
    "            \"origin_prcp\", \"origin_snow\", \"origin_snwd\",\n",
    "            \"dest_prcp\", \"dest_snow\", \"dest_snwd\"\n",
    "        ]\n",
    "    )\n",
    "    # Make feature selection.\n",
    "    .select(\n",
    "        \"arr_delay\", \"cancelled\", \"diverted\",\n",
    "        \"day_of_week\", \"month\",\n",
    "        \"op_carrier\",\n",
    "        \"origin_latitude\", \"origin_longitude\",\n",
    "        \"dest_latitude\", \"dest_longitude\",\n",
    "        \"origin_tmax\", \"origin_tmin\", \n",
    "        \"origin_prcp\", \"origin_snow\", \"origin_snwd\",\n",
    "        \"dest_tmax\", \"dest_tmin\", \n",
    "        \"dest_prcp\", \"dest_snow\", \"dest_snwd\"\n",
    "    )\n",
    ")"
   ]
  },
  {
   "cell_type": "code",
   "execution_count": 36,
   "id": "8e4b3296",
   "metadata": {},
   "outputs": [
    {
     "data": {
      "application/vnd.jupyter.widget-view+json": {
       "model_id": "",
       "version_major": 2,
       "version_minor": 0
      },
      "text/plain": [
       "FloatProgress(value=0.0, bar_style='info', description='Progress:', layout=Layout(height='25px', width='50%'),…"
      ]
     },
     "metadata": {},
     "output_type": "display_data"
    },
    {
     "data": {
      "text/html": [
       "<table><tr><th>arr_delay</th><th>cancelled</th><th>diverted</th><th>day_of_week</th><th>month</th><th>op_carrier</th><th>origin_latitude</th><th>origin_longitude</th><th>dest_latitude</th><th>dest_longitude</th><th>origin_tmax</th><th>origin_tmin</th><th>origin_prcp</th><th>origin_snow</th><th>origin_snwd</th><th>dest_tmax</th><th>dest_tmin</th><th>dest_prcp</th><th>dest_snow</th><th>dest_snwd</th></tr><tr><td>-9.0</td><td>0.0</td><td>0.0</td><td>2</td><td>5</td><td>EV</td><td>33.6367</td><td>-84.428101</td><td>40.652099609375</td><td>-75.44080352783203</td><td>178.0</td><td>94.0</td><td>0.0</td><td>0.0</td><td>0.0</td><td>172.0</td><td>133.0</td><td>81.0</td><td>0.0</td><td>0.0</td></tr><tr><td>213.0</td><td>0.0</td><td>0.0</td><td>3</td><td>7</td><td>EV</td><td>33.6367</td><td>-84.428101</td><td>40.652099609375</td><td>-75.44080352783203</td><td>244.0</td><td>194.0</td><td>462.0</td><td>0.0</td><td>0.0</td><td>289.0</td><td>228.0</td><td>13.0</td><td>0.0</td><td>0.0</td></tr><tr><td>73.0</td><td>0.0</td><td>0.0</td><td>3</td><td>7</td><td>EV</td><td>33.6367</td><td>-84.428101</td><td>40.652099609375</td><td>-75.44080352783203</td><td>244.0</td><td>194.0</td><td>462.0</td><td>0.0</td><td>0.0</td><td>289.0</td><td>228.0</td><td>13.0</td><td>0.0</td><td>0.0</td></tr><tr><td>48.0</td><td>0.0</td><td>0.0</td><td>3</td><td>7</td><td>EV</td><td>33.6367</td><td>-84.428101</td><td>40.652099609375</td><td>-75.44080352783203</td><td>244.0</td><td>194.0</td><td>462.0</td><td>0.0</td><td>0.0</td><td>289.0</td><td>228.0</td><td>13.0</td><td>0.0</td><td>0.0</td></tr><tr><td>106.0</td><td>0.0</td><td>0.0</td><td>1</td><td>12</td><td>9E</td><td>33.6367</td><td>-84.428101</td><td>40.652099609375</td><td>-75.44080352783203</td><td>106.0</td><td>50.0</td><td>254.0</td><td>0.0</td><td>0.0</td><td>11.0</td><td>-21.0</td><td>58.0</td><td>0.0</td><td>30.0</td></tr></table><br /><pre>only showing top 5 rows</pre>"
      ],
      "text/plain": [
       "<IPython.core.display.HTML object>"
      ]
     },
     "metadata": {},
     "output_type": "display_data"
    }
   ],
   "source": [
    "%%pretty\n",
    "input_df.show(5)"
   ]
  },
  {
   "cell_type": "markdown",
   "id": "4a314a4c",
   "metadata": {},
   "source": [
    "## Feature engineering <a class=\"anchor\" id=\"ft-eng\"></a>\n",
    "We now define the feature engineering steps that will make up our preprocessing `Pipeline`.\n",
    "Note that all steps must be either a Spark `Transformer` or `Estimator` to be able to be serialized by MLeap."
   ]
  },
  {
   "cell_type": "markdown",
   "id": "1157c92d",
   "metadata": {},
   "source": [
    "### Target variable <a class=\"anchor\" id=\"target\"></a>\n",
    "We will reduce the regression problem of determining arrival delay into the binary classfication problem or detmering if a delay (or cancellation) will occur.\n",
    "Because this step will not be a part of our inference pipeline, we do not need to wrap it in a Spark `Transformer`."
   ]
  },
  {
   "cell_type": "code",
   "execution_count": 37,
   "id": "409f5d17",
   "metadata": {},
   "outputs": [
    {
     "data": {
      "application/vnd.jupyter.widget-view+json": {
       "model_id": "",
       "version_major": 2,
       "version_minor": 0
      },
      "text/plain": [
       "FloatProgress(value=0.0, bar_style='info', description='Progress:', layout=Layout(height='25px', width='50%'),…"
      ]
     },
     "metadata": {},
     "output_type": "display_data"
    }
   ],
   "source": [
    "# Define the new categorical column we want to predict.\n",
    "# Strings are used here so we can postprocess the binary \n",
    "# classification to readable results. \n",
    "input_df = (\n",
    "    input_df\n",
    "    .withColumn(\n",
    "        \"delay_status\", \n",
    "        F.when(\n",
    "            (F.col(\"arr_delay\") > 15) \n",
    "                | (F.col(\"cancelled\") == 1) \n",
    "                | (F.col(\"diverted\") == 1), \n",
    "            \"Delayed\"\n",
    "        )\n",
    "        .otherwise(\"OnTime\")\n",
    "    )\n",
    ")"
   ]
  },
  {
   "cell_type": "code",
   "execution_count": 38,
   "id": "517d7d74",
   "metadata": {},
   "outputs": [
    {
     "data": {
      "application/vnd.jupyter.widget-view+json": {
       "model_id": "",
       "version_major": 2,
       "version_minor": 0
      },
      "text/plain": [
       "FloatProgress(value=0.0, bar_style='info', description='Progress:', layout=Layout(height='25px', width='50%'),…"
      ]
     },
     "metadata": {},
     "output_type": "display_data"
    }
   ],
   "source": [
    "# Now encode target and apply to input data.\n",
    "target_indexer = ml.feature.StringIndexer(inputCol=\"delay_status\", outputCol=\"target\")\n",
    "target_indexer_model = target_indexer.fit(input_df)\n",
    "input_df = target_indexer_model.transform(input_df)"
   ]
  },
  {
   "cell_type": "code",
   "execution_count": 39,
   "id": "1ce0af2a",
   "metadata": {},
   "outputs": [
    {
     "data": {
      "application/vnd.jupyter.widget-view+json": {
       "model_id": "",
       "version_major": 2,
       "version_minor": 0
      },
      "text/plain": [
       "FloatProgress(value=0.0, bar_style='info', description='Progress:', layout=Layout(height='25px', width='50%'),…"
      ]
     },
     "metadata": {},
     "output_type": "display_data"
    }
   ],
   "source": [
    "# Define a decoder to be used in postprocessing.\n",
    "target_idx_decoder = ml.feature.IndexToString(inputCol=\"target\", outputCol=\"delay_status\")"
   ]
  },
  {
   "cell_type": "code",
   "execution_count": 40,
   "id": "33907b79",
   "metadata": {},
   "outputs": [
    {
     "data": {
      "application/vnd.jupyter.widget-view+json": {
       "model_id": "",
       "version_major": 2,
       "version_minor": 0
      },
      "text/plain": [
       "FloatProgress(value=0.0, bar_style='info', description='Progress:', layout=Layout(height='25px', width='50%'),…"
      ]
     },
     "metadata": {},
     "output_type": "display_data"
    },
    {
     "data": {
      "text/html": [
       "<table><tr><th>arr_delay</th><th>cancelled</th><th>diverted</th><th>delay_status</th><th>target</th></tr><tr><td>39.0</td><td>0.0</td><td>0.0</td><td>Delayed</td><td>1.0</td></tr><tr><td>-8.0</td><td>0.0</td><td>0.0</td><td>OnTime</td><td>0.0</td></tr><tr><td>-8.0</td><td>0.0</td><td>0.0</td><td>OnTime</td><td>0.0</td></tr><tr><td>-4.0</td><td>0.0</td><td>0.0</td><td>OnTime</td><td>0.0</td></tr><tr><td>-21.0</td><td>0.0</td><td>0.0</td><td>OnTime</td><td>0.0</td></tr></table><br /><pre>only showing top 5 rows</pre>"
      ],
      "text/plain": [
       "<IPython.core.display.HTML object>"
      ]
     },
     "metadata": {},
     "output_type": "display_data"
    }
   ],
   "source": [
    "%%pretty\n",
    "input_df.select(\"arr_delay\", \"cancelled\", \"diverted\", \"delay_status\", \"target\").show(5)"
   ]
  },
  {
   "cell_type": "markdown",
   "id": "815212b3",
   "metadata": {},
   "source": [
    "### Categorical variables <a class=\"anchor\" id=\"cat\"></a>\n",
    "Here, we will encode the relevant categorical variables to numeric types. \n",
    "For this data set, this means we must encode the date information, carrier, and the origin and destination airport information."
   ]
  },
  {
   "cell_type": "code",
   "execution_count": 60,
   "id": "bcb6ade4",
   "metadata": {},
   "outputs": [
    {
     "data": {
      "application/vnd.jupyter.widget-view+json": {
       "model_id": "",
       "version_major": 2,
       "version_minor": 0
      },
      "text/plain": [
       "FloatProgress(value=0.0, bar_style='info', description='Progress:', layout=Layout(height='25px', width='50%'),…"
      ]
     },
     "metadata": {},
     "output_type": "display_data"
    }
   ],
   "source": [
    "# Need to index before one hot encoding so MLeap can infer \n",
    "# number of columns created.\n",
    "day_of_week_indexer = ml.feature.StringIndexer(\n",
    "    inputCol=\"day_of_week\", \n",
    "    outputCol=\"day_of_week_idx\"\n",
    ")\n",
    "day_of_week_encoder = ml.feature.OneHotEncoderEstimator(\n",
    "    inputCols=[\"day_of_week_idx\"], \n",
    "    outputCols=[\"day_of_week_ohe\"]\n",
    ")\n",
    "\n",
    "month_indexer = ml.feature.StringIndexer(\n",
    "    inputCol=\"month\", \n",
    "    outputCol=\"month_idx\"\n",
    ")\n",
    "month_encoder = ml.feature.OneHotEncoderEstimator(\n",
    "    inputCols=[\"month_idx\"], \n",
    "    outputCols=[\"month_ohe\"]\n",
    ")"
   ]
  },
  {
   "cell_type": "code",
   "execution_count": 42,
   "id": "d8f7e374",
   "metadata": {},
   "outputs": [
    {
     "data": {
      "application/vnd.jupyter.widget-view+json": {
       "model_id": "",
       "version_major": 2,
       "version_minor": 0
      },
      "text/plain": [
       "FloatProgress(value=0.0, bar_style='info', description='Progress:', layout=Layout(height='25px', width='50%'),…"
      ]
     },
     "metadata": {},
     "output_type": "display_data"
    }
   ],
   "source": [
    "carrier_indexer = ml.feature.StringIndexer(\n",
    "    inputCol=\"op_carrier\", \n",
    "    outputCol=\"carrier_idx\"\n",
    ")\n",
    "carrier_encoder = ml.feature.OneHotEncoderEstimator(\n",
    "    inputCols=[\"carrier_idx\"], \n",
    "    outputCols=[\"carrier_ohe\"]\n",
    ")"
   ]
  },
  {
   "cell_type": "markdown",
   "id": "bacfad93",
   "metadata": {},
   "source": [
    "Because there are ~300 airports, and we need to account for both origin and destination,\n",
    "one hot encoding would create too many features.\n",
    "Airports do appear in geographic clusters though, for example around urban locations.\n",
    "So, to encode airports, we'll cluster the latitudes and longitudes using K-Means.\n",
    "\n",
    "Since we wil be doing no preprocessing, there will be duplicates of airport geolocations.\n",
    "This means that there will be an implicit weighting on high traffic areas. \n",
    "For this problem, this is desirable.\n",
    "\n",
    "Note that we will only preform this search on the origin airports because of the similarities in the distribution of origin and destination airports."
   ]
  },
  {
   "cell_type": "code",
   "execution_count": 43,
   "id": "61a8c999",
   "metadata": {},
   "outputs": [
    {
     "data": {
      "application/vnd.jupyter.widget-view+json": {
       "model_id": "",
       "version_major": 2,
       "version_minor": 0
      },
      "text/plain": [
       "FloatProgress(value=0.0, bar_style='info', description='Progress:', layout=Layout(height='25px', width='50%'),…"
      ]
     },
     "metadata": {},
     "output_type": "display_data"
    }
   ],
   "source": [
    "# Vectorize geolocation for use in clustering.\n",
    "origin_geo_assembler = ml.feature.VectorAssembler(\n",
    "    inputCols=[\"origin_latitude\", \"origin_longitude\"], \n",
    "    outputCol=\"origin_geo_features\",\n",
    "    handleInvalid=\"keep\"\n",
    ")\n",
    "kmeans_eval_df = origin_geo_assembler.transform(input_df)"
   ]
  },
  {
   "cell_type": "code",
   "execution_count": null,
   "id": "b8a0392c",
   "metadata": {},
   "outputs": [],
   "source": [
    "# Search for an optimal K.\n",
    "silhouette_scores = []\n",
    "evaluator = ml.evaluation.ClusteringEvaluator(\n",
    "    metricName=\"silhouette\", \n",
    "    distanceMeasure=\"squaredEuclidean\",\n",
    "    featuresCol=\"origin_geo_features\",\n",
    "    predictionCol=\"origin_geo_cluster\"\n",
    ")\n",
    "\n",
    "for k in range(2, 30):\n",
    "    candidate_kmeans = ml.clustering.KMeans(\n",
    "        k=k,\n",
    "        featuresCol=\"origin_geo_features\",\n",
    "        predictionCol=\"origin_geo_cluster\"\n",
    "    )\n",
    "    candidate_kmeans_model = candidate_kmeans.fit(kmeans_eval_df)\n",
    "    transformed_kmeans_eval_df = candidate_kmeans_model.transform(kmeans_eval_df)\n",
    "\n",
    "    evaluation_score = evaluator.evaluate(transformed_kmeans_eval_df)\n",
    "    silhouette_scores.append(evaluation_score)"
   ]
  },
  {
   "cell_type": "code",
   "execution_count": 69,
   "id": "b273a0fd",
   "metadata": {},
   "outputs": [
    {
     "data": {
      "application/vnd.jupyter.widget-view+json": {
       "model_id": "",
       "version_major": 2,
       "version_minor": 0
      },
      "text/plain": [
       "FloatProgress(value=0.0, bar_style='info', description='Progress:', layout=Layout(height='25px', width='50%'),…"
      ]
     },
     "metadata": {},
     "output_type": "display_data"
    },
    {
     "data": {
      "image/png": "[encoded data removed]",
      "text/plain": [
       "<IPython.core.display.Image object>"
      ]
     },
     "metadata": {},
     "output_type": "display_data"
    }
   ],
   "source": [
    "# Plot model results.\n",
    "fig, ax = plt.subplots()\n",
    "ax.plot(range(2, 30), silhouette_scores)\n",
    "ax.set_xlabel(\"Number of clusters\")\n",
    "ax.set_ylabel(\"Silhouette score\")\n",
    "ax.set_title(\"Optimal clustering parameters for airport geolocations\")\n",
    "%matplot plt"
   ]
  },
  {
   "cell_type": "markdown",
   "id": "51675856",
   "metadata": {},
   "source": [
    "We can see that 20 is near the elbow of the plot and will be our choice for K.\n",
    "As this process is stochastic, for a more robust choice, consider running this test multiple times for different starting seeds."
   ]
  },
  {
   "cell_type": "code",
   "execution_count": 46,
   "id": "3fb7adae",
   "metadata": {},
   "outputs": [
    {
     "data": {
      "application/vnd.jupyter.widget-view+json": {
       "model_id": "",
       "version_major": 2,
       "version_minor": 0
      },
      "text/plain": [
       "FloatProgress(value=0.0, bar_style='info', description='Progress:', layout=Layout(height='25px', width='50%'),…"
      ]
     },
     "metadata": {},
     "output_type": "display_data"
    }
   ],
   "source": [
    "# Create finalized assemblers and clusterers for the \n",
    "# preprocessing pipeline.\n",
    "origin_geo_assembler = ml.feature.VectorAssembler(\n",
    "    inputCols=[\"origin_latitude\", \"origin_longitude\"], \n",
    "    outputCol=\"origin_geo_features\",\n",
    "    handleInvalid=\"keep\"\n",
    ")\n",
    "origin_geo_kmeans = ml.clustering.KMeans(\n",
    "        k=20,\n",
    "        featuresCol=\"origin_geo_features\",\n",
    "        predictionCol=\"origin_geo_cluster\"\n",
    ")\n",
    "# Need to index before one hot encoding so MLeap can infer \n",
    "# number of columns created.\n",
    "origin_geo_indexer = ml.feature.StringIndexer(\n",
    "    inputCol=\"origin_geo_cluster\", \n",
    "    outputCol=\"origin_geo_idx\"\n",
    ")\n",
    "# Lastly, one hot encode the cluster values.\n",
    "origin_geo_encoder = ml.feature.OneHotEncoderEstimator(\n",
    "    inputCols=[\"origin_geo_idx\"], \n",
    "    outputCols=[\"origin_geo_ohe\"]\n",
    ")"
   ]
  },
  {
   "cell_type": "code",
   "execution_count": 47,
   "id": "f727c99f",
   "metadata": {},
   "outputs": [
    {
     "data": {
      "application/vnd.jupyter.widget-view+json": {
       "model_id": "",
       "version_major": 2,
       "version_minor": 0
      },
      "text/plain": [
       "FloatProgress(value=0.0, bar_style='info', description='Progress:', layout=Layout(height='25px', width='50%'),…"
      ]
     },
     "metadata": {},
     "output_type": "display_data"
    }
   ],
   "source": [
    "# Repeat the above actions for the destination.\n",
    "dest_geo_assembler = ml.feature.VectorAssembler(\n",
    "    inputCols=[\"dest_latitude\", \"dest_longitude\"], \n",
    "    outputCol=\"dest_geo_features\",\n",
    "    handleInvalid=\"keep\"\n",
    ")\n",
    "dest_geo_kmeans = ml.clustering.KMeans(\n",
    "        k=20,\n",
    "        featuresCol=\"dest_geo_features\",\n",
    "        predictionCol=\"dest_geo_cluster\"\n",
    ")\n",
    "dest_geo_indexer = ml.feature.StringIndexer(\n",
    "    inputCol=\"dest_geo_cluster\", \n",
    "    outputCol=\"dest_geo_idx\"\n",
    ")\n",
    "dest_geo_encoder = ml.feature.OneHotEncoderEstimator(\n",
    "    inputCols=[\"dest_geo_idx\"], \n",
    "    outputCols=[\"dest_geo_ohe\"]\n",
    ")"
   ]
  },
  {
   "cell_type": "markdown",
   "id": "def17460",
   "metadata": {},
   "source": [
    "### Continuous variables <a class=\"anchor\" id=\"continuous\"></a>\n",
    "The continuous variables in our dataset include only the weather data. \n",
    "We will be using standardization for all metrics, because weather data is subject to meaningful outliers. "
   ]
  },
  {
   "cell_type": "code",
   "execution_count": 48,
   "id": "0e4c6c8d",
   "metadata": {},
   "outputs": [
    {
     "data": {
      "application/vnd.jupyter.widget-view+json": {
       "model_id": "",
       "version_major": 2,
       "version_minor": 0
      },
      "text/plain": [
       "FloatProgress(value=0.0, bar_style='info', description='Progress:', layout=Layout(height='25px', width='50%'),…"
      ]
     },
     "metadata": {},
     "output_type": "display_data"
    }
   ],
   "source": [
    "# Collect all weather columns so standardization can \n",
    "# be preformed on all weather features at once.\n",
    "weather_cols = [\n",
    "    \"origin_tmax\", \"origin_tmin\", \"origin_prcp\", \"origin_snow\", \"origin_snwd\",\n",
    "    \"dest_tmax\", \"dest_tmin\", \"dest_prcp\", \"dest_snow\", \"dest_snwd\"\n",
    "]\n",
    "weather_col_assembler = ml.feature.VectorAssembler(\n",
    "    inputCols=weather_cols, \n",
    "    outputCol=\"weather_features\",\n",
    "    handleInvalid=\"keep\"\n",
    ")\n",
    "weather_std_scalar = ml.feature.StandardScaler(\n",
    "    inputCol=\"weather_features\", \n",
    "    outputCol=\"weather_features_scaled\"\n",
    ")"
   ]
  },
  {
   "cell_type": "markdown",
   "id": "2bc32ab4",
   "metadata": {},
   "source": [
    "## Define and fit pipeline <a class=\"anchor\" id=\"pipeline\"></a>"
   ]
  },
  {
   "cell_type": "code",
   "execution_count": 49,
   "id": "02de14a8",
   "metadata": {},
   "outputs": [
    {
     "data": {
      "application/vnd.jupyter.widget-view+json": {
       "model_id": "",
       "version_major": 2,
       "version_minor": 0
      },
      "text/plain": [
       "FloatProgress(value=0.0, bar_style='info', description='Progress:', layout=Layout(height='25px', width='50%'),…"
      ]
     },
     "metadata": {},
     "output_type": "display_data"
    }
   ],
   "source": [
    "# Collect all the generated features into a single vector.\n",
    "# THis will be the last stage in the pipeline.\n",
    "feature_assembler = ml.feature.VectorAssembler(\n",
    "    inputCols=[\n",
    "        \"day_of_week_ohe\",\n",
    "        \"month_ohe\",\n",
    "        \"carrier_ohe\",\n",
    "        \"origin_geo_ohe\",\n",
    "        \"dest_geo_ohe\",\n",
    "        \"weather_features_scaled\"\n",
    "    ],\n",
    "    outputCol=\"features\"\n",
    ")"
   ]
  },
  {
   "cell_type": "code",
   "execution_count": 61,
   "id": "1620464a",
   "metadata": {},
   "outputs": [
    {
     "data": {
      "application/vnd.jupyter.widget-view+json": {
       "model_id": "",
       "version_major": 2,
       "version_minor": 0
      },
      "text/plain": [
       "FloatProgress(value=0.0, bar_style='info', description='Progress:', layout=Layout(height='25px', width='50%'),…"
      ]
     },
     "metadata": {},
     "output_type": "display_data"
    }
   ],
   "source": [
    "# Define Pipeline object.\n",
    "preprocess_pipeline = ml.Pipeline(\n",
    "    stages=[\n",
    "        day_of_week_indexer,\n",
    "        day_of_week_encoder,\n",
    "        month_indexer,\n",
    "        month_encoder,\n",
    "        carrier_indexer,\n",
    "        carrier_encoder,\n",
    "        origin_geo_assembler,\n",
    "        origin_geo_kmeans,\n",
    "        origin_geo_indexer,\n",
    "        origin_geo_encoder,\n",
    "        dest_geo_assembler,\n",
    "        dest_geo_kmeans,\n",
    "        dest_geo_indexer,\n",
    "        dest_geo_encoder,\n",
    "        weather_col_assembler,\n",
    "        weather_std_scalar,\n",
    "        feature_assembler,\n",
    "    ]\n",
    ")"
   ]
  },
  {
   "cell_type": "code",
   "execution_count": 62,
   "id": "95282b90",
   "metadata": {},
   "outputs": [
    {
     "data": {
      "application/vnd.jupyter.widget-view+json": {
       "model_id": "",
       "version_major": 2,
       "version_minor": 0
      },
      "text/plain": [
       "FloatProgress(value=0.0, bar_style='info', description='Progress:', layout=Layout(height='25px', width='50%'),…"
      ]
     },
     "metadata": {},
     "output_type": "display_data"
    }
   ],
   "source": [
    "# Train the preprocess model and transform the input data.\n",
    "# Note that the transformed data is cached to avoid recomputation \n",
    "# when writing partitions (see below).\n",
    "preprocess_model = preprocess_pipeline.fit(input_df)\n",
    "transformed_input_df = preprocess_model.transform(input_df)"
   ]
  },
  {
   "cell_type": "markdown",
   "id": "ba339ce7",
   "metadata": {},
   "source": [
    "## Partition and write data <a class=\"anchor\" id=\"write-s3\"></a>\n",
    "Partitition input data into train, validation, and test sets and write out files to CSVs in S3 for training models."
   ]
  },
  {
   "cell_type": "code",
   "execution_count": 57,
   "id": "ca312123",
   "metadata": {},
   "outputs": [
    {
     "data": {
      "application/vnd.jupyter.widget-view+json": {
       "model_id": "",
       "version_major": 2,
       "version_minor": 0
      },
      "text/plain": [
       "FloatProgress(value=0.0, bar_style='info', description='Progress:', layout=Layout(height='25px', width='50%'),…"
      ]
     },
     "metadata": {},
     "output_type": "display_data"
    }
   ],
   "source": [
    "# Spliting in train and test set. Note that this operation \n",
    "# sorts the data set.\n",
    "(train_df, validation_df, test_df) = transformed_input_df.randomSplit([0.75, 0.15, 0.10])"
   ]
  },
  {
   "cell_type": "code",
   "execution_count": 68,
   "id": "d0572c4e",
   "metadata": {},
   "outputs": [
    {
     "data": {
      "application/vnd.jupyter.widget-view+json": {
       "model_id": "",
       "version_major": 2,
       "version_minor": 0
      },
      "text/plain": [
       "FloatProgress(value=0.0, bar_style='info', description='Progress:', layout=Layout(height='25px', width='50%'),…"
      ]
     },
     "metadata": {},
     "output_type": "display_data"
    },
    {
     "data": {
      "text/html": [
       "<table><tr><th>arr_delay</th><th>cancelled</th><th>diverted</th><th>day_of_week</th><th>month</th><th>op_carrier</th><th>origin_latitude</th><th>origin_longitude</th><th>dest_latitude</th><th>dest_longitude</th><th>origin_tmax</th><th>origin_tmin</th><th>origin_prcp</th><th>origin_snow</th><th>origin_snwd</th><th>dest_tmax</th><th>dest_tmin</th><th>dest_prcp</th><th>dest_snow</th><th>dest_snwd</th><th>delay_status</th><th>target</th><th>day_of_week_ohe</th><th>month_ohe</th><th>carrier_idx</th><th>carrier_ohe</th><th>origin_geo_features</th><th>origin_geo_cluster</th><th>origin_geo_idx</th><th>origin_geo_ohe</th><th>dest_geo_features</th><th>dest_geo_cluster</th><th>dest_geo_idx</th><th>dest_geo_ohe</th><th>weather_features</th><th>weather_features_scaled</th><th>features</th></tr><tr><td>-106.0</td><td>0.0</td><td>0.0</td><td>6</td><td>11</td><td>AA</td><td>40.63980103</td><td>-73.77890015</td><td>33.94250107</td><td>-118.4079971</td><td>111.0</td><td>28.0</td><td>0.0</td><td>0.0</td><td>0.0</td><td>272.0</td><td>167.0</td><td>0.0</td><td>0.0</td><td>0.0</td><td>OnTime</td><td>0.0</td><td>(7,[6],[1.0])</td><td>(12,[11],[1.0])</td><td>2.0</td><td>(22,[2],[1.0])</td><td>[40.63980103,-73....</td><td>8</td><td>4.0</td><td>(19,[4],[1.0])</td><td>[33.94250107,-118...</td><td>1</td><td>0.0</td><td>(19,[0],[1.0])</td><td>(10,[0,1,5,6],[11...</td><td>(10,[0,1,5,6],[1....</td><td>(89,[6,18,21,45,6...</td></tr><tr><td>-94.0</td><td>0.0</td><td>0.0</td><td>7</td><td>2</td><td>WN</td><td>42.36429977</td><td>-71.00520325</td><td>38.748697</td><td>-90.370003</td><td>39.0</td><td>-27.0</td><td>0.0</td><td>0.0</td><td>0.0</td><td>194.0</td><td>44.0</td><td>0.0</td><td>0.0</td><td>0.0</td><td>OnTime</td><td>0.0</td><td>(7,[],[])</td><td>(12,[2],[1.0])</td><td>0.0</td><td>(22,[0],[1.0])</td><td>[42.36429977,-71....</td><td>8</td><td>4.0</td><td>(19,[4],[1.0])</td><td>[38.748697,-90.37...</td><td>2</td><td>1.0</td><td>(19,[1],[1.0])</td><td>(10,[0,1,5,6],[39...</td><td>(10,[0,1,5,6],[0....</td><td>(89,[9,19,45,61,7...</td></tr><tr><td>-92.0</td><td>0.0</td><td>0.0</td><td>6</td><td>11</td><td>DL</td><td>40.63980103</td><td>-73.77890015</td><td>37.61899948120117</td><td>-122.375</td><td>111.0</td><td>28.0</td><td>0.0</td><td>0.0</td><td>0.0</td><td>211.0</td><td>139.0</td><td>0.0</td><td>0.0</td><td>0.0</td><td>OnTime</td><td>0.0</td><td>(7,[6],[1.0])</td><td>(12,[11],[1.0])</td><td>1.0</td><td>(22,[1],[1.0])</td><td>[40.63980103,-73....</td><td>8</td><td>4.0</td><td>(19,[4],[1.0])</td><td>[37.6189994812011...</td><td>11</td><td>7.0</td><td>(19,[7],[1.0])</td><td>(10,[0,1,5,6],[11...</td><td>(10,[0,1,5,6],[1....</td><td>(89,[6,18,20,45,6...</td></tr><tr><td>-89.0</td><td>0.0</td><td>0.0</td><td>6</td><td>11</td><td>AA</td><td>40.63980103</td><td>-73.77890015</td><td>33.94250107</td><td>-118.4079971</td><td>111.0</td><td>28.0</td><td>0.0</td><td>0.0</td><td>0.0</td><td>272.0</td><td>167.0</td><td>0.0</td><td>0.0</td><td>0.0</td><td>OnTime</td><td>0.0</td><td>(7,[6],[1.0])</td><td>(12,[11],[1.0])</td><td>2.0</td><td>(22,[2],[1.0])</td><td>[40.63980103,-73....</td><td>8</td><td>4.0</td><td>(19,[4],[1.0])</td><td>[33.94250107,-118...</td><td>1</td><td>0.0</td><td>(19,[0],[1.0])</td><td>(10,[0,1,5,6],[11...</td><td>(10,[0,1,5,6],[1....</td><td>(89,[6,18,21,45,6...</td></tr><tr><td>-88.0</td><td>0.0</td><td>0.0</td><td>2</td><td>4</td><td>YX</td><td>40.77719879</td><td>-73.87259674</td><td>42.36429977</td><td>-71.00520325</td><td>156.0</td><td>50.0</td><td>84.0</td><td>0.0</td><td>0.0</td><td>122.0</td><td>11.0</td><td>84.0</td><td>0.0</td><td>0.0</td><td>OnTime</td><td>0.0</td><td>(7,[2],[1.0])</td><td>(12,[4],[1.0])</td><td>12.0</td><td>(22,[12],[1.0])</td><td>[40.77719879,-73....</td><td>8</td><td>4.0</td><td>(19,[4],[1.0])</td><td>[42.36429977,-71....</td><td>13</td><td>13.0</td><td>(19,[13],[1.0])</td><td>[156.0,50.0,84.0,...</td><td>[1.50476210731395...</td><td>(89,[2,11,31,45,7...</td></tr></table><br /><pre>only showing top 5 rows</pre>"
      ],
      "text/plain": [
       "<IPython.core.display.HTML object>"
      ]
     },
     "metadata": {},
     "output_type": "display_data"
    }
   ],
   "source": [
    "%%pretty\n",
    "train_df.show(5)"
   ]
  },
  {
   "cell_type": "markdown",
   "id": "39cc85f8",
   "metadata": {},
   "source": [
    "The writing operation takes a while. \n",
    "It's recommended to increase the number of core nodes in the cluster at this point, if possible.\n",
    "Alternatively, this code can be run in a Glue Job that transforms the data,\n",
    "writes the partitions to S3, \n",
    "then serializes and saves the processing models."
   ]
  },
  {
   "cell_type": "code",
   "execution_count": 69,
   "id": "6641ab25",
   "metadata": {},
   "outputs": [
    {
     "data": {
      "application/vnd.jupyter.widget-view+json": {
       "model_id": "",
       "version_major": 2,
       "version_minor": 0
      },
      "text/plain": [
       "FloatProgress(value=0.0, bar_style='info', description='Progress:', layout=Layout(height='25px', width='50%'),…"
      ]
     },
     "metadata": {},
     "output_type": "display_data"
    }
   ],
   "source": [
    "# Save transformed training data to CSV in S3 by converting to RDD.\n",
    "train_lines = train_df.rdd.map(\n",
    "    lambda row: str(row.target) + \",\" + \",\".join(map(str, row.features.toArray()))\n",
    ")\n",
    "train_lines.saveAsTextFile(f\"s3a://{model_bucket}/preprocessing_output/train/\")"
   ]
  },
  {
   "cell_type": "code",
   "execution_count": 70,
   "id": "b06e9b5d",
   "metadata": {},
   "outputs": [
    {
     "data": {
      "application/vnd.jupyter.widget-view+json": {
       "model_id": "",
       "version_major": 2,
       "version_minor": 0
      },
      "text/plain": [
       "FloatProgress(value=0.0, bar_style='info', description='Progress:', layout=Layout(height='25px', width='50%'),…"
      ]
     },
     "metadata": {},
     "output_type": "display_data"
    }
   ],
   "source": [
    "# Save transformed training data to CSV in S3 by converting to RDD.\n",
    "validation_lines = validation_df.rdd.map(\n",
    "    lambda row: str(row.target) + \",\" + \",\".join(map(str, row.features.toArray()))\n",
    ")\n",
    "validation_lines.saveAsTextFile(f\"s3a://{model_bucket}/preprocessing_output/validation/\")"
   ]
  },
  {
   "cell_type": "code",
   "execution_count": 71,
   "id": "56f2a85f",
   "metadata": {},
   "outputs": [
    {
     "data": {
      "application/vnd.jupyter.widget-view+json": {
       "model_id": "",
       "version_major": 2,
       "version_minor": 0
      },
      "text/plain": [
       "FloatProgress(value=0.0, bar_style='info', description='Progress:', layout=Layout(height='25px', width='50%'),…"
      ]
     },
     "metadata": {},
     "output_type": "display_data"
    }
   ],
   "source": [
    "# Repeat the same saving method for the test data.\n",
    "test_lines = test_df.rdd.map(\n",
    "    lambda row: str(row.target) + \",\" + \",\".join(map(str, row.features.toArray()))\n",
    ")\n",
    "test_lines.saveAsTextFile(f\"s3a://{model_bucket}/preprocessing_output/test/\")"
   ]
  },
  {
   "cell_type": "markdown",
   "id": "29e0c8c9",
   "metadata": {},
   "source": [
    "## Serialize and store pipelines <a class=\"anchor\" id=\"store-pipeline\"></a>\n",
    "Spark pipelines and estimators must be serialized with MLeap to use with a Sagemaker model.\n",
    "Sagemaker will then read the model from S3 to use with a built SparkML image."
   ]
  },
  {
   "cell_type": "code",
   "execution_count": 64,
   "id": "693611cc",
   "metadata": {},
   "outputs": [
    {
     "data": {
      "application/vnd.jupyter.widget-view+json": {
       "model_id": "",
       "version_major": 2,
       "version_minor": 0
      },
      "text/plain": [
       "FloatProgress(value=0.0, bar_style='info', description='Progress:', layout=Layout(height='25px', width='50%'),…"
      ]
     },
     "metadata": {},
     "output_type": "display_data"
    }
   ],
   "source": [
    "# Serialize preproccesing pipeline.\n",
    "serializer = support.SimpleSparkSerializer()\n",
    "serializer.serializeToBundle(\n",
    "    preprocess_model, \n",
    "    \"jar:file:/tmp/preprocess.zip\", \n",
    "    transformed_input_df\n",
    ")"
   ]
  },
  {
   "cell_type": "code",
   "execution_count": 65,
   "id": "625759c9",
   "metadata": {},
   "outputs": [
    {
     "data": {
      "application/vnd.jupyter.widget-view+json": {
       "model_id": "",
       "version_major": 2,
       "version_minor": 0
      },
      "text/plain": [
       "FloatProgress(value=0.0, bar_style='info', description='Progress:', layout=Layout(height='25px', width='50%'),…"
      ]
     },
     "metadata": {},
     "output_type": "display_data"
    }
   ],
   "source": [
    "# Convert model zipfile to tarfile.\n",
    "with zipfile.ZipFile(\"/tmp/preprocess.zip\") as zf:\n",
    "    zf.extractall(\"/tmp/preprocess\")\n",
    "\n",
    "with tarfile.open(\"/tmp/preprocess.tar.gz\", \"w:gz\") as tar:\n",
    "    tar.add(\"/tmp/preprocess/bundle.json\", arcname=\"bundle.json\")\n",
    "    tar.add(\"/tmp/preprocess/root\", arcname=\"root\")\n",
    "\n",
    "# Write model to S3.\n",
    "s3 = boto3.resource(\"s3\")\n",
    "filename = \"spark_preprocessor/model.tar.gz\"\n",
    "s3.Bucket(model_bucket).upload_file(\"/tmp/preprocess.tar.gz\", filename)\n",
    "\n",
    "# Clean up local environment.\n",
    "os.remove(\"/tmp/preprocess.zip\")\n",
    "os.remove(\"/tmp/preprocess.tar.gz\")\n",
    "shutil.rmtree(\"/tmp/preprocess\")"
   ]
  },
  {
   "cell_type": "code",
   "execution_count": 66,
   "id": "06fa328a",
   "metadata": {},
   "outputs": [
    {
     "data": {
      "application/vnd.jupyter.widget-view+json": {
       "model_id": "",
       "version_major": 2,
       "version_minor": 0
      },
      "text/plain": [
       "FloatProgress(value=0.0, bar_style='info', description='Progress:', layout=Layout(height='25px', width='50%'),…"
      ]
     },
     "metadata": {},
     "output_type": "display_data"
    }
   ],
   "source": [
    "# Serialize postproccesing pipeline.\n",
    "serializer = support.SimpleSparkSerializer()\n",
    "serializer.serializeToBundle(\n",
    "    target_idx_decoder, \n",
    "    \"jar:file:/tmp/postprocess.zip\", \n",
    "    transformed_input_df\n",
    ")"
   ]
  },
  {
   "cell_type": "code",
   "execution_count": 67,
   "id": "d4246aac",
   "metadata": {},
   "outputs": [
    {
     "data": {
      "application/vnd.jupyter.widget-view+json": {
       "model_id": "",
       "version_major": 2,
       "version_minor": 0
      },
      "text/plain": [
       "FloatProgress(value=0.0, bar_style='info', description='Progress:', layout=Layout(height='25px', width='50%'),…"
      ]
     },
     "metadata": {},
     "output_type": "display_data"
    }
   ],
   "source": [
    "# Convert model zipfile to tarfile.\n",
    "with zipfile.ZipFile(\"/tmp/postprocess.zip\") as zf:\n",
    "    zf.extractall(\"/tmp/postprocess\")\n",
    "\n",
    "with tarfile.open(\"/tmp/postprocess.tar.gz\", \"w:gz\") as tar:\n",
    "    tar.add(\"/tmp/postprocess/bundle.json\", arcname=\"bundle.json\")\n",
    "    tar.add(\"/tmp/postprocess/root\", arcname=\"root\")\n",
    "\n",
    "# Write model to S3.\n",
    "s3 = boto3.resource(\"s3\")\n",
    "filename = \"spark_postprocessor/model.tar.gz\"\n",
    "s3.Bucket(model_bucket).upload_file(\"/tmp/postprocess.tar.gz\", filename)\n",
    "\n",
    "# Clean up local environment.\n",
    "os.remove(\"/tmp/postprocess.zip\")\n",
    "os.remove(\"/tmp/postprocess.tar.gz\")\n",
    "shutil.rmtree(\"/tmp/postprocess\")"
   ]
  },
  {
   "cell_type": "code",
   "execution_count": null,
   "id": "aa71d6a2",
   "metadata": {},
   "outputs": [],
   "source": []
  }
 ],
 "metadata": {
  "kernelspec": {
   "display_name": "Sparkmagic (PySpark)",
   "language": "python",
   "name": "pysparkkernel"
  },
  "language_info": {
   "codemirror_mode": {
    "name": "python",
    "version": 3
   },
   "file_extension": ".py",
   "mimetype": "text/x-python",
   "name": "pyspark",
   "pygments_lexer": "python3"
  }
 },
 "nbformat": 4,
 "nbformat_minor": 5
}
