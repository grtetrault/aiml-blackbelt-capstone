{
 "cells": [
  {
   "cell_type": "markdown",
   "id": "580701cd",
   "metadata": {},
   "source": [
    "# 3a - Training Amazon's XGBoost"
   ]
  },
  {
   "cell_type": "markdown",
   "id": "dba5bb91",
   "metadata": {},
   "source": [
    "## Introduction\n",
    "In this notebook, we will train Amazon's XGBoost implementation, evaluate the training performance, and output model artifacts."
   ]
  },
  {
   "cell_type": "markdown",
   "id": "c8004d71",
   "metadata": {},
   "source": [
    "## Setup"
   ]
  },
  {
   "cell_type": "code",
   "execution_count": 15,
   "id": "3c85a2f1",
   "metadata": {},
   "outputs": [],
   "source": [
    "import json\n",
    "import uuid\n",
    "import boto3\n",
    "import random\n",
    "import sagemaker as sm"
   ]
  },
  {
   "cell_type": "code",
   "execution_count": 16,
   "id": "479daa1d",
   "metadata": {},
   "outputs": [],
   "source": [
    "sm_session = sm.Session()\n",
    "role = sm.get_execution_role()\n",
    "boto3_session = boto3.session.Session()"
   ]
  },
  {
   "cell_type": "code",
   "execution_count": 17,
   "id": "5ed720d3",
   "metadata": {},
   "outputs": [],
   "source": [
    "# Get boto3 session attributes.\n",
    "account = boto3_session.client(\"sts\").get_caller_identity()[\"Account\"]\n",
    "region = boto3_session.region_name\n",
    "\n",
    "# Create S3 resource and retrieve data bucket name.\n",
    "s3_resource = boto3_session.resource(\"s3\")\n",
    "with open(\"/home/ec2-user/.aiml-bb/stack-data.json\", \"r\") as f:\n",
    "    data = json.load(f)\n",
    "    data_bucket = data[\"data_bucket\"]\n",
    "    model_bucket = data[\"model_bucket\"]"
   ]
  },
  {
   "cell_type": "markdown",
   "id": "f28982e7",
   "metadata": {},
   "source": [
    "## Define resources for estimator"
   ]
  },
  {
   "cell_type": "code",
   "execution_count": 18,
   "id": "a5512751",
   "metadata": {},
   "outputs": [],
   "source": [
    "# Get XGBoost container image for current region.\n",
    "xgb_container_image = sm.image_uris.retrieve(\"xgboost\", region, \"latest\")\n",
    "\n",
    "# Create a unique training job name.\n",
    "training_job_name = f\"xgboost-{str(uuid.uuid4())[:8]}\""
   ]
  },
  {
   "cell_type": "code",
   "execution_count": 19,
   "id": "4d9033fe",
   "metadata": {},
   "outputs": [],
   "source": [
    "train_input = sm.inputs.TrainingInput(\n",
    "    s3_data=f\"s3://{model_bucket}/preprocessing_output/train/\", \n",
    "    content_type=\"csv\"\n",
    ")\n",
    "validation_input = sm.inputs.TrainingInput(\n",
    "    s3_data=f\"s3://{model_bucket}/preprocessing_output/validation/\",\n",
    "    content_type=\"csv\"\n",
    ")"
   ]
  },
  {
   "cell_type": "markdown",
   "id": "e429c3c7",
   "metadata": {},
   "source": [
    "## Create and fit estimator"
   ]
  },
  {
   "cell_type": "code",
   "execution_count": 20,
   "id": "35dd3133",
   "metadata": {},
   "outputs": [],
   "source": [
    "# Create estimator running the XGBoost container.\n",
    "xgb_estimator = sm.estimator.Estimator(\n",
    "    xgb_container_image,\n",
    "    role, \n",
    "    instance_count=1, \n",
    "    instance_type=\"ml.m5.12xlarge\",\n",
    "    volume_size=50,\n",
    "    output_path=f\"s3://{model_bucket}/sagemaker-xgboost/\"\n",
    ")\n",
    "# Define all hyperparameters for the model.\n",
    "xgb_estimator.set_hyperparameters(\n",
    "    max_depth=5,\n",
    "    eta=0.2,\n",
    "    gamma=4,\n",
    "    min_child_weight=6,\n",
    "    subsample=0.8,\n",
    "    silent=0,\n",
    "    objective=\"binary:logistic\",\n",
    "    num_round=100\n",
    ")"
   ]
  },
  {
   "cell_type": "code",
   "execution_count": null,
   "id": "d63b5991",
   "metadata": {},
   "outputs": [
    {
     "name": "stdout",
     "output_type": "stream",
     "text": [
      "2022-01-26 02:54:02 Starting - Starting the training job...\n",
      "2022-01-26 02:54:26 Starting - Launching requested ML instancesProfilerReport-1643165642: InProgress\n",
      "......\n",
      "2022-01-26 02:55:26 Starting - Preparing the instances for training.........\n",
      "2022-01-26 02:56:56 Downloading - Downloading input data................."
     ]
    }
   ],
   "source": [
    "# Fit the model.\n",
    "xgb_estimator.fit({\"train\": train_input, \"validation\": validation_input})"
   ]
  },
  {
   "cell_type": "code",
   "execution_count": null,
   "id": "b6132f84",
   "metadata": {},
   "outputs": [],
   "source": []
  },
  {
   "cell_type": "code",
   "execution_count": null,
   "id": "fd88d529",
   "metadata": {},
   "outputs": [],
   "source": []
  },
  {
   "cell_type": "code",
   "execution_count": null,
   "id": "2db12d33",
   "metadata": {},
   "outputs": [],
   "source": []
  },
  {
   "cell_type": "code",
   "execution_count": null,
   "id": "bfc87a54",
   "metadata": {},
   "outputs": [],
   "source": []
  }
 ],
 "metadata": {
  "kernelspec": {
   "display_name": "conda_python3",
   "language": "python",
   "name": "conda_python3"
  },
  "language_info": {
   "codemirror_mode": {
    "name": "ipython",
    "version": 3
   },
   "file_extension": ".py",
   "mimetype": "text/x-python",
   "name": "python",
   "nbconvert_exporter": "python",
   "pygments_lexer": "ipython3",
   "version": "3.6.13"
  }
 },
 "nbformat": 4,
 "nbformat_minor": 5
}
