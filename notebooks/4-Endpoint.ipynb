{
 "cells": [
  {
   "cell_type": "markdown",
   "id": "d9489639",
   "metadata": {},
   "source": [
    "# 4 - Endpoint <a class=\"anchor\" id=\"top\"></a>\n",
    "* [Introduction](#intro)\n",
    "* [Setup](#setup)"
   ]
  },
  {
   "cell_type": "markdown",
   "id": "d7ed19c9",
   "metadata": {},
   "source": [
    "## Introduction <a class=\"anchor\" id=\"intro\"></a>\n",
    "In this last section, we create a Sagemaker endpoint to allow for real-time predictions using our trained models.\n",
    "After creating the endpoint, we will test a simple application that takes in basic flight information and returns \n",
    "the models prediction."
   ]
  },
  {
   "cell_type": "markdown",
   "id": "f2adecc5",
   "metadata": {},
   "source": [
    "## Setup <a class=\"anchor\" id=\"setup\"></a>\n",
    "First, we import Sageamker SDK dependencies as well as modules used in application below.\n",
    "We also get relevant sessions and read in local environment data."
   ]
  },
  {
   "cell_type": "code",
   "execution_count": 38,
   "id": "b434c1d7",
   "metadata": {},
   "outputs": [],
   "source": [
    "import xml\n",
    "import json\n",
    "import uuid\n",
    "import boto3\n",
    "import random\n",
    "import requests\n",
    "import numpy as np\n",
    "import pandas as pd\n",
    "import datetime as dt\n",
    "import dateutil.parser\n",
    "import sagemaker as sm\n",
    "import sagemaker.sparkml as sparkml"
   ]
  },
  {
   "cell_type": "code",
   "execution_count": 59,
   "id": "e2d65998",
   "metadata": {},
   "outputs": [],
   "source": [
    "# Get relevant sessions.\n",
    "sm_session = sm.Session()\n",
    "role = sm.get_execution_role()\n",
    "boto3_session = boto3.session.Session()\n",
    "now = dt.datetime.now().strftime(r\"%Y%m%dT%H%M%S\")"
   ]
  },
  {
   "cell_type": "code",
   "execution_count": 4,
   "id": "76389ede",
   "metadata": {},
   "outputs": [],
   "source": [
    "# Get boto3 session attributes.\n",
    "account = boto3_session.client(\"sts\").get_caller_identity()[\"Account\"]\n",
    "region = boto3_session.region_name\n",
    "s3_resource = boto3_session.resource(\"s3\")"
   ]
  },
  {
   "cell_type": "code",
   "execution_count": 5,
   "id": "2bd27d5f",
   "metadata": {},
   "outputs": [],
   "source": [
    "# Retrieve data bucket name.\n",
    "with open(\"/home/ec2-user/.aiml-bb/stack-data.json\", \"r\") as f:\n",
    "    data = json.load(f)\n",
    "    data_bucket = data[\"data_bucket\"]\n",
    "    model_bucket = data[\"model_bucket\"]"
   ]
  },
  {
   "cell_type": "markdown",
   "id": "178ae30a",
   "metadata": {},
   "source": [
    "## Define model\n",
    "To allow for a complete inference pipeline, we chain together the preprocessing, model inference/evaluation, and postprocessing.\n",
    "We will define each of these stages as a Sagemaker `Model` object, then chain them together into an inference pipeline."
   ]
  },
  {
   "cell_type": "code",
   "execution_count": 6,
   "id": "f46d545d",
   "metadata": {},
   "outputs": [],
   "source": [
    "# Required schema for input into preprocessing step.\n",
    "preprocess_schema_json = json.dumps({\n",
    "    \"input\": [\n",
    "        {\"name\": \"day_of_week\", \"type\": \"int\"},\n",
    "        {\"name\": \"month\", \"type\": \"int\"},\n",
    "        {\"name\": \"op_carrier\", \"type\": \"string\"},\n",
    "        {\"name\": \"origin\", \"type\": \"string\"}, \n",
    "        {\"name\": \"origin_latitude\", \"type\": \"double\"}, \n",
    "        {\"name\": \"origin_longitude\", \"type\": \"double\"},\n",
    "        {\"name\": \"dest\", \"type\": \"string\"}, \n",
    "        {\"name\": \"dest_latitude\", \"type\": \"double\"}, \n",
    "        {\"name\": \"dest_longitude\", \"type\": \"double\"},\n",
    "        {\"name\": \"origin_tmax\", \"type\": \"double\"}, \n",
    "        {\"name\": \"origin_tmin\", \"type\": \"double\"}, \n",
    "        {\"name\": \"origin_prcp\", \"type\": \"double\"}, \n",
    "        {\"name\": \"origin_snow\", \"type\": \"double\"}, \n",
    "        {\"name\": \"origin_snwd\", \"type\": \"double\"},\n",
    "        {\"name\": \"dest_tmax\", \"type\": \"double\"}, \n",
    "        {\"name\": \"dest_tmin\", \"type\": \"double\"}, \n",
    "        {\"name\": \"dest_prcp\", \"type\": \"double\"}, \n",
    "        {\"name\": \"dest_snow\", \"type\": \"double\"}, \n",
    "        {\"name\": \"dest_snwd\", \"type\": \"double\"}\n",
    "    ],\n",
    "     \"output\": {\"name\": \"features\", \"type\": \"double\", \"struct\": \"vector\"}\n",
    "})"
   ]
  },
  {
   "cell_type": "code",
   "execution_count": 7,
   "id": "14ebbbfa",
   "metadata": {},
   "outputs": [],
   "source": [
    "# Define the preprocessing model.\n",
    "preprocess_model = sparkml.model.SparkMLModel(\n",
    "    name=f\"spark-preprocessor-{now}\",\n",
    "    model_data=f\"s3://{model_bucket}/spark_preprocessor/model.tar.gz\",\n",
    "    spark_version=\"2.4\",\n",
    "    sagemaker_session=sm_session,\n",
    "    env={\"SAGEMAKER_SPARKML_SCHEMA\": preprocess_schema_json}\n",
    ")"
   ]
  },
  {
   "cell_type": "code",
   "execution_count": 8,
   "id": "41091e16",
   "metadata": {},
   "outputs": [],
   "source": [
    "# Define inference model.\n",
    "xgb_container_image = sm.image_uris.retrieve(\"xgboost\", region, \"latest\")\n",
    "inference_model = sm.model.Model(\n",
    "    image_uri=xgb_container_image,\n",
    "    model_data=f\"s3://{model_bucket}/sagemaker-xgboost-tuned/model.tar.gz\"\n",
    ")"
   ]
  },
  {
   "cell_type": "code",
   "execution_count": 60,
   "id": "02a43c1f",
   "metadata": {},
   "outputs": [
    {
     "name": "stdout",
     "output_type": "stream",
     "text": [
      "-----!"
     ]
    }
   ],
   "source": [
    "# Define complete inference pipeline model and deploy.\n",
    "pipeline_model = sm.pipeline.PipelineModel(\n",
    "    name=f\"sm-pipeline-{now}\",\n",
    "    role=role,\n",
    "    models=[\n",
    "        preprocess_model,\n",
    "        # inference_model\n",
    "    ]\n",
    ")\n",
    "endpoint_name = f\"pipeline-endpoint-{now}\"\n",
    "pipeline_model.deploy(\n",
    "    initial_instance_count=1,\n",
    "    instance_type=\"ml.m5.xlarge\",\n",
    "    endpoint_name=endpoint_name\n",
    ")"
   ]
  },
  {
   "cell_type": "code",
   "execution_count": 61,
   "id": "822498fe",
   "metadata": {},
   "outputs": [],
   "source": [
    "# Connect a predictor to the endpoint for inference.\n",
    "pipeline_predictor = sm.predictor.Predictor(\n",
    "    endpoint_name=endpoint_name,\n",
    "    sagemaker_session=sm_session,\n",
    "    serializer=sm.serializers.JSONSerializer()\n",
    ")"
   ]
  },
  {
   "cell_type": "markdown",
   "id": "906d9476",
   "metadata": {},
   "source": [
    "## Demo testing endpoint\n",
    "Test the endpoint in a simple application where the flight information is inputted, and a prediction is returned."
   ]
  },
  {
   "cell_type": "code",
   "execution_count": 62,
   "id": "458945bd",
   "metadata": {},
   "outputs": [],
   "source": [
    "# User inputted features.\n",
    "origin = \"JFK\"\n",
    "dest = \"LAX\"\n",
    "carrier = \"B6\"\n",
    "fl_date = \"2022-01-30\""
   ]
  },
  {
   "cell_type": "markdown",
   "id": "f7aab92f",
   "metadata": {},
   "source": [
    "All code below would be abstracted away from the user."
   ]
  },
  {
   "cell_type": "code",
   "execution_count": 63,
   "id": "2ea921a6",
   "metadata": {},
   "outputs": [],
   "source": [
    "# Get date attributes.\n",
    "today = dt.datetime.today().replace(hour=0, minute=0, second=0, microsecond=0)\n",
    "fl_datetime = dt.datetime.strptime(fl_date, r\"%Y-%m-%d\")\n",
    "day_of_week = fl_datetime.weekday() + 1\n",
    "month = fl_datetime.month"
   ]
  },
  {
   "cell_type": "code",
   "execution_count": 64,
   "id": "66a5f990",
   "metadata": {},
   "outputs": [],
   "source": [
    "# Get latitude and longitudes of airports.\n",
    "airport_df = pd.read_parquet(f\"s3://{data_bucket}/dl_output/airport_data\")\n",
    "get_iata_geolocation = (\n",
    "    lambda iata: \n",
    "    airport_df.loc[airport_df[\"iata\"]==iata, [\"latitude\", \"longitude\"]].iloc[0]\n",
    ")\n",
    "origin_lat, origin_lon = get_iata_geolocation(origin)\n",
    "dest_lat, dest_lon = get_iata_geolocation(dest)"
   ]
  },
  {
   "cell_type": "code",
   "execution_count": 65,
   "id": "1953be5a",
   "metadata": {},
   "outputs": [],
   "source": [
    "# Grab weather data.\n",
    "forecast_fqdn = \"https://graphical.weather.gov\"\n",
    "get_geolocation_forecast = (\n",
    "    lambda lat, lon:\n",
    "    xml.etree.ElementTree.fromstring(\n",
    "        requests.get(\n",
    "            f\"{forecast_fqdn}/xml/SOAP_server/ndfdXMLclient.php\",\n",
    "            params={\n",
    "                \"lat\": lat, \"lon\": lon,\n",
    "                \"begin\": today.isoformat(), \n",
    "                \"end\": (today + dt.timedelta(days=7)).isoformat(),\n",
    "                \"Unit\": \"m\",\n",
    "                \"maxt\": \"maxt\", \"mint\": \"mint\",\n",
    "                \"qpf\": \"qpf\", \"snow\": \"snow\",\n",
    "                \"product\": \"time-series\",\n",
    "                \"Submit\": \"Submit\"\n",
    "            }\n",
    "        ).content\n",
    "    )\n",
    ")\n",
    "origin_forecast = get_geolocation_forecast(origin_lat, origin_lon) \n",
    "dest_forecast = get_geolocation_forecast(dest_lat, dest_lon)"
   ]
  },
  {
   "cell_type": "code",
   "execution_count": 66,
   "id": "cbd1fb48",
   "metadata": {},
   "outputs": [],
   "source": [
    "# Define function to get averages of date values in XML.\n",
    "def get_avg_xml_value(xml_tree, field, datetime=fl_datetime):\n",
    "    # Get date index key.\n",
    "    layout_key = xml_tree.find(f\".//*{field}\").attrib[\"time-layout\"]\n",
    "    \n",
    "    # Find indices of dates matching date in question.\n",
    "    idxs = []\n",
    "    for idx, date in enumerate(xml_tree.findall(f\".//*time-layout/start-valid-time\")):\n",
    "        datetime = dateutil.parser.parse(date.text)\n",
    "        if fl_datetime.strftime(\"%Y-%m-%d\") == datetime.strftime(\"%Y-%m-%d\"):\n",
    "            idxs.append(idx)\n",
    "            \n",
    "    if not idxs:\n",
    "        raise ValueError(\"Date invalid, no data found for field. Possibly too far into the future.\")\n",
    "            \n",
    "    # Data is for different times of day so we take mean.\n",
    "    # Zero is added so we default in case of no data (e.g. with snow).\n",
    "    val_sum = 0.0\n",
    "    for idx, val in enumerate(xml_tree.findall(f\".//*{field}/value\")):\n",
    "        if idx in idxs:\n",
    "            val_sum += float(val.text)\n",
    "            \n",
    "    return val_sum / len(idxs)"
   ]
  },
  {
   "cell_type": "code",
   "execution_count": 67,
   "id": "6df9ba2e",
   "metadata": {},
   "outputs": [],
   "source": [
    "# Get forecast values and convert to dataset formats.\n",
    "# In NOAA weather data, all values are scaled by 1/10.\n",
    "origin_tmax = 0.10 * get_avg_xml_value(origin_forecast, \"temperature[@type='maximum']\")\n",
    "origin_tmin = 0.10 * get_avg_xml_value(origin_forecast, \"temperature[@type='minimum']\")\n",
    "origin_snwd = 0.10 * get_avg_xml_value(origin_forecast, \"precipitation[@type='snow']\")\n",
    "origin_liquid = 0.10 * get_avg_xml_value(origin_forecast, \"precipitation[@type='liquid']\")\n",
    "\n",
    "dest_tmax = 0.10 * get_avg_xml_value(dest_forecast, \"temperature[@type='maximum']\")\n",
    "dest_tmin = 0.10 * get_avg_xml_value(dest_forecast, \"temperature[@type='minimum']\")\n",
    "dest_snwd = 0.10 * get_avg_xml_value(dest_forecast, \"precipitation[@type='snow']\")\n",
    "dest_liquid = 0.10 * get_avg_xml_value(dest_forecast, \"precipitation[@type='liquid']\")\n",
    "\n",
    "# This snow to liquid ratio is often assumed, however can be inaccurate.\n",
    "# It is suitable for demonstration purposes, but may need more acccurate \n",
    "# inspection in production use cases.\n",
    "snow_to_liquid_ration = 10.0\n",
    "\n",
    "origin_avg = (origin_tmax + origin_tmin) / 2\n",
    "origin_prcp = origin_liquid if origin_avg > 0 else 0\n",
    "origin_snow = 0 if origin_avg > 0 else snow_to_liquid_ration * origin_liquid\n",
    "\n",
    "dest_avg = (dest_tmax + dest_tmin) / 2\n",
    "dest_prcp = dest_liquid if dest_avg > 0 else 0\n",
    "dest_snow = 0 if dest_avg > 0 else snow_to_liquid_ration * dest_liquid"
   ]
  },
  {
   "cell_type": "markdown",
   "id": "81750e7d",
   "metadata": {},
   "source": [
    "### Make call to endpoint\n",
    "Send data to the endpoint and make the prediction."
   ]
  },
  {
   "cell_type": "code",
   "execution_count": 69,
   "id": "f91c5f8d",
   "metadata": {
    "scrolled": true
   },
   "outputs": [
    {
     "name": "stdout",
     "output_type": "stream",
     "text": [
      "87\n"
     ]
    }
   ],
   "source": [
    "payload =  {\"data\": [\n",
    "    day_of_week, month, \n",
    "    carrier, \n",
    "    origin, origin_lat, origin_lon, \n",
    "    dest, dest_lat, dest_lon,\n",
    "    origin_tmax, origin_tmin, origin_prcp, origin_snow, origin_snwd,\n",
    "    dest_tmax, dest_tmin, dest_prcp, dest_snow, dest_snwd\n",
    "]}\n",
    "print(len(pipeline_predictor.predict(payload).split(b\",\")))"
   ]
  },
  {
   "cell_type": "code",
   "execution_count": null,
   "id": "f422915c",
   "metadata": {},
   "outputs": [],
   "source": []
  },
  {
   "cell_type": "markdown",
   "id": "4368b31d",
   "metadata": {},
   "source": [
    "## Cleanup resources\n",
    "Because this is a temporary project, delete the endpoint."
   ]
  },
  {
   "cell_type": "code",
   "execution_count": 57,
   "id": "3734c4c1",
   "metadata": {},
   "outputs": [
    {
     "ename": "ClientError",
     "evalue": "An error occurred (ValidationException) when calling the DeleteEndpoint operation: Could not find endpoint \"arn:aws:sagemaker:us-east-1:246778806733:endpoint/pipeline-endpoint-20220127t030315\".",
     "output_type": "error",
     "traceback": [
      "\u001b[0;31m---------------------------------------------------------------------------\u001b[0m",
      "\u001b[0;31mClientError\u001b[0m                               Traceback (most recent call last)",
      "\u001b[0;32m<ipython-input-57-11920a392dbe>\u001b[0m in \u001b[0;36m<module>\u001b[0;34m\u001b[0m\n\u001b[0;32m----> 1\u001b[0;31m \u001b[0msm_session\u001b[0m\u001b[0;34m.\u001b[0m\u001b[0mdelete_endpoint\u001b[0m\u001b[0;34m(\u001b[0m\u001b[0mendpoint_name\u001b[0m\u001b[0;34m)\u001b[0m\u001b[0;34m\u001b[0m\u001b[0;34m\u001b[0m\u001b[0m\n\u001b[0m",
      "\u001b[0;32m~/anaconda3/envs/python3/lib/python3.6/site-packages/sagemaker/session.py\u001b[0m in \u001b[0;36mdelete_endpoint\u001b[0;34m(self, endpoint_name)\u001b[0m\n\u001b[1;32m   3115\u001b[0m         \"\"\"\n\u001b[1;32m   3116\u001b[0m         \u001b[0mLOGGER\u001b[0m\u001b[0;34m.\u001b[0m\u001b[0minfo\u001b[0m\u001b[0;34m(\u001b[0m\u001b[0;34m\"Deleting endpoint with name: %s\"\u001b[0m\u001b[0;34m,\u001b[0m \u001b[0mendpoint_name\u001b[0m\u001b[0;34m)\u001b[0m\u001b[0;34m\u001b[0m\u001b[0;34m\u001b[0m\u001b[0m\n\u001b[0;32m-> 3117\u001b[0;31m         \u001b[0mself\u001b[0m\u001b[0;34m.\u001b[0m\u001b[0msagemaker_client\u001b[0m\u001b[0;34m.\u001b[0m\u001b[0mdelete_endpoint\u001b[0m\u001b[0;34m(\u001b[0m\u001b[0mEndpointName\u001b[0m\u001b[0;34m=\u001b[0m\u001b[0mendpoint_name\u001b[0m\u001b[0;34m)\u001b[0m\u001b[0;34m\u001b[0m\u001b[0;34m\u001b[0m\u001b[0m\n\u001b[0m\u001b[1;32m   3118\u001b[0m \u001b[0;34m\u001b[0m\u001b[0m\n\u001b[1;32m   3119\u001b[0m     \u001b[0;32mdef\u001b[0m \u001b[0mdelete_endpoint_config\u001b[0m\u001b[0;34m(\u001b[0m\u001b[0mself\u001b[0m\u001b[0;34m,\u001b[0m \u001b[0mendpoint_config_name\u001b[0m\u001b[0;34m)\u001b[0m\u001b[0;34m:\u001b[0m\u001b[0;34m\u001b[0m\u001b[0;34m\u001b[0m\u001b[0m\n",
      "\u001b[0;32m~/anaconda3/envs/python3/lib/python3.6/site-packages/botocore/client.py\u001b[0m in \u001b[0;36m_api_call\u001b[0;34m(self, *args, **kwargs)\u001b[0m\n\u001b[1;32m    389\u001b[0m                     \"%s() only accepts keyword arguments.\" % py_operation_name)\n\u001b[1;32m    390\u001b[0m             \u001b[0;31m# The \"self\" in this scope is referring to the BaseClient.\u001b[0m\u001b[0;34m\u001b[0m\u001b[0;34m\u001b[0m\u001b[0;34m\u001b[0m\u001b[0m\n\u001b[0;32m--> 391\u001b[0;31m             \u001b[0;32mreturn\u001b[0m \u001b[0mself\u001b[0m\u001b[0;34m.\u001b[0m\u001b[0m_make_api_call\u001b[0m\u001b[0;34m(\u001b[0m\u001b[0moperation_name\u001b[0m\u001b[0;34m,\u001b[0m \u001b[0mkwargs\u001b[0m\u001b[0;34m)\u001b[0m\u001b[0;34m\u001b[0m\u001b[0;34m\u001b[0m\u001b[0m\n\u001b[0m\u001b[1;32m    392\u001b[0m \u001b[0;34m\u001b[0m\u001b[0m\n\u001b[1;32m    393\u001b[0m         \u001b[0m_api_call\u001b[0m\u001b[0;34m.\u001b[0m\u001b[0m__name__\u001b[0m \u001b[0;34m=\u001b[0m \u001b[0mstr\u001b[0m\u001b[0;34m(\u001b[0m\u001b[0mpy_operation_name\u001b[0m\u001b[0;34m)\u001b[0m\u001b[0;34m\u001b[0m\u001b[0;34m\u001b[0m\u001b[0m\n",
      "\u001b[0;32m~/anaconda3/envs/python3/lib/python3.6/site-packages/botocore/client.py\u001b[0m in \u001b[0;36m_make_api_call\u001b[0;34m(self, operation_name, api_params)\u001b[0m\n\u001b[1;32m    717\u001b[0m             \u001b[0merror_code\u001b[0m \u001b[0;34m=\u001b[0m \u001b[0mparsed_response\u001b[0m\u001b[0;34m.\u001b[0m\u001b[0mget\u001b[0m\u001b[0;34m(\u001b[0m\u001b[0;34m\"Error\"\u001b[0m\u001b[0;34m,\u001b[0m \u001b[0;34m{\u001b[0m\u001b[0;34m}\u001b[0m\u001b[0;34m)\u001b[0m\u001b[0;34m.\u001b[0m\u001b[0mget\u001b[0m\u001b[0;34m(\u001b[0m\u001b[0;34m\"Code\"\u001b[0m\u001b[0;34m)\u001b[0m\u001b[0;34m\u001b[0m\u001b[0;34m\u001b[0m\u001b[0m\n\u001b[1;32m    718\u001b[0m             \u001b[0merror_class\u001b[0m \u001b[0;34m=\u001b[0m \u001b[0mself\u001b[0m\u001b[0;34m.\u001b[0m\u001b[0mexceptions\u001b[0m\u001b[0;34m.\u001b[0m\u001b[0mfrom_code\u001b[0m\u001b[0;34m(\u001b[0m\u001b[0merror_code\u001b[0m\u001b[0;34m)\u001b[0m\u001b[0;34m\u001b[0m\u001b[0;34m\u001b[0m\u001b[0m\n\u001b[0;32m--> 719\u001b[0;31m             \u001b[0;32mraise\u001b[0m \u001b[0merror_class\u001b[0m\u001b[0;34m(\u001b[0m\u001b[0mparsed_response\u001b[0m\u001b[0;34m,\u001b[0m \u001b[0moperation_name\u001b[0m\u001b[0;34m)\u001b[0m\u001b[0;34m\u001b[0m\u001b[0;34m\u001b[0m\u001b[0m\n\u001b[0m\u001b[1;32m    720\u001b[0m         \u001b[0;32melse\u001b[0m\u001b[0;34m:\u001b[0m\u001b[0;34m\u001b[0m\u001b[0;34m\u001b[0m\u001b[0m\n\u001b[1;32m    721\u001b[0m             \u001b[0;32mreturn\u001b[0m \u001b[0mparsed_response\u001b[0m\u001b[0;34m\u001b[0m\u001b[0;34m\u001b[0m\u001b[0m\n",
      "\u001b[0;31mClientError\u001b[0m: An error occurred (ValidationException) when calling the DeleteEndpoint operation: Could not find endpoint \"arn:aws:sagemaker:us-east-1:246778806733:endpoint/pipeline-endpoint-20220127t030315\"."
     ]
    }
   ],
   "source": [
    "sm_session.delete_endpoint(endpoint_name)"
   ]
  },
  {
   "cell_type": "code",
   "execution_count": null,
   "id": "38ea0560",
   "metadata": {},
   "outputs": [],
   "source": []
  }
 ],
 "metadata": {
  "kernelspec": {
   "display_name": "conda_python3",
   "language": "python",
   "name": "conda_python3"
  },
  "language_info": {
   "codemirror_mode": {
    "name": "ipython",
    "version": 3
   },
   "file_extension": ".py",
   "mimetype": "text/x-python",
   "name": "python",
   "nbconvert_exporter": "python",
   "pygments_lexer": "ipython3",
   "version": "3.6.13"
  }
 },
 "nbformat": 4,
 "nbformat_minor": 5
}
